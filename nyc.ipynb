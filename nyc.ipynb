{
 "cells": [
  {
   "cell_type": "code",
   "execution_count": 74,
   "metadata": {},
   "outputs": [],
   "source": [
    "import pandas as pd\n",
    "import numpy as np\n",
    "import matplotlib.pyplot as plt\n",
    "import seaborn as sns\n",
    "\n",
    "from sklearn.model_selection import train_test_split\n",
    "from sklearn.ensemble import RandomForestClassifier\n",
    "from sklearn.metrics import mean_squared_error"
   ]
  },
  {
   "cell_type": "code",
   "execution_count": 2,
   "metadata": {
    "scrolled": true
   },
   "outputs": [
    {
     "name": "stderr",
     "output_type": "stream",
     "text": [
      "/Users/catharinewu/opt/anaconda3/lib/python3.7/site-packages/IPython/core/interactiveshell.py:3058: DtypeWarning: Columns (61,62,94,95) have mixed types. Specify dtype option on import or set low_memory=False.\n",
      "  interactivity=interactivity, compiler=compiler, result=result)\n"
     ]
    }
   ],
   "source": [
    "nyc_listing = pd.read_csv('listings_nyc.csv')"
   ]
  },
  {
   "cell_type": "code",
   "execution_count": 3,
   "metadata": {
    "scrolled": false
   },
   "outputs": [
    {
     "data": {
      "text/html": [
       "<div>\n",
       "<style scoped>\n",
       "    .dataframe tbody tr th:only-of-type {\n",
       "        vertical-align: middle;\n",
       "    }\n",
       "\n",
       "    .dataframe tbody tr th {\n",
       "        vertical-align: top;\n",
       "    }\n",
       "\n",
       "    .dataframe thead th {\n",
       "        text-align: right;\n",
       "    }\n",
       "</style>\n",
       "<table border=\"1\" class=\"dataframe\">\n",
       "  <thead>\n",
       "    <tr style=\"text-align: right;\">\n",
       "      <th></th>\n",
       "      <th>id</th>\n",
       "      <th>listing_url</th>\n",
       "      <th>scrape_id</th>\n",
       "      <th>last_scraped</th>\n",
       "      <th>name</th>\n",
       "      <th>summary</th>\n",
       "      <th>space</th>\n",
       "      <th>description</th>\n",
       "      <th>experiences_offered</th>\n",
       "      <th>neighborhood_overview</th>\n",
       "      <th>...</th>\n",
       "      <th>instant_bookable</th>\n",
       "      <th>is_business_travel_ready</th>\n",
       "      <th>cancellation_policy</th>\n",
       "      <th>require_guest_profile_picture</th>\n",
       "      <th>require_guest_phone_verification</th>\n",
       "      <th>calculated_host_listings_count</th>\n",
       "      <th>calculated_host_listings_count_entire_homes</th>\n",
       "      <th>calculated_host_listings_count_private_rooms</th>\n",
       "      <th>calculated_host_listings_count_shared_rooms</th>\n",
       "      <th>reviews_per_month</th>\n",
       "    </tr>\n",
       "  </thead>\n",
       "  <tbody>\n",
       "    <tr>\n",
       "      <td>0</td>\n",
       "      <td>2060</td>\n",
       "      <td>https://www.airbnb.com/rooms/2060</td>\n",
       "      <td>20200408162728</td>\n",
       "      <td>2020-04-09</td>\n",
       "      <td>Modern NYC</td>\n",
       "      <td>NaN</td>\n",
       "      <td>Lovely, spacious, sunny 1 BR apartment in 6th ...</td>\n",
       "      <td>Lovely, spacious, sunny 1 BR apartment in 6th ...</td>\n",
       "      <td>none</td>\n",
       "      <td>NaN</td>\n",
       "      <td>...</td>\n",
       "      <td>f</td>\n",
       "      <td>f</td>\n",
       "      <td>flexible</td>\n",
       "      <td>f</td>\n",
       "      <td>f</td>\n",
       "      <td>1</td>\n",
       "      <td>0</td>\n",
       "      <td>1</td>\n",
       "      <td>0</td>\n",
       "      <td>0.01</td>\n",
       "    </tr>\n",
       "    <tr>\n",
       "      <td>1</td>\n",
       "      <td>2595</td>\n",
       "      <td>https://www.airbnb.com/rooms/2595</td>\n",
       "      <td>20200408162728</td>\n",
       "      <td>2020-04-10</td>\n",
       "      <td>Skylit Midtown Castle</td>\n",
       "      <td>Beautiful, spacious skylit studio in the heart...</td>\n",
       "      <td>- Spacious (500+ft²), immaculate and nicely fu...</td>\n",
       "      <td>Beautiful, spacious skylit studio in the heart...</td>\n",
       "      <td>none</td>\n",
       "      <td>Centrally located in the heart of Manhattan ju...</td>\n",
       "      <td>...</td>\n",
       "      <td>f</td>\n",
       "      <td>f</td>\n",
       "      <td>strict_14_with_grace_period</td>\n",
       "      <td>t</td>\n",
       "      <td>t</td>\n",
       "      <td>2</td>\n",
       "      <td>2</td>\n",
       "      <td>0</td>\n",
       "      <td>0</td>\n",
       "      <td>0.38</td>\n",
       "    </tr>\n",
       "    <tr>\n",
       "      <td>2</td>\n",
       "      <td>3831</td>\n",
       "      <td>https://www.airbnb.com/rooms/3831</td>\n",
       "      <td>20200408162728</td>\n",
       "      <td>2020-04-11</td>\n",
       "      <td>Cozy Entire Floor of Brownstone</td>\n",
       "      <td>Urban retreat: enjoy 500 s.f. floor in 1899 br...</td>\n",
       "      <td>Greetings!      We own a double-duplex brownst...</td>\n",
       "      <td>Urban retreat: enjoy 500 s.f. floor in 1899 br...</td>\n",
       "      <td>none</td>\n",
       "      <td>Just the right mix of urban center and local n...</td>\n",
       "      <td>...</td>\n",
       "      <td>f</td>\n",
       "      <td>f</td>\n",
       "      <td>moderate</td>\n",
       "      <td>f</td>\n",
       "      <td>f</td>\n",
       "      <td>1</td>\n",
       "      <td>1</td>\n",
       "      <td>0</td>\n",
       "      <td>0</td>\n",
       "      <td>4.68</td>\n",
       "    </tr>\n",
       "    <tr>\n",
       "      <td>3</td>\n",
       "      <td>5099</td>\n",
       "      <td>https://www.airbnb.com/rooms/5099</td>\n",
       "      <td>20200408162728</td>\n",
       "      <td>2020-04-10</td>\n",
       "      <td>Large Cozy 1 BR Apartment In Midtown East</td>\n",
       "      <td>My large 1 bedroom apartment has a true New Yo...</td>\n",
       "      <td>I have a large 1 bedroom apartment centrally l...</td>\n",
       "      <td>My large 1 bedroom apartment has a true New Yo...</td>\n",
       "      <td>none</td>\n",
       "      <td>My neighborhood in Midtown East is called Murr...</td>\n",
       "      <td>...</td>\n",
       "      <td>f</td>\n",
       "      <td>f</td>\n",
       "      <td>moderate</td>\n",
       "      <td>t</td>\n",
       "      <td>t</td>\n",
       "      <td>1</td>\n",
       "      <td>1</td>\n",
       "      <td>0</td>\n",
       "      <td>0</td>\n",
       "      <td>0.58</td>\n",
       "    </tr>\n",
       "    <tr>\n",
       "      <td>4</td>\n",
       "      <td>5121</td>\n",
       "      <td>https://www.airbnb.com/rooms/5121</td>\n",
       "      <td>20200408162728</td>\n",
       "      <td>2020-04-09</td>\n",
       "      <td>BlissArtsSpace!</td>\n",
       "      <td>NaN</td>\n",
       "      <td>HELLO EVERYONE AND THANKS FOR VISITING BLISS A...</td>\n",
       "      <td>HELLO EVERYONE AND THANKS FOR VISITING BLISS A...</td>\n",
       "      <td>none</td>\n",
       "      <td>NaN</td>\n",
       "      <td>...</td>\n",
       "      <td>f</td>\n",
       "      <td>f</td>\n",
       "      <td>strict_14_with_grace_period</td>\n",
       "      <td>f</td>\n",
       "      <td>f</td>\n",
       "      <td>1</td>\n",
       "      <td>0</td>\n",
       "      <td>1</td>\n",
       "      <td>0</td>\n",
       "      <td>0.38</td>\n",
       "    </tr>\n",
       "  </tbody>\n",
       "</table>\n",
       "<p>5 rows × 106 columns</p>\n",
       "</div>"
      ],
      "text/plain": [
       "     id                        listing_url       scrape_id last_scraped  \\\n",
       "0  2060  https://www.airbnb.com/rooms/2060  20200408162728   2020-04-09   \n",
       "1  2595  https://www.airbnb.com/rooms/2595  20200408162728   2020-04-10   \n",
       "2  3831  https://www.airbnb.com/rooms/3831  20200408162728   2020-04-11   \n",
       "3  5099  https://www.airbnb.com/rooms/5099  20200408162728   2020-04-10   \n",
       "4  5121  https://www.airbnb.com/rooms/5121  20200408162728   2020-04-09   \n",
       "\n",
       "                                        name  \\\n",
       "0                                 Modern NYC   \n",
       "1                      Skylit Midtown Castle   \n",
       "2            Cozy Entire Floor of Brownstone   \n",
       "3  Large Cozy 1 BR Apartment In Midtown East   \n",
       "4                            BlissArtsSpace!   \n",
       "\n",
       "                                             summary  \\\n",
       "0                                                NaN   \n",
       "1  Beautiful, spacious skylit studio in the heart...   \n",
       "2  Urban retreat: enjoy 500 s.f. floor in 1899 br...   \n",
       "3  My large 1 bedroom apartment has a true New Yo...   \n",
       "4                                                NaN   \n",
       "\n",
       "                                               space  \\\n",
       "0  Lovely, spacious, sunny 1 BR apartment in 6th ...   \n",
       "1  - Spacious (500+ft²), immaculate and nicely fu...   \n",
       "2  Greetings!      We own a double-duplex brownst...   \n",
       "3  I have a large 1 bedroom apartment centrally l...   \n",
       "4  HELLO EVERYONE AND THANKS FOR VISITING BLISS A...   \n",
       "\n",
       "                                         description experiences_offered  \\\n",
       "0  Lovely, spacious, sunny 1 BR apartment in 6th ...                none   \n",
       "1  Beautiful, spacious skylit studio in the heart...                none   \n",
       "2  Urban retreat: enjoy 500 s.f. floor in 1899 br...                none   \n",
       "3  My large 1 bedroom apartment has a true New Yo...                none   \n",
       "4  HELLO EVERYONE AND THANKS FOR VISITING BLISS A...                none   \n",
       "\n",
       "                               neighborhood_overview  ... instant_bookable  \\\n",
       "0                                                NaN  ...                f   \n",
       "1  Centrally located in the heart of Manhattan ju...  ...                f   \n",
       "2  Just the right mix of urban center and local n...  ...                f   \n",
       "3  My neighborhood in Midtown East is called Murr...  ...                f   \n",
       "4                                                NaN  ...                f   \n",
       "\n",
       "  is_business_travel_ready          cancellation_policy  \\\n",
       "0                        f                     flexible   \n",
       "1                        f  strict_14_with_grace_period   \n",
       "2                        f                     moderate   \n",
       "3                        f                     moderate   \n",
       "4                        f  strict_14_with_grace_period   \n",
       "\n",
       "  require_guest_profile_picture require_guest_phone_verification  \\\n",
       "0                             f                                f   \n",
       "1                             t                                t   \n",
       "2                             f                                f   \n",
       "3                             t                                t   \n",
       "4                             f                                f   \n",
       "\n",
       "   calculated_host_listings_count  \\\n",
       "0                               1   \n",
       "1                               2   \n",
       "2                               1   \n",
       "3                               1   \n",
       "4                               1   \n",
       "\n",
       "   calculated_host_listings_count_entire_homes  \\\n",
       "0                                            0   \n",
       "1                                            2   \n",
       "2                                            1   \n",
       "3                                            1   \n",
       "4                                            0   \n",
       "\n",
       "  calculated_host_listings_count_private_rooms  \\\n",
       "0                                            1   \n",
       "1                                            0   \n",
       "2                                            0   \n",
       "3                                            0   \n",
       "4                                            1   \n",
       "\n",
       "   calculated_host_listings_count_shared_rooms  reviews_per_month  \n",
       "0                                            0               0.01  \n",
       "1                                            0               0.38  \n",
       "2                                            0               4.68  \n",
       "3                                            0               0.58  \n",
       "4                                            0               0.38  \n",
       "\n",
       "[5 rows x 106 columns]"
      ]
     },
     "execution_count": 3,
     "metadata": {},
     "output_type": "execute_result"
    }
   ],
   "source": [
    "nyc_listing.head()"
   ]
  },
  {
   "cell_type": "code",
   "execution_count": 4,
   "metadata": {},
   "outputs": [
    {
     "data": {
      "text/plain": [
       "['id',\n",
       " 'listing_url',\n",
       " 'scrape_id',\n",
       " 'last_scraped',\n",
       " 'name',\n",
       " 'summary',\n",
       " 'space',\n",
       " 'description',\n",
       " 'experiences_offered',\n",
       " 'neighborhood_overview',\n",
       " 'notes',\n",
       " 'transit',\n",
       " 'access',\n",
       " 'interaction',\n",
       " 'house_rules',\n",
       " 'thumbnail_url',\n",
       " 'medium_url',\n",
       " 'picture_url',\n",
       " 'xl_picture_url',\n",
       " 'host_id',\n",
       " 'host_url',\n",
       " 'host_name',\n",
       " 'host_since',\n",
       " 'host_location',\n",
       " 'host_about',\n",
       " 'host_response_time',\n",
       " 'host_response_rate',\n",
       " 'host_acceptance_rate',\n",
       " 'host_is_superhost',\n",
       " 'host_thumbnail_url',\n",
       " 'host_picture_url',\n",
       " 'host_neighbourhood',\n",
       " 'host_listings_count',\n",
       " 'host_total_listings_count',\n",
       " 'host_verifications',\n",
       " 'host_has_profile_pic',\n",
       " 'host_identity_verified',\n",
       " 'street',\n",
       " 'neighbourhood',\n",
       " 'neighbourhood_cleansed',\n",
       " 'neighbourhood_group_cleansed',\n",
       " 'city',\n",
       " 'state',\n",
       " 'zipcode',\n",
       " 'market',\n",
       " 'smart_location',\n",
       " 'country_code',\n",
       " 'country',\n",
       " 'latitude',\n",
       " 'longitude',\n",
       " 'is_location_exact',\n",
       " 'property_type',\n",
       " 'room_type',\n",
       " 'accommodates',\n",
       " 'bathrooms',\n",
       " 'bedrooms',\n",
       " 'beds',\n",
       " 'bed_type',\n",
       " 'amenities',\n",
       " 'square_feet',\n",
       " 'price',\n",
       " 'weekly_price',\n",
       " 'monthly_price',\n",
       " 'security_deposit',\n",
       " 'cleaning_fee',\n",
       " 'guests_included',\n",
       " 'extra_people',\n",
       " 'minimum_nights',\n",
       " 'maximum_nights',\n",
       " 'minimum_minimum_nights',\n",
       " 'maximum_minimum_nights',\n",
       " 'minimum_maximum_nights',\n",
       " 'maximum_maximum_nights',\n",
       " 'minimum_nights_avg_ntm',\n",
       " 'maximum_nights_avg_ntm',\n",
       " 'calendar_updated',\n",
       " 'has_availability',\n",
       " 'availability_30',\n",
       " 'availability_60',\n",
       " 'availability_90',\n",
       " 'availability_365',\n",
       " 'calendar_last_scraped',\n",
       " 'number_of_reviews',\n",
       " 'number_of_reviews_ltm',\n",
       " 'first_review',\n",
       " 'last_review',\n",
       " 'review_scores_rating',\n",
       " 'review_scores_accuracy',\n",
       " 'review_scores_cleanliness',\n",
       " 'review_scores_checkin',\n",
       " 'review_scores_communication',\n",
       " 'review_scores_location',\n",
       " 'review_scores_value',\n",
       " 'requires_license',\n",
       " 'license',\n",
       " 'jurisdiction_names',\n",
       " 'instant_bookable',\n",
       " 'is_business_travel_ready',\n",
       " 'cancellation_policy',\n",
       " 'require_guest_profile_picture',\n",
       " 'require_guest_phone_verification',\n",
       " 'calculated_host_listings_count',\n",
       " 'calculated_host_listings_count_entire_homes',\n",
       " 'calculated_host_listings_count_private_rooms',\n",
       " 'calculated_host_listings_count_shared_rooms',\n",
       " 'reviews_per_month']"
      ]
     },
     "execution_count": 4,
     "metadata": {},
     "output_type": "execute_result"
    }
   ],
   "source": [
    "nyc_listing.columns.tolist()"
   ]
  },
  {
   "cell_type": "code",
   "execution_count": 5,
   "metadata": {
    "scrolled": true
   },
   "outputs": [
    {
     "data": {
      "text/html": [
       "<div>\n",
       "<style scoped>\n",
       "    .dataframe tbody tr th:only-of-type {\n",
       "        vertical-align: middle;\n",
       "    }\n",
       "\n",
       "    .dataframe tbody tr th {\n",
       "        vertical-align: top;\n",
       "    }\n",
       "\n",
       "    .dataframe thead th {\n",
       "        text-align: right;\n",
       "    }\n",
       "</style>\n",
       "<table border=\"1\" class=\"dataframe\">\n",
       "  <thead>\n",
       "    <tr style=\"text-align: right;\">\n",
       "      <th></th>\n",
       "      <th>latitude</th>\n",
       "      <th>longitude</th>\n",
       "    </tr>\n",
       "  </thead>\n",
       "  <tbody>\n",
       "    <tr>\n",
       "      <td>0</td>\n",
       "      <td>40.85722</td>\n",
       "      <td>-73.93790</td>\n",
       "    </tr>\n",
       "    <tr>\n",
       "      <td>1</td>\n",
       "      <td>40.75362</td>\n",
       "      <td>-73.98377</td>\n",
       "    </tr>\n",
       "    <tr>\n",
       "      <td>2</td>\n",
       "      <td>40.68514</td>\n",
       "      <td>-73.95976</td>\n",
       "    </tr>\n",
       "    <tr>\n",
       "      <td>3</td>\n",
       "      <td>40.74767</td>\n",
       "      <td>-73.97500</td>\n",
       "    </tr>\n",
       "    <tr>\n",
       "      <td>4</td>\n",
       "      <td>40.68688</td>\n",
       "      <td>-73.95596</td>\n",
       "    </tr>\n",
       "  </tbody>\n",
       "</table>\n",
       "</div>"
      ],
      "text/plain": [
       "   latitude  longitude\n",
       "0  40.85722  -73.93790\n",
       "1  40.75362  -73.98377\n",
       "2  40.68514  -73.95976\n",
       "3  40.74767  -73.97500\n",
       "4  40.68688  -73.95596"
      ]
     },
     "execution_count": 5,
     "metadata": {},
     "output_type": "execute_result"
    }
   ],
   "source": [
    "nyc_listing[['latitude', 'longitude']].head()"
   ]
  },
  {
   "cell_type": "code",
   "execution_count": 6,
   "metadata": {},
   "outputs": [
    {
     "data": {
      "text/plain": [
       "t    47689\n",
       "f     2689\n",
       "Name: is_location_exact, dtype: int64"
      ]
     },
     "execution_count": 6,
     "metadata": {},
     "output_type": "execute_result"
    }
   ],
   "source": [
    "nyc_listing['is_location_exact'].value_counts()"
   ]
  },
  {
   "cell_type": "markdown",
   "metadata": {},
   "source": [
    "## Data cleaning"
   ]
  },
  {
   "cell_type": "markdown",
   "metadata": {},
   "source": [
    "#### Missing data(NaNs)"
   ]
  },
  {
   "cell_type": "markdown",
   "metadata": {},
   "source": [
    "First, some columns have no useful information, i.e. contain only NaNs, we'll remove them."
   ]
  },
  {
   "cell_type": "code",
   "execution_count": 7,
   "metadata": {},
   "outputs": [
    {
     "data": {
      "text/plain": [
       "medium_url                     50378\n",
       "xl_picture_url                 50378\n",
       "thumbnail_url                  50378\n",
       "jurisdiction_names             50364\n",
       "license                        50347\n",
       "square_feet                    49983\n",
       "monthly_price                  45745\n",
       "weekly_price                   45039\n",
       "notes                          30244\n",
       "access                         24050\n",
       "host_response_rate             20691\n",
       "host_response_time             20691\n",
       "interaction                    20440\n",
       "host_about                     20024\n",
       "house_rules                    19883\n",
       "neighborhood_overview          17481\n",
       "transit                        17451\n",
       "security_deposit               17303\n",
       "host_acceptance_rate           14331\n",
       "space                          14179\n",
       "review_scores_value            11732\n",
       "review_scores_location         11731\n",
       "review_scores_checkin          11728\n",
       "review_scores_accuracy         11715\n",
       "review_scores_communication    11713\n",
       "review_scores_cleanliness      11701\n",
       "review_scores_rating           11681\n",
       "reviews_per_month              10704\n",
       "first_review                   10704\n",
       "last_review                    10703\n",
       "cleaning_fee                   10674\n",
       "host_neighbourhood              7432\n",
       "summary                         2501\n",
       "description                     1281\n",
       "beds                             520\n",
       "zipcode                          440\n",
       "host_location                    153\n",
       "city                             148\n",
       "bedrooms                          97\n",
       "market                            96\n",
       "bathrooms                         59\n",
       "name                              17\n",
       "neighbourhood                     13\n",
       "host_picture_url                   8\n",
       "host_thumbnail_url                 8\n",
       "host_listings_count                8\n",
       "host_has_profile_pic               8\n",
       "host_identity_verified             8\n",
       "host_since                         8\n",
       "host_name                          8\n",
       "dtype: int64"
      ]
     },
     "execution_count": 7,
     "metadata": {},
     "output_type": "execute_result"
    }
   ],
   "source": [
    "nyc_cleaned = nyc_listing.copy()\n",
    "nyc_cleaned.isna().sum().sort_values(ascending = False)[:50]"
   ]
  },
  {
   "cell_type": "code",
   "execution_count": 8,
   "metadata": {},
   "outputs": [],
   "source": [
    "nyc_cleaned = nyc_cleaned.drop(columns = ['medium_url', 'xl_picture_url', 'thumbnail_url'])"
   ]
  },
  {
   "cell_type": "markdown",
   "metadata": {},
   "source": [
    "Next, we'll examine the columns with a lot fo missing values."
   ]
  },
  {
   "cell_type": "code",
   "execution_count": 9,
   "metadata": {},
   "outputs": [
    {
     "data": {
      "text/plain": [
       "3472      {\"Rensselaer County\",\" NY\"}\n",
       "16188               {\"Georgia State\"}\n",
       "18347           {\"Connecticut State\"}\n",
       "23413        {\"South Carolina State\"}\n",
       "23649            {\"New Jersey State\"}\n",
       "30841           {\"Connecticut State\"}\n",
       "36670           {\"Connecticut State\"}\n",
       "40730           {\"Connecticut State\"}\n",
       "40889           {\"Connecticut State\"}\n",
       "42349               {\"SAN FRANCISCO\"}\n",
       "42814           {\"Connecticut State\"}\n",
       "43483           {\"Connecticut State\"}\n",
       "46216           {\"Connecticut State\"}\n",
       "49057    {\"Westchester County\",\" NY\"}\n",
       "Name: jurisdiction_names, dtype: object"
      ]
     },
     "execution_count": 9,
     "metadata": {},
     "output_type": "execute_result"
    }
   ],
   "source": [
    "nyc_cleaned['jurisdiction_names'][nyc_cleaned['jurisdiction_names'].notna()]"
   ]
  },
  {
   "cell_type": "markdown",
   "metadata": {},
   "source": [
    "The jurisdiction_names column has duplicate information with other columns, such as state. So we'll remove it."
   ]
  },
  {
   "cell_type": "code",
   "execution_count": 10,
   "metadata": {},
   "outputs": [],
   "source": [
    "nyc_cleaned = nyc_cleaned.drop(columns = ['jurisdiction_names'])"
   ]
  },
  {
   "cell_type": "code",
   "execution_count": 11,
   "metadata": {},
   "outputs": [
    {
     "data": {
      "text/plain": [
       "25441                   35-2593481\n",
       "28450                   81-1092926\n",
       "28451                   81-1092926\n",
       "28452                   81-1092926\n",
       "28453                   81-1092926\n",
       "29059                   35-2593481\n",
       "29869                   35-2593481\n",
       "32448                  HUTB-162541\n",
       "35298                   20-5163086\n",
       "35345                   20-5163086\n",
       "35954                   47-3886130\n",
       "35955                   47-3886130\n",
       "36329    City registration pending\n",
       "38471                   83-2444556\n",
       "38472                   83-2444556\n",
       "38473                   83-2444556\n",
       "38694                   11-3461723\n",
       "38718                   11-3461723\n",
       "38822                   20-5909724\n",
       "38826                   20-5909724\n",
       "38830                   20-5909724\n",
       "46800                   20-0976501\n",
       "46801                   20-0976501\n",
       "46802                   20-0976501\n",
       "47095                   83-1780849\n",
       "48158                   20-5163086\n",
       "50326                   46-0949187\n",
       "50327                   46-0949187\n",
       "50328                   46-0949187\n",
       "50329                   46-0949187\n",
       "50330                   46-0949187\n",
       "Name: license, dtype: object"
      ]
     },
     "execution_count": 11,
     "metadata": {},
     "output_type": "execute_result"
    }
   ],
   "source": [
    "nyc_cleaned['license'][nyc_cleaned['license'].notna()]"
   ]
  },
  {
   "cell_type": "markdown",
   "metadata": {},
   "source": [
    "Column license contains license info for listing. Adding licenses to their profiles shows that the hosts are serious about renting their places and their listings are more legitimate. This could be potentially useful in the analysis part. We'll convert this to a binary column indicating whether license numbers are included. "
   ]
  },
  {
   "cell_type": "code",
   "execution_count": 12,
   "metadata": {},
   "outputs": [
    {
     "name": "stderr",
     "output_type": "stream",
     "text": [
      "/Users/catharinewu/opt/anaconda3/lib/python3.7/site-packages/ipykernel_launcher.py:1: SettingWithCopyWarning: \n",
      "A value is trying to be set on a copy of a slice from a DataFrame\n",
      "\n",
      "See the caveats in the documentation: http://pandas.pydata.org/pandas-docs/stable/user_guide/indexing.html#returning-a-view-versus-a-copy\n",
      "  \"\"\"Entry point for launching an IPython kernel.\n"
     ]
    }
   ],
   "source": [
    "nyc_cleaned['license'][nyc_cleaned['license'].notna()] = 1\n",
    "nyc_cleaned['license'] = nyc_cleaned['license'].fillna(0)"
   ]
  },
  {
   "cell_type": "markdown",
   "metadata": {},
   "source": [
    "The following columns will be coded as binary as well.\n",
    "\n",
    "- Including 'monthly_price' and 'weekly_price' shows hosts encourge long-term stays. \n",
    "- For columns('host_identity_verified', 'host_has_profile_pic', 'host_is_superhost') that are already binary, we'll convert NaNs to 0 as well."
   ]
  },
  {
   "cell_type": "code",
   "execution_count": 13,
   "metadata": {},
   "outputs": [
    {
     "name": "stderr",
     "output_type": "stream",
     "text": [
      "/Users/catharinewu/opt/anaconda3/lib/python3.7/site-packages/ipykernel_launcher.py:4: SettingWithCopyWarning: \n",
      "A value is trying to be set on a copy of a slice from a DataFrame\n",
      "\n",
      "See the caveats in the documentation: http://pandas.pydata.org/pandas-docs/stable/user_guide/indexing.html#returning-a-view-versus-a-copy\n",
      "  after removing the cwd from sys.path.\n"
     ]
    }
   ],
   "source": [
    "binary_col = ['monthly_price', 'weekly_price',\n",
    "             'host_identity_verified', 'host_has_profile_pic', 'host_is_superhost']\n",
    "for col in binary_col:\n",
    "    nyc_cleaned[col][nyc_cleaned[col].notna()] = 1\n",
    "    nyc_cleaned[col] = nyc_cleaned[col].fillna(0)"
   ]
  },
  {
   "cell_type": "markdown",
   "metadata": {},
   "source": [
    "We'll drop the square_feet column as there is too much missing information and we can't input it. "
   ]
  },
  {
   "cell_type": "code",
   "execution_count": 14,
   "metadata": {},
   "outputs": [],
   "source": [
    "nyc_cleaned = nyc_cleaned.drop(columns = 'square_feet')"
   ]
  },
  {
   "cell_type": "code",
   "execution_count": 15,
   "metadata": {},
   "outputs": [
    {
     "data": {
      "text/plain": [
       "notes                     30244\n",
       "access                    24050\n",
       "host_response_time        20691\n",
       "host_response_rate        20691\n",
       "interaction               20440\n",
       "                          ...  \n",
       "maximum_nights                0\n",
       "minimum_minimum_nights        0\n",
       "maximum_minimum_nights        0\n",
       "minimum_maximum_nights        0\n",
       "id                            0\n",
       "Length: 101, dtype: int64"
      ]
     },
     "execution_count": 15,
     "metadata": {},
     "output_type": "execute_result"
    }
   ],
   "source": [
    "nyc_cleaned.isna().sum().sort_values(ascending = False)"
   ]
  },
  {
   "cell_type": "code",
   "execution_count": 16,
   "metadata": {},
   "outputs": [
    {
     "data": {
      "text/html": [
       "<div>\n",
       "<style scoped>\n",
       "    .dataframe tbody tr th:only-of-type {\n",
       "        vertical-align: middle;\n",
       "    }\n",
       "\n",
       "    .dataframe tbody tr th {\n",
       "        vertical-align: top;\n",
       "    }\n",
       "\n",
       "    .dataframe thead th {\n",
       "        text-align: right;\n",
       "    }\n",
       "</style>\n",
       "<table border=\"1\" class=\"dataframe\">\n",
       "  <thead>\n",
       "    <tr style=\"text-align: right;\">\n",
       "      <th></th>\n",
       "      <th>id</th>\n",
       "      <th>scrape_id</th>\n",
       "      <th>host_id</th>\n",
       "      <th>host_is_superhost</th>\n",
       "      <th>host_listings_count</th>\n",
       "      <th>host_total_listings_count</th>\n",
       "      <th>host_has_profile_pic</th>\n",
       "      <th>host_identity_verified</th>\n",
       "      <th>latitude</th>\n",
       "      <th>longitude</th>\n",
       "      <th>...</th>\n",
       "      <th>review_scores_checkin</th>\n",
       "      <th>review_scores_communication</th>\n",
       "      <th>review_scores_location</th>\n",
       "      <th>review_scores_value</th>\n",
       "      <th>license</th>\n",
       "      <th>calculated_host_listings_count</th>\n",
       "      <th>calculated_host_listings_count_entire_homes</th>\n",
       "      <th>calculated_host_listings_count_private_rooms</th>\n",
       "      <th>calculated_host_listings_count_shared_rooms</th>\n",
       "      <th>reviews_per_month</th>\n",
       "    </tr>\n",
       "  </thead>\n",
       "  <tbody>\n",
       "    <tr>\n",
       "      <td>count</td>\n",
       "      <td>5.037800e+04</td>\n",
       "      <td>5.037800e+04</td>\n",
       "      <td>5.037800e+04</td>\n",
       "      <td>50378.000000</td>\n",
       "      <td>50370.000000</td>\n",
       "      <td>50370.000000</td>\n",
       "      <td>50378.000000</td>\n",
       "      <td>50378.000000</td>\n",
       "      <td>50378.000000</td>\n",
       "      <td>50378.000000</td>\n",
       "      <td>...</td>\n",
       "      <td>38650.000000</td>\n",
       "      <td>38665.000000</td>\n",
       "      <td>38647.000000</td>\n",
       "      <td>38646.000000</td>\n",
       "      <td>50378.000000</td>\n",
       "      <td>50378.000000</td>\n",
       "      <td>50378.000000</td>\n",
       "      <td>50378.000000</td>\n",
       "      <td>50378.000000</td>\n",
       "      <td>39674.000000</td>\n",
       "    </tr>\n",
       "    <tr>\n",
       "      <td>mean</td>\n",
       "      <td>2.276762e+07</td>\n",
       "      <td>2.020041e+13</td>\n",
       "      <td>8.538360e+07</td>\n",
       "      <td>0.999841</td>\n",
       "      <td>24.761148</td>\n",
       "      <td>24.761148</td>\n",
       "      <td>0.999841</td>\n",
       "      <td>0.999841</td>\n",
       "      <td>40.729343</td>\n",
       "      <td>-73.950986</td>\n",
       "      <td>...</td>\n",
       "      <td>9.731436</td>\n",
       "      <td>9.735187</td>\n",
       "      <td>9.599633</td>\n",
       "      <td>9.382187</td>\n",
       "      <td>0.000615</td>\n",
       "      <td>8.427210</td>\n",
       "      <td>6.552860</td>\n",
       "      <td>1.653718</td>\n",
       "      <td>0.122514</td>\n",
       "      <td>1.184133</td>\n",
       "    </tr>\n",
       "    <tr>\n",
       "      <td>std</td>\n",
       "      <td>1.328482e+07</td>\n",
       "      <td>1.224231e+01</td>\n",
       "      <td>9.808916e+07</td>\n",
       "      <td>0.012601</td>\n",
       "      <td>169.322231</td>\n",
       "      <td>169.322231</td>\n",
       "      <td>0.012601</td>\n",
       "      <td>0.012601</td>\n",
       "      <td>0.054753</td>\n",
       "      <td>0.047695</td>\n",
       "      <td>...</td>\n",
       "      <td>0.766756</td>\n",
       "      <td>0.789892</td>\n",
       "      <td>0.762620</td>\n",
       "      <td>0.954890</td>\n",
       "      <td>0.024799</td>\n",
       "      <td>36.377227</td>\n",
       "      <td>35.680731</td>\n",
       "      <td>8.140142</td>\n",
       "      <td>1.249140</td>\n",
       "      <td>1.519787</td>\n",
       "    </tr>\n",
       "    <tr>\n",
       "      <td>min</td>\n",
       "      <td>2.060000e+03</td>\n",
       "      <td>2.020041e+13</td>\n",
       "      <td>2.259000e+03</td>\n",
       "      <td>0.000000</td>\n",
       "      <td>0.000000</td>\n",
       "      <td>0.000000</td>\n",
       "      <td>0.000000</td>\n",
       "      <td>0.000000</td>\n",
       "      <td>40.499790</td>\n",
       "      <td>-74.240840</td>\n",
       "      <td>...</td>\n",
       "      <td>2.000000</td>\n",
       "      <td>2.000000</td>\n",
       "      <td>2.000000</td>\n",
       "      <td>2.000000</td>\n",
       "      <td>0.000000</td>\n",
       "      <td>1.000000</td>\n",
       "      <td>0.000000</td>\n",
       "      <td>0.000000</td>\n",
       "      <td>0.000000</td>\n",
       "      <td>0.010000</td>\n",
       "    </tr>\n",
       "    <tr>\n",
       "      <td>25%</td>\n",
       "      <td>1.099576e+07</td>\n",
       "      <td>2.020041e+13</td>\n",
       "      <td>9.477192e+06</td>\n",
       "      <td>1.000000</td>\n",
       "      <td>1.000000</td>\n",
       "      <td>1.000000</td>\n",
       "      <td>1.000000</td>\n",
       "      <td>1.000000</td>\n",
       "      <td>40.689850</td>\n",
       "      <td>-73.983390</td>\n",
       "      <td>...</td>\n",
       "      <td>10.000000</td>\n",
       "      <td>10.000000</td>\n",
       "      <td>9.000000</td>\n",
       "      <td>9.000000</td>\n",
       "      <td>0.000000</td>\n",
       "      <td>1.000000</td>\n",
       "      <td>0.000000</td>\n",
       "      <td>0.000000</td>\n",
       "      <td>0.000000</td>\n",
       "      <td>0.170000</td>\n",
       "    </tr>\n",
       "    <tr>\n",
       "      <td>50%</td>\n",
       "      <td>2.227638e+07</td>\n",
       "      <td>2.020041e+13</td>\n",
       "      <td>3.875822e+07</td>\n",
       "      <td>1.000000</td>\n",
       "      <td>1.000000</td>\n",
       "      <td>1.000000</td>\n",
       "      <td>1.000000</td>\n",
       "      <td>1.000000</td>\n",
       "      <td>40.723640</td>\n",
       "      <td>-73.955250</td>\n",
       "      <td>...</td>\n",
       "      <td>10.000000</td>\n",
       "      <td>10.000000</td>\n",
       "      <td>10.000000</td>\n",
       "      <td>10.000000</td>\n",
       "      <td>0.000000</td>\n",
       "      <td>1.000000</td>\n",
       "      <td>1.000000</td>\n",
       "      <td>0.000000</td>\n",
       "      <td>0.000000</td>\n",
       "      <td>0.580000</td>\n",
       "    </tr>\n",
       "    <tr>\n",
       "      <td>75%</td>\n",
       "      <td>3.515736e+07</td>\n",
       "      <td>2.020041e+13</td>\n",
       "      <td>1.391451e+08</td>\n",
       "      <td>1.000000</td>\n",
       "      <td>2.000000</td>\n",
       "      <td>2.000000</td>\n",
       "      <td>1.000000</td>\n",
       "      <td>1.000000</td>\n",
       "      <td>40.763020</td>\n",
       "      <td>-73.934130</td>\n",
       "      <td>...</td>\n",
       "      <td>10.000000</td>\n",
       "      <td>10.000000</td>\n",
       "      <td>10.000000</td>\n",
       "      <td>10.000000</td>\n",
       "      <td>0.000000</td>\n",
       "      <td>2.000000</td>\n",
       "      <td>1.000000</td>\n",
       "      <td>1.000000</td>\n",
       "      <td>0.000000</td>\n",
       "      <td>1.720000</td>\n",
       "    </tr>\n",
       "    <tr>\n",
       "      <td>max</td>\n",
       "      <td>4.313858e+07</td>\n",
       "      <td>2.020041e+13</td>\n",
       "      <td>3.434033e+08</td>\n",
       "      <td>1.000000</td>\n",
       "      <td>2340.000000</td>\n",
       "      <td>2340.000000</td>\n",
       "      <td>1.000000</td>\n",
       "      <td>1.000000</td>\n",
       "      <td>40.912380</td>\n",
       "      <td>-73.712990</td>\n",
       "      <td>...</td>\n",
       "      <td>10.000000</td>\n",
       "      <td>10.000000</td>\n",
       "      <td>10.000000</td>\n",
       "      <td>10.000000</td>\n",
       "      <td>1.000000</td>\n",
       "      <td>307.000000</td>\n",
       "      <td>307.000000</td>\n",
       "      <td>136.000000</td>\n",
       "      <td>34.000000</td>\n",
       "      <td>63.040000</td>\n",
       "    </tr>\n",
       "  </tbody>\n",
       "</table>\n",
       "<p>8 rows × 44 columns</p>\n",
       "</div>"
      ],
      "text/plain": [
       "                 id     scrape_id       host_id  host_is_superhost  \\\n",
       "count  5.037800e+04  5.037800e+04  5.037800e+04       50378.000000   \n",
       "mean   2.276762e+07  2.020041e+13  8.538360e+07           0.999841   \n",
       "std    1.328482e+07  1.224231e+01  9.808916e+07           0.012601   \n",
       "min    2.060000e+03  2.020041e+13  2.259000e+03           0.000000   \n",
       "25%    1.099576e+07  2.020041e+13  9.477192e+06           1.000000   \n",
       "50%    2.227638e+07  2.020041e+13  3.875822e+07           1.000000   \n",
       "75%    3.515736e+07  2.020041e+13  1.391451e+08           1.000000   \n",
       "max    4.313858e+07  2.020041e+13  3.434033e+08           1.000000   \n",
       "\n",
       "       host_listings_count  host_total_listings_count  host_has_profile_pic  \\\n",
       "count         50370.000000               50370.000000          50378.000000   \n",
       "mean             24.761148                  24.761148              0.999841   \n",
       "std             169.322231                 169.322231              0.012601   \n",
       "min               0.000000                   0.000000              0.000000   \n",
       "25%               1.000000                   1.000000              1.000000   \n",
       "50%               1.000000                   1.000000              1.000000   \n",
       "75%               2.000000                   2.000000              1.000000   \n",
       "max            2340.000000                2340.000000              1.000000   \n",
       "\n",
       "       host_identity_verified      latitude     longitude  ...  \\\n",
       "count            50378.000000  50378.000000  50378.000000  ...   \n",
       "mean                 0.999841     40.729343    -73.950986  ...   \n",
       "std                  0.012601      0.054753      0.047695  ...   \n",
       "min                  0.000000     40.499790    -74.240840  ...   \n",
       "25%                  1.000000     40.689850    -73.983390  ...   \n",
       "50%                  1.000000     40.723640    -73.955250  ...   \n",
       "75%                  1.000000     40.763020    -73.934130  ...   \n",
       "max                  1.000000     40.912380    -73.712990  ...   \n",
       "\n",
       "       review_scores_checkin  review_scores_communication  \\\n",
       "count           38650.000000                 38665.000000   \n",
       "mean                9.731436                     9.735187   \n",
       "std                 0.766756                     0.789892   \n",
       "min                 2.000000                     2.000000   \n",
       "25%                10.000000                    10.000000   \n",
       "50%                10.000000                    10.000000   \n",
       "75%                10.000000                    10.000000   \n",
       "max                10.000000                    10.000000   \n",
       "\n",
       "       review_scores_location  review_scores_value       license  \\\n",
       "count            38647.000000         38646.000000  50378.000000   \n",
       "mean                 9.599633             9.382187      0.000615   \n",
       "std                  0.762620             0.954890      0.024799   \n",
       "min                  2.000000             2.000000      0.000000   \n",
       "25%                  9.000000             9.000000      0.000000   \n",
       "50%                 10.000000            10.000000      0.000000   \n",
       "75%                 10.000000            10.000000      0.000000   \n",
       "max                 10.000000            10.000000      1.000000   \n",
       "\n",
       "       calculated_host_listings_count  \\\n",
       "count                    50378.000000   \n",
       "mean                         8.427210   \n",
       "std                         36.377227   \n",
       "min                          1.000000   \n",
       "25%                          1.000000   \n",
       "50%                          1.000000   \n",
       "75%                          2.000000   \n",
       "max                        307.000000   \n",
       "\n",
       "       calculated_host_listings_count_entire_homes  \\\n",
       "count                                 50378.000000   \n",
       "mean                                      6.552860   \n",
       "std                                      35.680731   \n",
       "min                                       0.000000   \n",
       "25%                                       0.000000   \n",
       "50%                                       1.000000   \n",
       "75%                                       1.000000   \n",
       "max                                     307.000000   \n",
       "\n",
       "       calculated_host_listings_count_private_rooms  \\\n",
       "count                                  50378.000000   \n",
       "mean                                       1.653718   \n",
       "std                                        8.140142   \n",
       "min                                        0.000000   \n",
       "25%                                        0.000000   \n",
       "50%                                        0.000000   \n",
       "75%                                        1.000000   \n",
       "max                                      136.000000   \n",
       "\n",
       "       calculated_host_listings_count_shared_rooms  reviews_per_month  \n",
       "count                                 50378.000000       39674.000000  \n",
       "mean                                      0.122514           1.184133  \n",
       "std                                       1.249140           1.519787  \n",
       "min                                       0.000000           0.010000  \n",
       "25%                                       0.000000           0.170000  \n",
       "50%                                       0.000000           0.580000  \n",
       "75%                                       0.000000           1.720000  \n",
       "max                                      34.000000          63.040000  \n",
       "\n",
       "[8 rows x 44 columns]"
      ]
     },
     "execution_count": 16,
     "metadata": {},
     "output_type": "execute_result"
    }
   ],
   "source": [
    "nyc_cleaned.describe()"
   ]
  },
  {
   "cell_type": "markdown",
   "metadata": {},
   "source": [
    "Most of host_neighborhoods are identical to the neighborhoods of their listing, so we'll switch it to a binary column indicating whether the hosts are in the same neighborhoods as their listing. "
   ]
  },
  {
   "cell_type": "code",
   "execution_count": 17,
   "metadata": {},
   "outputs": [],
   "source": [
    "nyc_cleaned['host_neighbourhood'] = nyc_cleaned['host_neighbourhood'] == nyc_cleaned['neighbourhood']"
   ]
  },
  {
   "cell_type": "markdown",
   "metadata": {},
   "source": [
    "#### Columns that are too general that don't convey any useful information"
   ]
  },
  {
   "cell_type": "markdown",
   "metadata": {},
   "source": [
    "The following columns only contain 1 value throughout the dataset, thus we'll remove them. "
   ]
  },
  {
   "cell_type": "code",
   "execution_count": 18,
   "metadata": {},
   "outputs": [
    {
     "name": "stdout",
     "output_type": "stream",
     "text": [
      "scrape_id\n",
      "20200408162728    50378\n",
      "Name: scrape_id, dtype: int64\n",
      "experiences_offered\n",
      "none    50378\n",
      "Name: experiences_offered, dtype: int64\n",
      "country_code\n",
      "US    50378\n",
      "Name: country_code, dtype: int64\n",
      "country\n",
      "United States    50378\n",
      "Name: country, dtype: int64\n",
      "has_availability\n",
      "t    50378\n",
      "Name: has_availability, dtype: int64\n",
      "requires_license\n",
      "f    50378\n",
      "Name: requires_license, dtype: int64\n",
      "is_business_travel_ready\n",
      "f    50378\n",
      "Name: is_business_travel_ready, dtype: int64\n"
     ]
    }
   ],
   "source": [
    "gen_col = []\n",
    "for col in nyc_cleaned.columns:\n",
    "    num = len(nyc_cleaned[col].value_counts())\n",
    "    if num <= 1:\n",
    "        gen_col.append(col)\n",
    "        print(col)\n",
    "        print(nyc_cleaned[col].value_counts())"
   ]
  },
  {
   "cell_type": "code",
   "execution_count": 19,
   "metadata": {
    "scrolled": true
   },
   "outputs": [],
   "source": [
    "nyc_cleaned = nyc_cleaned.drop(columns = gen_col)"
   ]
  },
  {
   "cell_type": "markdown",
   "metadata": {},
   "source": [
    "## Anonymization"
   ]
  },
  {
   "cell_type": "markdown",
   "metadata": {},
   "source": [
    "Since we can more about group analysis, instead of indivisual records, we'll remove the unique identifiers. "
   ]
  },
  {
   "cell_type": "code",
   "execution_count": 20,
   "metadata": {},
   "outputs": [],
   "source": [
    "nyc_anonymized = nyc_cleaned.copy()"
   ]
  },
  {
   "cell_type": "code",
   "execution_count": 21,
   "metadata": {},
   "outputs": [],
   "source": [
    "unique_col = ['id', 'listing_url']\n",
    "nyc_anonymized = nyc_anonymized.drop(columns = unique_col)"
   ]
  },
  {
   "cell_type": "code",
   "execution_count": 22,
   "metadata": {},
   "outputs": [
    {
     "data": {
      "text/plain": [
       "t    47689\n",
       "f     2689\n",
       "Name: is_location_exact, dtype: int64"
      ]
     },
     "execution_count": 22,
     "metadata": {},
     "output_type": "execute_result"
    }
   ],
   "source": [
    "nyc_anonymized['is_location_exact'].value_counts()"
   ]
  },
  {
   "cell_type": "markdown",
   "metadata": {},
   "source": [
    "As discussed in the Ethics section, including exact locations violates privacy, and since we'll anonymize the exact locations anyway, we'll remove this column."
   ]
  },
  {
   "cell_type": "code",
   "execution_count": 23,
   "metadata": {},
   "outputs": [],
   "source": [
    "nyc_anonymized = nyc_anonymized.drop(columns = 'is_location_exact')"
   ]
  },
  {
   "cell_type": "markdown",
   "metadata": {},
   "source": [
    "The following columns contain too much information about listings/hosts/guests, the urls lead directly to the listing/profile page, similar with some descriptions if search on Google,  these could lead to dangerous situation if being abused. "
   ]
  },
  {
   "cell_type": "markdown",
   "metadata": {},
   "source": [
    "All the useful information contained in urls are already in our dataset, so we'll remove those columns."
   ]
  },
  {
   "cell_type": "code",
   "execution_count": 24,
   "metadata": {},
   "outputs": [],
   "source": [
    "url_col = ['picture_url', 'host_url', 'host_picture_url', 'host_thumbnail_url']\n",
    "nyc_anonymized = nyc_anonymized.drop(columns = url_col)"
   ]
  },
  {
   "cell_type": "markdown",
   "metadata": {},
   "source": [
    "For columns with (unique) descriptions, such as 'name' and 'description', we'll only take their lengths into account. We believe the lengths of these descriptions are correlated with the qualities of the listings, as hosts who provide detailed descriptions are likely to care about them more. Similarly, for 'amenities' and 'host_verifications', the more the merrir. So we'll include their length as well. "
   ]
  },
  {
   "cell_type": "code",
   "execution_count": 25,
   "metadata": {},
   "outputs": [],
   "source": [
    "descr_col = ['name', 'summary', 'space', 'description', 'neighborhood_overview', 'transit',\n",
    "             'access', 'interaction', 'house_rules', 'host_about', 'notes', 'amenities',\n",
    "             'host_verifications']\n",
    "for col in descr_col:\n",
    "    nyc_anonymized[col] = nyc_anonymized[col].str.len()\n",
    "    nyc_anonymized[col] = nyc_anonymized[col].fillna(0)"
   ]
  },
  {
   "cell_type": "markdown",
   "metadata": {},
   "source": [
    "As of exact locations(latitude, longitude), we'll add some random noise."
   ]
  },
  {
   "cell_type": "code",
   "execution_count": 26,
   "metadata": {},
   "outputs": [],
   "source": [
    "noise = np.random.normal(0, 1, size = len(nyc_anonymized)) #standard normal\n",
    "\n",
    "nyc_anonymized['latitude'] = nyc_anonymized['latitude'] + noise\n",
    "nyc_anonymized['longitude'] = nyc_anonymized['longitude'] + noise"
   ]
  },
  {
   "cell_type": "markdown",
   "metadata": {},
   "source": [
    "## Analysis"
   ]
  },
  {
   "cell_type": "markdown",
   "metadata": {},
   "source": [
    "#### Pre-processing "
   ]
  },
  {
   "cell_type": "code",
   "execution_count": 27,
   "metadata": {},
   "outputs": [
    {
     "data": {
      "text/html": [
       "<div>\n",
       "<style scoped>\n",
       "    .dataframe tbody tr th:only-of-type {\n",
       "        vertical-align: middle;\n",
       "    }\n",
       "\n",
       "    .dataframe tbody tr th {\n",
       "        vertical-align: top;\n",
       "    }\n",
       "\n",
       "    .dataframe thead th {\n",
       "        text-align: right;\n",
       "    }\n",
       "</style>\n",
       "<table border=\"1\" class=\"dataframe\">\n",
       "  <thead>\n",
       "    <tr style=\"text-align: right;\">\n",
       "      <th></th>\n",
       "      <th>street</th>\n",
       "      <th>neighbourhood</th>\n",
       "      <th>neighbourhood_cleansed</th>\n",
       "      <th>neighbourhood_group_cleansed</th>\n",
       "      <th>city</th>\n",
       "      <th>state</th>\n",
       "      <th>zipcode</th>\n",
       "      <th>market</th>\n",
       "      <th>smart_location</th>\n",
       "      <th>latitude</th>\n",
       "      <th>longitude</th>\n",
       "    </tr>\n",
       "  </thead>\n",
       "  <tbody>\n",
       "    <tr>\n",
       "      <td>0</td>\n",
       "      <td>New York, NY, United States</td>\n",
       "      <td>Washington Heights</td>\n",
       "      <td>Washington Heights</td>\n",
       "      <td>Manhattan</td>\n",
       "      <td>New York</td>\n",
       "      <td>NY</td>\n",
       "      <td>10040</td>\n",
       "      <td>New York</td>\n",
       "      <td>New York, NY</td>\n",
       "      <td>40.916591</td>\n",
       "      <td>-73.878529</td>\n",
       "    </tr>\n",
       "    <tr>\n",
       "      <td>1</td>\n",
       "      <td>New York, NY, United States</td>\n",
       "      <td>Manhattan</td>\n",
       "      <td>Midtown</td>\n",
       "      <td>Manhattan</td>\n",
       "      <td>New York</td>\n",
       "      <td>NY</td>\n",
       "      <td>10018</td>\n",
       "      <td>New York</td>\n",
       "      <td>New York, NY</td>\n",
       "      <td>39.164106</td>\n",
       "      <td>-75.573284</td>\n",
       "    </tr>\n",
       "    <tr>\n",
       "      <td>2</td>\n",
       "      <td>Brooklyn, NY, United States</td>\n",
       "      <td>Clinton Hill</td>\n",
       "      <td>Clinton Hill</td>\n",
       "      <td>Brooklyn</td>\n",
       "      <td>Brooklyn</td>\n",
       "      <td>NY</td>\n",
       "      <td>11238</td>\n",
       "      <td>New York</td>\n",
       "      <td>Brooklyn, NY</td>\n",
       "      <td>40.333480</td>\n",
       "      <td>-74.311420</td>\n",
       "    </tr>\n",
       "    <tr>\n",
       "      <td>3</td>\n",
       "      <td>New York, NY, United States</td>\n",
       "      <td>Midtown East</td>\n",
       "      <td>Murray Hill</td>\n",
       "      <td>Manhattan</td>\n",
       "      <td>New York</td>\n",
       "      <td>NY</td>\n",
       "      <td>10016</td>\n",
       "      <td>New York</td>\n",
       "      <td>New York, NY</td>\n",
       "      <td>39.890134</td>\n",
       "      <td>-74.832536</td>\n",
       "    </tr>\n",
       "    <tr>\n",
       "      <td>4</td>\n",
       "      <td>Brooklyn, NY, United States</td>\n",
       "      <td>Brooklyn</td>\n",
       "      <td>Bedford-Stuyvesant</td>\n",
       "      <td>Brooklyn</td>\n",
       "      <td>Brooklyn</td>\n",
       "      <td>NY</td>\n",
       "      <td>11216</td>\n",
       "      <td>New York</td>\n",
       "      <td>Brooklyn, NY</td>\n",
       "      <td>39.155614</td>\n",
       "      <td>-75.487226</td>\n",
       "    </tr>\n",
       "  </tbody>\n",
       "</table>\n",
       "</div>"
      ],
      "text/plain": [
       "                        street       neighbourhood neighbourhood_cleansed  \\\n",
       "0  New York, NY, United States  Washington Heights     Washington Heights   \n",
       "1  New York, NY, United States           Manhattan                Midtown   \n",
       "2  Brooklyn, NY, United States        Clinton Hill           Clinton Hill   \n",
       "3  New York, NY, United States        Midtown East            Murray Hill   \n",
       "4  Brooklyn, NY, United States            Brooklyn     Bedford-Stuyvesant   \n",
       "\n",
       "  neighbourhood_group_cleansed      city state zipcode    market  \\\n",
       "0                    Manhattan  New York    NY   10040  New York   \n",
       "1                    Manhattan  New York    NY   10018  New York   \n",
       "2                     Brooklyn  Brooklyn    NY   11238  New York   \n",
       "3                    Manhattan  New York    NY   10016  New York   \n",
       "4                     Brooklyn  Brooklyn    NY   11216  New York   \n",
       "\n",
       "  smart_location   latitude  longitude  \n",
       "0   New York, NY  40.916591 -73.878529  \n",
       "1   New York, NY  39.164106 -75.573284  \n",
       "2   Brooklyn, NY  40.333480 -74.311420  \n",
       "3   New York, NY  39.890134 -74.832536  \n",
       "4   Brooklyn, NY  39.155614 -75.487226  "
      ]
     },
     "execution_count": 27,
     "metadata": {},
     "output_type": "execute_result"
    }
   ],
   "source": [
    "nyc_anonymized[['street', 'neighbourhood', 'neighbourhood_cleansed', \n",
    "                'neighbourhood_group_cleansed', 'city', 'state', 'zipcode',\n",
    "                'market', 'smart_location', 'latitude', 'longitude']].head()"
   ]
  },
  {
   "cell_type": "markdown",
   "metadata": {},
   "source": [
    "Some location columns contain only duplicated information with other coluns, we'll only keep 'neighbourhood_cleansed', and the anonymized 'latitute' 'longitude', and remove the rest."
   ]
  },
  {
   "cell_type": "code",
   "execution_count": 28,
   "metadata": {},
   "outputs": [],
   "source": [
    "nyc_df = nyc_anonymized.copy()"
   ]
  },
  {
   "cell_type": "code",
   "execution_count": 29,
   "metadata": {},
   "outputs": [],
   "source": [
    "loc_col = ['street', 'neighbourhood', 'neighbourhood_group_cleansed', \n",
    "           'city', 'state', 'zipcode', 'market', 'smart_location', 'host_location']\n",
    "nyc_df = nyc_df.drop(columns = loc_col)"
   ]
  },
  {
   "cell_type": "markdown",
   "metadata": {},
   "source": [
    "Since we already have host_id, we don't need their names."
   ]
  },
  {
   "cell_type": "code",
   "execution_count": 30,
   "metadata": {},
   "outputs": [],
   "source": [
    "nyc_df = nyc_df.drop(columns = 'host_name')"
   ]
  },
  {
   "cell_type": "markdown",
   "metadata": {},
   "source": [
    "Convert date columns to integers using the time interval between dates and date scraped."
   ]
  },
  {
   "cell_type": "code",
   "execution_count": 31,
   "metadata": {},
   "outputs": [],
   "source": [
    "date_col = ['host_since', 'first_review', 'last_review']\n",
    "day_now = pd.to_datetime(nyc_df['last_scraped'])\n",
    "for col in date_col:\n",
    "    day_then = pd.to_datetime(nyc_df[col])\n",
    "    nyc_df[col] = (day_now - day_then).dt.days"
   ]
  },
  {
   "cell_type": "markdown",
   "metadata": {},
   "source": [
    "Remove scrapping date info as we've incorporated them into other columns."
   ]
  },
  {
   "cell_type": "code",
   "execution_count": 32,
   "metadata": {},
   "outputs": [],
   "source": [
    "nyc_df = nyc_df.drop(columns = ['last_scraped', 'calendar_last_scraped'])"
   ]
  },
  {
   "cell_type": "code",
   "execution_count": 33,
   "metadata": {},
   "outputs": [],
   "source": [
    "def convert_days(s):\n",
    "    if s == 'today':\n",
    "        num = 0\n",
    "    elif s == 'yesterday':\n",
    "        num = 1\n",
    "    elif s.endswith('days ago'):\n",
    "        num = int(s.replace('days ago', ''))\n",
    "    elif s.endswith('weeks ago'):\n",
    "        num = int(s.replace('weeks ago', ''))*7\n",
    "    elif s.endswith('months ago'):\n",
    "        num = int(s.replace('months ago', '')) * 30\n",
    "    else:\n",
    "        num = 0\n",
    "    return num"
   ]
  },
  {
   "cell_type": "code",
   "execution_count": 34,
   "metadata": {},
   "outputs": [],
   "source": [
    "nyc_df.calendar_updated = nyc_df.calendar_updated.apply(convert_days)"
   ]
  },
  {
   "cell_type": "markdown",
   "metadata": {},
   "source": [
    "Now we'll deal with text and categorical columns."
   ]
  },
  {
   "cell_type": "code",
   "execution_count": 35,
   "metadata": {},
   "outputs": [
    {
     "name": "stdout",
     "output_type": "stream",
     "text": [
      "host_response_time:  4\n",
      "host_response_rate:  67\n",
      "host_acceptance_rate:  99\n",
      "host_neighbourhood:  2\n",
      "neighbourhood_cleansed:  223\n",
      "property_type:  40\n",
      "room_type:  4\n",
      "bed_type:  5\n",
      "price:  665\n",
      "security_deposit:  217\n",
      "cleaning_fee:  218\n",
      "extra_people:  103\n",
      "instant_bookable:  2\n",
      "cancellation_policy:  6\n",
      "require_guest_profile_picture:  2\n",
      "require_guest_phone_verification:  2\n"
     ]
    }
   ],
   "source": [
    "for col in nyc_df.columns:\n",
    "    if nyc_df[col].dtype not in ['float64', 'int64', 'datetime64[ns]']:\n",
    "        print(col + ': ', len(nyc_df[col].value_counts()))"
   ]
  },
  {
   "cell_type": "markdown",
   "metadata": {},
   "source": [
    "Convert numbers that are in string format to floats."
   ]
  },
  {
   "cell_type": "code",
   "execution_count": 36,
   "metadata": {},
   "outputs": [],
   "source": [
    "num_rate_col = ['host_response_rate', 'host_acceptance_rate']\n",
    "num_fee_col = ['price', 'security_deposit', 'cleaning_fee', 'extra_people']"
   ]
  },
  {
   "cell_type": "code",
   "execution_count": 37,
   "metadata": {},
   "outputs": [],
   "source": [
    "for col in num_rate_col:\n",
    "    nyc_df[col] = nyc_df[col].fillna('0')\n",
    "    nyc_df[col] = nyc_df[col].str.rstrip('%').astype(float)/100"
   ]
  },
  {
   "cell_type": "code",
   "execution_count": 38,
   "metadata": {},
   "outputs": [],
   "source": [
    "for col in num_fee_col:\n",
    "    nyc_df[col] = nyc_df[col].fillna('0')\n",
    "    nyc_df[col] = nyc_df[col].str.strip('$,.').str.replace(',','').astype(float)"
   ]
  },
  {
   "cell_type": "markdown",
   "metadata": {},
   "source": [
    "Binary columns will be converted to 0(False) and 1(True)."
   ]
  },
  {
   "cell_type": "code",
   "execution_count": 39,
   "metadata": {},
   "outputs": [],
   "source": [
    "nyc_df['host_neighbourhood'] = nyc_df['host_neighbourhood'].astype(int)"
   ]
  },
  {
   "cell_type": "code",
   "execution_count": 40,
   "metadata": {},
   "outputs": [],
   "source": [
    "bin_col = ['instant_bookable', 'require_guest_profile_picture', 'require_guest_phone_verification']\n",
    "for col in bin_col:\n",
    "    nyc_df[col] = nyc_df[col].map({'f': 0, 't': 1})"
   ]
  },
  {
   "cell_type": "markdown",
   "metadata": {},
   "source": [
    "Convert ordinal columns into integers."
   ]
  },
  {
   "cell_type": "code",
   "execution_count": 41,
   "metadata": {},
   "outputs": [],
   "source": [
    "# quickest replies have the highest ranking, we'll assume NaNs represent not replying at all\n",
    "response_dict = {'a few days or more': 1, 'within a day': 2, 'within a few hours': 3, 'within an hour': 4}\n",
    "nyc_df['host_response_time'] = nyc_df['host_response_time'].map(response_dict)\n",
    "nyc_df['host_response_time'] = nyc_df['host_response_time'].fillna(0)"
   ]
  },
  {
   "cell_type": "code",
   "execution_count": 42,
   "metadata": {},
   "outputs": [
    {
     "data": {
      "text/plain": [
       "strict_14_with_grace_period    22729\n",
       "flexible                       15771\n",
       "moderate                       11704\n",
       "super_strict_60                   92\n",
       "strict                            62\n",
       "super_strict_30                   20\n",
       "Name: cancellation_policy, dtype: int64"
      ]
     },
     "execution_count": 42,
     "metadata": {},
     "output_type": "execute_result"
    }
   ],
   "source": [
    "nyc_df['cancellation_policy'].value_counts()"
   ]
  },
  {
   "cell_type": "code",
   "execution_count": 43,
   "metadata": {},
   "outputs": [],
   "source": [
    "# higher rankings are given to the more flexible \n",
    "cancel_dict = {'flexible': 6,\n",
    "               'moderate': 5,\n",
    "               'strict_14_with_grace_period': 4, \n",
    "               'strict': 3,\n",
    "               'super_strict_60': 2,\n",
    "               'super_strict_30': 1}\n",
    "nyc_df['cancellation_policy'] = nyc_df['cancellation_policy'].map(cancel_dict)\n",
    "nyc_df['cancellation_policy'] = nyc_df['cancellation_policy'].fillna(0)"
   ]
  },
  {
   "cell_type": "code",
   "execution_count": 44,
   "metadata": {},
   "outputs": [
    {
     "data": {
      "text/plain": [
       "0.0    20691\n",
       "4.0    18512\n",
       "3.0     6082\n",
       "2.0     4077\n",
       "1.0     1016\n",
       "Name: host_response_time, dtype: int64"
      ]
     },
     "execution_count": 44,
     "metadata": {},
     "output_type": "execute_result"
    }
   ],
   "source": [
    "nyc_df['host_response_time'].value_counts()"
   ]
  },
  {
   "cell_type": "markdown",
   "metadata": {},
   "source": [
    "One-hot encode nominal columns."
   ]
  },
  {
   "cell_type": "code",
   "execution_count": 45,
   "metadata": {},
   "outputs": [
    {
     "name": "stdout",
     "output_type": "stream",
     "text": [
      "Number of columns before one-hot encoding:  75\n"
     ]
    }
   ],
   "source": [
    "print('Number of columns before one-hot encoding: ', nyc_df.shape[1])"
   ]
  },
  {
   "cell_type": "code",
   "execution_count": 46,
   "metadata": {},
   "outputs": [],
   "source": [
    "nominal_col = ['neighbourhood_cleansed', 'property_type', 'room_type', 'bed_type']\n",
    "for col in nominal_col:\n",
    "    if nyc_df[col].isna().sum() != 0:\n",
    "        drop_first = False\n",
    "    else:\n",
    "        drop_first = True\n",
    "    nyc_df = pd.concat([nyc_df,pd.get_dummies(nyc_df[col], drop_first = drop_first, dtype = float)],axis=1)\n",
    "nyc_df = nyc_df.drop(columns = nominal_col)"
   ]
  },
  {
   "cell_type": "code",
   "execution_count": 49,
   "metadata": {
    "scrolled": true
   },
   "outputs": [
    {
     "data": {
      "text/html": [
       "<div>\n",
       "<style scoped>\n",
       "    .dataframe tbody tr th:only-of-type {\n",
       "        vertical-align: middle;\n",
       "    }\n",
       "\n",
       "    .dataframe tbody tr th {\n",
       "        vertical-align: top;\n",
       "    }\n",
       "\n",
       "    .dataframe thead th {\n",
       "        text-align: right;\n",
       "    }\n",
       "</style>\n",
       "<table border=\"1\" class=\"dataframe\">\n",
       "  <thead>\n",
       "    <tr style=\"text-align: right;\">\n",
       "      <th></th>\n",
       "      <th>name</th>\n",
       "      <th>summary</th>\n",
       "      <th>space</th>\n",
       "      <th>description</th>\n",
       "      <th>neighborhood_overview</th>\n",
       "      <th>notes</th>\n",
       "      <th>transit</th>\n",
       "      <th>access</th>\n",
       "      <th>interaction</th>\n",
       "      <th>house_rules</th>\n",
       "      <th>...</th>\n",
       "      <th>Treehouse</th>\n",
       "      <th>Villa</th>\n",
       "      <th>Yurt</th>\n",
       "      <th>Hotel room</th>\n",
       "      <th>Private room</th>\n",
       "      <th>Shared room</th>\n",
       "      <th>Couch</th>\n",
       "      <th>Futon</th>\n",
       "      <th>Pull-out Sofa</th>\n",
       "      <th>Real Bed</th>\n",
       "    </tr>\n",
       "  </thead>\n",
       "  <tbody>\n",
       "    <tr>\n",
       "      <td>0</td>\n",
       "      <td>10.0</td>\n",
       "      <td>0.0</td>\n",
       "      <td>427.0</td>\n",
       "      <td>427.0</td>\n",
       "      <td>0.0</td>\n",
       "      <td>0.0</td>\n",
       "      <td>0.0</td>\n",
       "      <td>0.0</td>\n",
       "      <td>0.0</td>\n",
       "      <td>0.0</td>\n",
       "      <td>...</td>\n",
       "      <td>0.0</td>\n",
       "      <td>0.0</td>\n",
       "      <td>0.0</td>\n",
       "      <td>0.0</td>\n",
       "      <td>1.0</td>\n",
       "      <td>0.0</td>\n",
       "      <td>0.0</td>\n",
       "      <td>0.0</td>\n",
       "      <td>0.0</td>\n",
       "      <td>1.0</td>\n",
       "    </tr>\n",
       "    <tr>\n",
       "      <td>1</td>\n",
       "      <td>21.0</td>\n",
       "      <td>205.0</td>\n",
       "      <td>1000.0</td>\n",
       "      <td>1000.0</td>\n",
       "      <td>217.0</td>\n",
       "      <td>0.0</td>\n",
       "      <td>502.0</td>\n",
       "      <td>103.0</td>\n",
       "      <td>762.0</td>\n",
       "      <td>107.0</td>\n",
       "      <td>...</td>\n",
       "      <td>0.0</td>\n",
       "      <td>0.0</td>\n",
       "      <td>0.0</td>\n",
       "      <td>0.0</td>\n",
       "      <td>0.0</td>\n",
       "      <td>0.0</td>\n",
       "      <td>0.0</td>\n",
       "      <td>0.0</td>\n",
       "      <td>0.0</td>\n",
       "      <td>1.0</td>\n",
       "    </tr>\n",
       "    <tr>\n",
       "      <td>2</td>\n",
       "      <td>31.0</td>\n",
       "      <td>440.0</td>\n",
       "      <td>1000.0</td>\n",
       "      <td>1000.0</td>\n",
       "      <td>108.0</td>\n",
       "      <td>0.0</td>\n",
       "      <td>1000.0</td>\n",
       "      <td>596.0</td>\n",
       "      <td>217.0</td>\n",
       "      <td>83.0</td>\n",
       "      <td>...</td>\n",
       "      <td>0.0</td>\n",
       "      <td>0.0</td>\n",
       "      <td>0.0</td>\n",
       "      <td>0.0</td>\n",
       "      <td>0.0</td>\n",
       "      <td>0.0</td>\n",
       "      <td>0.0</td>\n",
       "      <td>0.0</td>\n",
       "      <td>0.0</td>\n",
       "      <td>1.0</td>\n",
       "    </tr>\n",
       "    <tr>\n",
       "      <td>3</td>\n",
       "      <td>41.0</td>\n",
       "      <td>460.0</td>\n",
       "      <td>1000.0</td>\n",
       "      <td>1000.0</td>\n",
       "      <td>896.0</td>\n",
       "      <td>274.0</td>\n",
       "      <td>1000.0</td>\n",
       "      <td>29.0</td>\n",
       "      <td>140.0</td>\n",
       "      <td>149.0</td>\n",
       "      <td>...</td>\n",
       "      <td>0.0</td>\n",
       "      <td>0.0</td>\n",
       "      <td>0.0</td>\n",
       "      <td>0.0</td>\n",
       "      <td>0.0</td>\n",
       "      <td>0.0</td>\n",
       "      <td>0.0</td>\n",
       "      <td>0.0</td>\n",
       "      <td>0.0</td>\n",
       "      <td>1.0</td>\n",
       "    </tr>\n",
       "    <tr>\n",
       "      <td>4</td>\n",
       "      <td>15.0</td>\n",
       "      <td>0.0</td>\n",
       "      <td>1000.0</td>\n",
       "      <td>1000.0</td>\n",
       "      <td>0.0</td>\n",
       "      <td>0.0</td>\n",
       "      <td>0.0</td>\n",
       "      <td>0.0</td>\n",
       "      <td>0.0</td>\n",
       "      <td>0.0</td>\n",
       "      <td>...</td>\n",
       "      <td>0.0</td>\n",
       "      <td>0.0</td>\n",
       "      <td>0.0</td>\n",
       "      <td>0.0</td>\n",
       "      <td>1.0</td>\n",
       "      <td>0.0</td>\n",
       "      <td>0.0</td>\n",
       "      <td>1.0</td>\n",
       "      <td>0.0</td>\n",
       "      <td>0.0</td>\n",
       "    </tr>\n",
       "  </tbody>\n",
       "</table>\n",
       "<p>5 rows × 339 columns</p>\n",
       "</div>"
      ],
      "text/plain": [
       "   name  summary   space  description  neighborhood_overview  notes  transit  \\\n",
       "0  10.0      0.0   427.0        427.0                    0.0    0.0      0.0   \n",
       "1  21.0    205.0  1000.0       1000.0                  217.0    0.0    502.0   \n",
       "2  31.0    440.0  1000.0       1000.0                  108.0    0.0   1000.0   \n",
       "3  41.0    460.0  1000.0       1000.0                  896.0  274.0   1000.0   \n",
       "4  15.0      0.0  1000.0       1000.0                    0.0    0.0      0.0   \n",
       "\n",
       "   access  interaction  house_rules  ...  Treehouse  Villa  Yurt  Hotel room  \\\n",
       "0     0.0          0.0          0.0  ...        0.0    0.0   0.0         0.0   \n",
       "1   103.0        762.0        107.0  ...        0.0    0.0   0.0         0.0   \n",
       "2   596.0        217.0         83.0  ...        0.0    0.0   0.0         0.0   \n",
       "3    29.0        140.0        149.0  ...        0.0    0.0   0.0         0.0   \n",
       "4     0.0          0.0          0.0  ...        0.0    0.0   0.0         0.0   \n",
       "\n",
       "   Private room  Shared room  Couch  Futon  Pull-out Sofa  Real Bed  \n",
       "0           1.0          0.0    0.0    0.0            0.0       1.0  \n",
       "1           0.0          0.0    0.0    0.0            0.0       1.0  \n",
       "2           0.0          0.0    0.0    0.0            0.0       1.0  \n",
       "3           0.0          0.0    0.0    0.0            0.0       1.0  \n",
       "4           1.0          0.0    0.0    1.0            0.0       0.0  \n",
       "\n",
       "[5 rows x 339 columns]"
      ]
     },
     "execution_count": 49,
     "metadata": {},
     "output_type": "execute_result"
    }
   ],
   "source": [
    "nyc_df.head()"
   ]
  },
  {
   "cell_type": "markdown",
   "metadata": {},
   "source": [
    "#### Correlation"
   ]
  },
  {
   "cell_type": "code",
   "execution_count": 50,
   "metadata": {},
   "outputs": [
    {
     "data": {
      "image/png": "[encoded data removed]",
      "text/plain": [
       "<Figure size 1440x1440 with 2 Axes>"
      ]
     },
     "metadata": {
      "needs_background": "light"
     },
     "output_type": "display_data"
    }
   ],
   "source": [
    "corr = nyc_df.iloc[:, :77].corr()\n",
    "plt.figure(figsize = (20,20))\n",
    "ax = sns.heatmap(\n",
    "    corr, \n",
    "    vmin=-1, vmax=1, center=0,\n",
    "    cmap=sns.diverging_palette(20, 220, n=200),\n",
    "    square=True\n",
    ")\n",
    "ax.set_xticklabels(\n",
    "    ax.get_xticklabels(),\n",
    "    rotation=45,\n",
    "    horizontalalignment='right'\n",
    ");"
   ]
  },
  {
   "cell_type": "code",
   "execution_count": 51,
   "metadata": {},
   "outputs": [
    {
     "name": "stdout",
     "output_type": "stream",
     "text": [
      "host_id and host_since are correlated: -0.908141178952848\n",
      "host_response_time and host_response_rate are correlated: 0.9605275824977534\n",
      "host_is_superhost and host_has_profile_pic are correlated: 1.0\n",
      "host_is_superhost and host_identity_verified are correlated: 1.0\n",
      "host_listings_count and host_total_listings_count are correlated: 1.0\n",
      "host_has_profile_pic and host_identity_verified are correlated: 1.0\n",
      "latitude and longitude are correlated: 0.9975618606016281\n",
      "minimum_nights and minimum_minimum_nights are correlated: 0.8559174392667559\n",
      "maximum_nights and minimum_maximum_nights are correlated: 0.9999999996792905\n",
      "maximum_minimum_nights and minimum_nights_avg_ntm are correlated: 0.9950220127273937\n",
      "maximum_maximum_nights and maximum_nights_avg_ntm are correlated: 0.9906456996761888\n",
      "calendar_updated and last_review are correlated: 0.8650794282522112\n",
      "availability_30 and availability_60 are correlated: 0.9632475355486428\n",
      "availability_30 and availability_90 are correlated: 0.9185339366555747\n",
      "availability_60 and availability_90 are correlated: 0.9806247148766885\n",
      "number_of_reviews_ltm and reviews_per_month are correlated: 0.8927153254822368\n",
      "calculated_host_listings_count and calculated_host_listings_count_entire_homes are correlated: 0.9735696789720516\n"
     ]
    }
   ],
   "source": [
    "avoid_repeat = []\n",
    "for i in range(len(corr)):\n",
    "    for j in range(len(corr)):\n",
    "        if i != j and j not in avoid_repeat and (corr.iloc[i,j] > 0.8 or corr.iloc[i,j] < -0.8):\n",
    "            avoid_repeat.append(i)\n",
    "            print('{} and {} are correlated: {}'.format(corr.index[i], corr.columns[j], corr.iloc[i,j]))"
   ]
  },
  {
   "cell_type": "markdown",
   "metadata": {},
   "source": [
    "Most of the highly correlated columns aren't suprising, such as host_listings_count and host_total_listings_count. But it's interesting to see that superhosts all have profile pictures and have their identities verified. Also hosts who have profile pictures and also have their identities verified. It's also intersting to see availability_30 and availability_90 are less correlated than availability_30 and availability_60."
   ]
  },
  {
   "cell_type": "markdown",
   "metadata": {},
   "source": [
    "To avoid colinearity during modeling, we'll remove some of these columns. "
   ]
  },
  {
   "cell_type": "code",
   "execution_count": 52,
   "metadata": {},
   "outputs": [],
   "source": [
    "corr_col = ['host_has_profile_pic', 'host_identity_verified', 'host_total_listings_count',\n",
    "            'minimum_minimum_nights', 'minimum_maximum_nights', 'minimum_nights_avg_ntm',\n",
    "            'maximum_nights_avg_ntm', 'number_of_reviews_ltm', 'calculated_host_listings_count_entire_homes']"
   ]
  },
  {
   "cell_type": "code",
   "execution_count": 53,
   "metadata": {},
   "outputs": [],
   "source": [
    "nyc_df = nyc_df.drop(columns = corr_col)"
   ]
  },
  {
   "cell_type": "code",
   "execution_count": 66,
   "metadata": {},
   "outputs": [
    {
     "data": {
      "text/plain": [
       "review_scores_value            11732\n",
       "review_scores_location         11731\n",
       "review_scores_checkin          11728\n",
       "review_scores_accuracy         11715\n",
       "review_scores_communication    11713\n",
       "review_scores_cleanliness      11701\n",
       "review_scores_rating           11681\n",
       "reviews_per_month              10704\n",
       "first_review                   10704\n",
       "last_review                    10703\n",
       "beds                             520\n",
       "bedrooms                          97\n",
       "bathrooms                         59\n",
       "host_since                         8\n",
       "host_listings_count                8\n",
       "East Elmhurst                      0\n",
       "dtype: int64"
      ]
     },
     "execution_count": 66,
     "metadata": {},
     "output_type": "execute_result"
    }
   ],
   "source": [
    "nyc_df.isna().sum().sort_values(ascending = False)[:16]"
   ]
  },
  {
   "cell_type": "code",
   "execution_count": 67,
   "metadata": {},
   "outputs": [],
   "source": [
    "# Since all NaN values are just numbers, we'll fill them with 0s\n",
    "nyc_df = nyc_df.fillna(0)"
   ]
  },
  {
   "cell_type": "markdown",
   "metadata": {},
   "source": [
    "#### Modeling"
   ]
  },
  {
   "cell_type": "markdown",
   "metadata": {},
   "source": [
    "First, we'll predict a listing's quality/popularity using its review scores."
   ]
  },
  {
   "cell_type": "code",
   "execution_count": 68,
   "metadata": {},
   "outputs": [
    {
     "data": {
      "text/plain": [
       "10.0    21591\n",
       "9.0     13072\n",
       "0.0     11732\n",
       "8.0      2758\n",
       "6.0       458\n",
       "7.0       454\n",
       "2.0       136\n",
       "4.0       111\n",
       "5.0        61\n",
       "3.0         5\n",
       "Name: review_scores_value, dtype: int64"
      ]
     },
     "execution_count": 68,
     "metadata": {},
     "output_type": "execute_result"
    }
   ],
   "source": [
    "# prepare the data\n",
    "X, y = nyc_df.drop(columns = 'review_scores_value'), nyc_df['review_scores_value']\n",
    "y.value_counts()"
   ]
  },
  {
   "cell_type": "markdown",
   "metadata": {},
   "source": [
    "Say a good listing has a review score of 10, anything less than 10 count as not so good. The dataset is relatively balanced."
   ]
  },
  {
   "cell_type": "code",
   "execution_count": 69,
   "metadata": {},
   "outputs": [],
   "source": [
    "y = (y == 10).astype(int)"
   ]
  },
  {
   "cell_type": "code",
   "execution_count": 70,
   "metadata": {},
   "outputs": [
    {
     "name": "stdout",
     "output_type": "stream",
     "text": [
      "Proportion of good reviews:  0.5714200643137878\n",
      "Proportion of not so good reviews:  0.4285799356862122\n"
     ]
    }
   ],
   "source": [
    "print('Proportion of good reviews: ', y.value_counts()[0]/len(y))\n",
    "print('Proportion of not so good reviews: ', y.value_counts()[1]/len(y))"
   ]
  },
  {
   "cell_type": "code",
   "execution_count": 71,
   "metadata": {},
   "outputs": [],
   "source": [
    "# split the data\n",
    "X_train, X_test, y_train, y_test = train_test_split(X, y, test_size=0.2, random_state=42)"
   ]
  },
  {
   "cell_type": "code",
   "execution_count": 75,
   "metadata": {
    "scrolled": false
   },
   "outputs": [
    {
     "name": "stderr",
     "output_type": "stream",
     "text": [
      "/Users/catharinewu/opt/anaconda3/lib/python3.7/site-packages/sklearn/ensemble/forest.py:245: FutureWarning: The default value of n_estimators will change from 10 in version 0.20 to 100 in 0.22.\n",
      "  \"10 in version 0.20 to 100 in 0.22.\", FutureWarning)\n"
     ]
    },
    {
     "name": "stdout",
     "output_type": "stream",
     "text": [
      "mse:  0.16583961889638746\n"
     ]
    }
   ],
   "source": [
    "rf = RandomForestClassifier().fit(X_train, y_train)\n",
    "prediction = list(rf.predict(X_test))\n",
    "print('mse: ', mean_squared_error(prediction,y_test))"
   ]
  },
  {
   "cell_type": "code",
   "execution_count": null,
   "metadata": {},
   "outputs": [],
   "source": []
  }
 ],
 "metadata": {
  "kernelspec": {
   "display_name": "Python 3",
   "language": "python",
   "name": "python3"
  },
  "language_info": {
   "codemirror_mode": {
    "name": "ipython",
    "version": 3
   },
   "file_extension": ".py",
   "mimetype": "text/x-python",
   "name": "python",
   "nbconvert_exporter": "python",
   "pygments_lexer": "ipython3",
   "version": "3.7.4"
  }
 },
 "nbformat": 4,
 "nbformat_minor": 2
}
