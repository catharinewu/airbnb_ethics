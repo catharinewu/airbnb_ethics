{
 "cells": [
  {
   "cell_type": "markdown",
   "metadata": {},
   "source": [
    "# Abstract\n",
    "---\n",
    "Airbnb is a popular platform when people are looking for short-term housings for travel or business. It is surprising that Airbnb publicly releases an enormous amount of data on its listings including detailed information on the location of the listings and the hosts, which raises privacy concerns. In this project, we focus on the Airbnb Boston dataset, discuss its ethical issues and predict listing qualities. For such an identifiable dataset, our first instinct was anonymization. But we were concerned that such procedures would affect the efficiency and accuracy of our analysis. So after data cleaning and model selection, we fit a Random Forest model to both the 3-anonymous and the original cleaned dataset, and compare their performance. The result was quite interesting. The Random Forest model took exact locations, such as Longitude as an important feature, but discarded the rather general location info, such as Neighborhood. And the model actually performed much better on the anonymized data. Thus we conclude that, anonymization, as shown in our example, can not only help protect privacy, but also remove noise in the datset, relieve the overfitting problem and help the model achieve a better performance."
   ]
  },
  {
   "cell_type": "markdown",
   "metadata": {},
   "source": [
    "# Content\n",
    "---\n",
    "### 1. [Data Introduction](#1) \n",
    "### 2. [Ethical Issues](#2)\n",
    "### 3. [Data Cleaning](#3)\n",
    "### 4. [Modeling & Analysis without anonymization](#4)\n",
    "### 5. [Anonymization](#5)\n",
    "### 6. [Results](#6)\n",
    "### 7. [Conclusion](#7)"
   ]
  },
  {
   "cell_type": "code",
   "execution_count": 1,
   "metadata": {},
   "outputs": [],
   "source": [
    "import pandas as pd\n",
    "import numpy as np\n",
    "import matplotlib.pyplot as plt\n",
    "import seaborn as sns\n",
    "\n",
    "from sklearn.model_selection import train_test_split\n",
    "from sklearn.ensemble import RandomForestClassifier\n",
    "from sklearn.metrics import mean_squared_error\n",
    "from sklearn.metrics import confusion_matrix\n",
    "from sklearn.metrics import roc_curve\n",
    "from sklearn.metrics import roc_auc_score\n",
    "from matplotlib import pyplot\n",
    "from collections import defaultdict\n",
    "from itertools import chain\n",
    "import warnings\n",
    "warnings.filterwarnings('ignore')\n",
    "from IPython.display import Image"
   ]
  },
  {
   "cell_type": "code",
   "execution_count": 2,
   "metadata": {},
   "outputs": [],
   "source": [
    "pd.set_option('display.max_rows', 500)\n",
    "pd.set_option('display.max_columns', 500)"
   ]
  },
  {
   "cell_type": "markdown",
   "metadata": {},
   "source": [
    "## Data Introduction  <a id = \"1\"></a>"
   ]
  },
  {
   "cell_type": "markdown",
   "metadata": {},
   "source": [
    "Data Source: http://insideairbnb.com/get-the-data.html"
   ]
  },
  {
   "cell_type": "code",
   "execution_count": 3,
   "metadata": {
    "scrolled": true
   },
   "outputs": [],
   "source": [
    "bos_listing = pd.read_csv('listings_bos.csv')"
   ]
  },
  {
   "cell_type": "code",
   "execution_count": 4,
   "metadata": {
    "scrolled": true
   },
   "outputs": [
    {
     "data": {
      "text/html": [
       "<div>\n",
       "<style scoped>\n",
       "    .dataframe tbody tr th:only-of-type {\n",
       "        vertical-align: middle;\n",
       "    }\n",
       "\n",
       "    .dataframe tbody tr th {\n",
       "        vertical-align: top;\n",
       "    }\n",
       "\n",
       "    .dataframe thead th {\n",
       "        text-align: right;\n",
       "    }\n",
       "</style>\n",
       "<table border=\"1\" class=\"dataframe\">\n",
       "  <thead>\n",
       "    <tr style=\"text-align: right;\">\n",
       "      <th></th>\n",
       "      <th>id</th>\n",
       "      <th>listing_url</th>\n",
       "      <th>scrape_id</th>\n",
       "      <th>last_scraped</th>\n",
       "      <th>name</th>\n",
       "      <th>summary</th>\n",
       "      <th>space</th>\n",
       "      <th>description</th>\n",
       "      <th>experiences_offered</th>\n",
       "      <th>neighborhood_overview</th>\n",
       "      <th>notes</th>\n",
       "      <th>transit</th>\n",
       "      <th>access</th>\n",
       "      <th>interaction</th>\n",
       "      <th>house_rules</th>\n",
       "      <th>thumbnail_url</th>\n",
       "      <th>medium_url</th>\n",
       "      <th>picture_url</th>\n",
       "      <th>xl_picture_url</th>\n",
       "      <th>host_id</th>\n",
       "      <th>host_url</th>\n",
       "      <th>host_name</th>\n",
       "      <th>host_since</th>\n",
       "      <th>host_location</th>\n",
       "      <th>host_about</th>\n",
       "      <th>host_response_time</th>\n",
       "      <th>host_response_rate</th>\n",
       "      <th>host_acceptance_rate</th>\n",
       "      <th>host_is_superhost</th>\n",
       "      <th>host_thumbnail_url</th>\n",
       "      <th>host_picture_url</th>\n",
       "      <th>host_neighbourhood</th>\n",
       "      <th>host_listings_count</th>\n",
       "      <th>host_total_listings_count</th>\n",
       "      <th>host_verifications</th>\n",
       "      <th>host_has_profile_pic</th>\n",
       "      <th>host_identity_verified</th>\n",
       "      <th>street</th>\n",
       "      <th>neighbourhood</th>\n",
       "      <th>neighbourhood_cleansed</th>\n",
       "      <th>neighbourhood_group_cleansed</th>\n",
       "      <th>city</th>\n",
       "      <th>state</th>\n",
       "      <th>zipcode</th>\n",
       "      <th>market</th>\n",
       "      <th>smart_location</th>\n",
       "      <th>country_code</th>\n",
       "      <th>country</th>\n",
       "      <th>latitude</th>\n",
       "      <th>longitude</th>\n",
       "      <th>is_location_exact</th>\n",
       "      <th>property_type</th>\n",
       "      <th>room_type</th>\n",
       "      <th>accommodates</th>\n",
       "      <th>bathrooms</th>\n",
       "      <th>bedrooms</th>\n",
       "      <th>beds</th>\n",
       "      <th>bed_type</th>\n",
       "      <th>amenities</th>\n",
       "      <th>square_feet</th>\n",
       "      <th>price</th>\n",
       "      <th>weekly_price</th>\n",
       "      <th>monthly_price</th>\n",
       "      <th>security_deposit</th>\n",
       "      <th>cleaning_fee</th>\n",
       "      <th>guests_included</th>\n",
       "      <th>extra_people</th>\n",
       "      <th>minimum_nights</th>\n",
       "      <th>maximum_nights</th>\n",
       "      <th>minimum_minimum_nights</th>\n",
       "      <th>maximum_minimum_nights</th>\n",
       "      <th>minimum_maximum_nights</th>\n",
       "      <th>maximum_maximum_nights</th>\n",
       "      <th>minimum_nights_avg_ntm</th>\n",
       "      <th>maximum_nights_avg_ntm</th>\n",
       "      <th>calendar_updated</th>\n",
       "      <th>has_availability</th>\n",
       "      <th>availability_30</th>\n",
       "      <th>availability_60</th>\n",
       "      <th>availability_90</th>\n",
       "      <th>availability_365</th>\n",
       "      <th>calendar_last_scraped</th>\n",
       "      <th>number_of_reviews</th>\n",
       "      <th>number_of_reviews_ltm</th>\n",
       "      <th>first_review</th>\n",
       "      <th>last_review</th>\n",
       "      <th>review_scores_rating</th>\n",
       "      <th>review_scores_accuracy</th>\n",
       "      <th>review_scores_cleanliness</th>\n",
       "      <th>review_scores_checkin</th>\n",
       "      <th>review_scores_communication</th>\n",
       "      <th>review_scores_location</th>\n",
       "      <th>review_scores_value</th>\n",
       "      <th>requires_license</th>\n",
       "      <th>license</th>\n",
       "      <th>jurisdiction_names</th>\n",
       "      <th>instant_bookable</th>\n",
       "      <th>is_business_travel_ready</th>\n",
       "      <th>cancellation_policy</th>\n",
       "      <th>require_guest_profile_picture</th>\n",
       "      <th>require_guest_phone_verification</th>\n",
       "      <th>calculated_host_listings_count</th>\n",
       "      <th>calculated_host_listings_count_entire_homes</th>\n",
       "      <th>calculated_host_listings_count_private_rooms</th>\n",
       "      <th>calculated_host_listings_count_shared_rooms</th>\n",
       "      <th>reviews_per_month</th>\n",
       "    </tr>\n",
       "  </thead>\n",
       "  <tbody>\n",
       "    <tr>\n",
       "      <td>0</td>\n",
       "      <td>3781</td>\n",
       "      <td>https://www.airbnb.com/rooms/3781</td>\n",
       "      <td>20200414051806</td>\n",
       "      <td>2020-04-14</td>\n",
       "      <td>HARBORSIDE-Walk to subway</td>\n",
       "      <td>Fully separate apartment in a two apartment bu...</td>\n",
       "      <td>This is a totally separate apartment located o...</td>\n",
       "      <td>Fully separate apartment in a two apartment bu...</td>\n",
       "      <td>none</td>\n",
       "      <td>Mostly quiet ( no loud music, no crowed sidewa...</td>\n",
       "      <td>Building is on quiet side of airport. Building...</td>\n",
       "      <td>Local subway stop ( Maverick Station on the Bl...</td>\n",
       "      <td>Guests solely occupy the 1 floor apartment wit...</td>\n",
       "      <td>We sometimes travel. Always available via: mob...</td>\n",
       "      <td>No pets, no smoking.</td>\n",
       "      <td>NaN</td>\n",
       "      <td>NaN</td>\n",
       "      <td>https://a0.muscache.com/im/pictures/24670/b2de...</td>\n",
       "      <td>NaN</td>\n",
       "      <td>4804</td>\n",
       "      <td>https://www.airbnb.com/users/show/4804</td>\n",
       "      <td>Frank</td>\n",
       "      <td>2008-12-03</td>\n",
       "      <td>Massachusetts</td>\n",
       "      <td>My wife and I and grown children frequently oc...</td>\n",
       "      <td>within a few hours</td>\n",
       "      <td>100%</td>\n",
       "      <td>44%</td>\n",
       "      <td>t</td>\n",
       "      <td>https://a0.muscache.com/im/users/4804/profile_...</td>\n",
       "      <td>https://a0.muscache.com/im/users/4804/profile_...</td>\n",
       "      <td>East Boston</td>\n",
       "      <td>5</td>\n",
       "      <td>5</td>\n",
       "      <td>['email', 'phone', 'reviews']</td>\n",
       "      <td>t</td>\n",
       "      <td>f</td>\n",
       "      <td>Boston, MA, United States</td>\n",
       "      <td>East Boston</td>\n",
       "      <td>East Boston</td>\n",
       "      <td>NaN</td>\n",
       "      <td>Boston</td>\n",
       "      <td>MA</td>\n",
       "      <td>02128</td>\n",
       "      <td>Boston</td>\n",
       "      <td>Boston, MA</td>\n",
       "      <td>US</td>\n",
       "      <td>United States</td>\n",
       "      <td>42.36413</td>\n",
       "      <td>-71.02991</td>\n",
       "      <td>t</td>\n",
       "      <td>Apartment</td>\n",
       "      <td>Entire home/apt</td>\n",
       "      <td>2</td>\n",
       "      <td>1.0</td>\n",
       "      <td>1.0</td>\n",
       "      <td>0.0</td>\n",
       "      <td>Real Bed</td>\n",
       "      <td>{TV,\"Cable TV\",Wifi,\"Air conditioning\",Kitchen...</td>\n",
       "      <td>NaN</td>\n",
       "      <td>$125.00</td>\n",
       "      <td>$750.00</td>\n",
       "      <td>$2,250.00</td>\n",
       "      <td>$0.00</td>\n",
       "      <td>$75.00</td>\n",
       "      <td>2</td>\n",
       "      <td>$0.00</td>\n",
       "      <td>28</td>\n",
       "      <td>1125</td>\n",
       "      <td>28</td>\n",
       "      <td>28</td>\n",
       "      <td>1125</td>\n",
       "      <td>1125</td>\n",
       "      <td>28.0</td>\n",
       "      <td>1125.0</td>\n",
       "      <td>2 months ago</td>\n",
       "      <td>t</td>\n",
       "      <td>11</td>\n",
       "      <td>20</td>\n",
       "      <td>20</td>\n",
       "      <td>97</td>\n",
       "      <td>2020-04-14</td>\n",
       "      <td>16</td>\n",
       "      <td>1</td>\n",
       "      <td>2015-07-10</td>\n",
       "      <td>2019-12-21</td>\n",
       "      <td>99.0</td>\n",
       "      <td>10.0</td>\n",
       "      <td>10.0</td>\n",
       "      <td>10.0</td>\n",
       "      <td>10.0</td>\n",
       "      <td>10.0</td>\n",
       "      <td>10.0</td>\n",
       "      <td>t</td>\n",
       "      <td>NaN</td>\n",
       "      <td>{\"Massachusetts State\",\" Massachusetts State\"}</td>\n",
       "      <td>f</td>\n",
       "      <td>f</td>\n",
       "      <td>super_strict_30</td>\n",
       "      <td>f</td>\n",
       "      <td>f</td>\n",
       "      <td>1</td>\n",
       "      <td>1</td>\n",
       "      <td>0</td>\n",
       "      <td>0</td>\n",
       "      <td>0.28</td>\n",
       "    </tr>\n",
       "    <tr>\n",
       "      <td>1</td>\n",
       "      <td>5506</td>\n",
       "      <td>https://www.airbnb.com/rooms/5506</td>\n",
       "      <td>20200414051806</td>\n",
       "      <td>2020-04-14</td>\n",
       "      <td>**$49 Special **   Private! Minutes to center!</td>\n",
       "      <td>Private guest room with private bath, You do n...</td>\n",
       "      <td>**THE BEST Value in BOSTON!!*** PRIVATE GUEST ...</td>\n",
       "      <td>Private guest room with private bath, You do n...</td>\n",
       "      <td>none</td>\n",
       "      <td>Peacful, Architecturally interesting, historic...</td>\n",
       "      <td>Guest room is on the 3rd floor,  Steps are req...</td>\n",
       "      <td>Excellent Access to all of Boston, Walk to Mus...</td>\n",
       "      <td>You get full access to the guest room with pri...</td>\n",
       "      <td>We give guests privacy,  but we are available ...</td>\n",
       "      <td>No Smoking in the Building.</td>\n",
       "      <td>NaN</td>\n",
       "      <td>NaN</td>\n",
       "      <td>https://a0.muscache.com/im/pictures/1598e8b6-5...</td>\n",
       "      <td>NaN</td>\n",
       "      <td>8229</td>\n",
       "      <td>https://www.airbnb.com/users/show/8229</td>\n",
       "      <td>Terry</td>\n",
       "      <td>2009-02-19</td>\n",
       "      <td>Boston, Massachusetts, United States</td>\n",
       "      <td>Relaxed,  Easy going, Accommodating.</td>\n",
       "      <td>within an hour</td>\n",
       "      <td>100%</td>\n",
       "      <td>100%</td>\n",
       "      <td>t</td>\n",
       "      <td>https://a0.muscache.com/im/users/8229/profile_...</td>\n",
       "      <td>https://a0.muscache.com/im/users/8229/profile_...</td>\n",
       "      <td>Roxbury</td>\n",
       "      <td>2</td>\n",
       "      <td>2</td>\n",
       "      <td>['email', 'phone', 'reviews', 'kba']</td>\n",
       "      <td>t</td>\n",
       "      <td>t</td>\n",
       "      <td>Boston, MA, United States</td>\n",
       "      <td>Roxbury</td>\n",
       "      <td>Roxbury</td>\n",
       "      <td>NaN</td>\n",
       "      <td>Boston</td>\n",
       "      <td>MA</td>\n",
       "      <td>02119</td>\n",
       "      <td>Boston</td>\n",
       "      <td>Boston, MA</td>\n",
       "      <td>US</td>\n",
       "      <td>United States</td>\n",
       "      <td>42.32981</td>\n",
       "      <td>-71.09559</td>\n",
       "      <td>t</td>\n",
       "      <td>Guest suite</td>\n",
       "      <td>Entire home/apt</td>\n",
       "      <td>2</td>\n",
       "      <td>1.0</td>\n",
       "      <td>1.0</td>\n",
       "      <td>1.0</td>\n",
       "      <td>Real Bed</td>\n",
       "      <td>{TV,\"Cable TV\",Internet,Wifi,\"Air conditioning...</td>\n",
       "      <td>225.0</td>\n",
       "      <td>$145.00</td>\n",
       "      <td>$980.00</td>\n",
       "      <td>$3,000.00</td>\n",
       "      <td>$0.00</td>\n",
       "      <td>$60.00</td>\n",
       "      <td>1</td>\n",
       "      <td>$0.00</td>\n",
       "      <td>3</td>\n",
       "      <td>730</td>\n",
       "      <td>3</td>\n",
       "      <td>5</td>\n",
       "      <td>1125</td>\n",
       "      <td>1125</td>\n",
       "      <td>3.0</td>\n",
       "      <td>1125.0</td>\n",
       "      <td>3 weeks ago</td>\n",
       "      <td>t</td>\n",
       "      <td>1</td>\n",
       "      <td>14</td>\n",
       "      <td>44</td>\n",
       "      <td>307</td>\n",
       "      <td>2020-04-14</td>\n",
       "      <td>106</td>\n",
       "      <td>22</td>\n",
       "      <td>2009-03-21</td>\n",
       "      <td>2019-10-31</td>\n",
       "      <td>95.0</td>\n",
       "      <td>10.0</td>\n",
       "      <td>10.0</td>\n",
       "      <td>10.0</td>\n",
       "      <td>10.0</td>\n",
       "      <td>9.0</td>\n",
       "      <td>10.0</td>\n",
       "      <td>t</td>\n",
       "      <td>Exempt: This listing is a unit that has contra...</td>\n",
       "      <td>{\"Massachusetts State\",\" Massachusetts State\"}</td>\n",
       "      <td>t</td>\n",
       "      <td>f</td>\n",
       "      <td>strict_14_with_grace_period</td>\n",
       "      <td>f</td>\n",
       "      <td>f</td>\n",
       "      <td>6</td>\n",
       "      <td>6</td>\n",
       "      <td>0</td>\n",
       "      <td>0</td>\n",
       "      <td>0.79</td>\n",
       "    </tr>\n",
       "    <tr>\n",
       "      <td>2</td>\n",
       "      <td>6695</td>\n",
       "      <td>https://www.airbnb.com/rooms/6695</td>\n",
       "      <td>20200414051806</td>\n",
       "      <td>2020-04-14</td>\n",
       "      <td>$99 Special!! Home Away! Condo</td>\n",
       "      <td>Comfortable,  Fully Equipped private apartment...</td>\n",
       "      <td>** WELCOME *** FULL PRIVATE APARTMENT In a His...</td>\n",
       "      <td>Comfortable,  Fully Equipped private apartment...</td>\n",
       "      <td>none</td>\n",
       "      <td>Peaceful, Architecturally interesting, histori...</td>\n",
       "      <td>Check out some of the other accommodations we ...</td>\n",
       "      <td>We are a 5 minute walk to the subway,  5 minut...</td>\n",
       "      <td>Full Private apartment.  1 bedroom,  kitchen, ...</td>\n",
       "      <td>NaN</td>\n",
       "      <td>No Smoking in the Building.</td>\n",
       "      <td>NaN</td>\n",
       "      <td>NaN</td>\n",
       "      <td>https://a0.muscache.com/im/pictures/38ac4797-e...</td>\n",
       "      <td>NaN</td>\n",
       "      <td>8229</td>\n",
       "      <td>https://www.airbnb.com/users/show/8229</td>\n",
       "      <td>Terry</td>\n",
       "      <td>2009-02-19</td>\n",
       "      <td>Boston, Massachusetts, United States</td>\n",
       "      <td>Relaxed,  Easy going, Accommodating.</td>\n",
       "      <td>within an hour</td>\n",
       "      <td>100%</td>\n",
       "      <td>100%</td>\n",
       "      <td>t</td>\n",
       "      <td>https://a0.muscache.com/im/users/8229/profile_...</td>\n",
       "      <td>https://a0.muscache.com/im/users/8229/profile_...</td>\n",
       "      <td>Roxbury</td>\n",
       "      <td>2</td>\n",
       "      <td>2</td>\n",
       "      <td>['email', 'phone', 'reviews', 'kba']</td>\n",
       "      <td>t</td>\n",
       "      <td>t</td>\n",
       "      <td>Boston, MA, United States</td>\n",
       "      <td>Roxbury</td>\n",
       "      <td>Roxbury</td>\n",
       "      <td>NaN</td>\n",
       "      <td>Boston</td>\n",
       "      <td>MA</td>\n",
       "      <td>02119</td>\n",
       "      <td>Boston</td>\n",
       "      <td>Boston, MA</td>\n",
       "      <td>US</td>\n",
       "      <td>United States</td>\n",
       "      <td>42.32994</td>\n",
       "      <td>-71.09351</td>\n",
       "      <td>t</td>\n",
       "      <td>Condominium</td>\n",
       "      <td>Entire home/apt</td>\n",
       "      <td>4</td>\n",
       "      <td>1.0</td>\n",
       "      <td>1.0</td>\n",
       "      <td>1.0</td>\n",
       "      <td>Real Bed</td>\n",
       "      <td>{TV,\"Cable TV\",Internet,Wifi,\"Air conditioning...</td>\n",
       "      <td>NaN</td>\n",
       "      <td>$169.00</td>\n",
       "      <td>NaN</td>\n",
       "      <td>NaN</td>\n",
       "      <td>$0.00</td>\n",
       "      <td>$80.00</td>\n",
       "      <td>2</td>\n",
       "      <td>$8.00</td>\n",
       "      <td>3</td>\n",
       "      <td>730</td>\n",
       "      <td>2</td>\n",
       "      <td>5</td>\n",
       "      <td>730</td>\n",
       "      <td>730</td>\n",
       "      <td>3.0</td>\n",
       "      <td>730.0</td>\n",
       "      <td>6 weeks ago</td>\n",
       "      <td>t</td>\n",
       "      <td>1</td>\n",
       "      <td>4</td>\n",
       "      <td>19</td>\n",
       "      <td>266</td>\n",
       "      <td>2020-04-14</td>\n",
       "      <td>115</td>\n",
       "      <td>29</td>\n",
       "      <td>2009-08-06</td>\n",
       "      <td>2019-11-02</td>\n",
       "      <td>96.0</td>\n",
       "      <td>10.0</td>\n",
       "      <td>10.0</td>\n",
       "      <td>10.0</td>\n",
       "      <td>10.0</td>\n",
       "      <td>9.0</td>\n",
       "      <td>10.0</td>\n",
       "      <td>t</td>\n",
       "      <td>STR-404620</td>\n",
       "      <td>{\"Massachusetts State\",\" Massachusetts State\"}</td>\n",
       "      <td>t</td>\n",
       "      <td>f</td>\n",
       "      <td>strict_14_with_grace_period</td>\n",
       "      <td>f</td>\n",
       "      <td>f</td>\n",
       "      <td>6</td>\n",
       "      <td>6</td>\n",
       "      <td>0</td>\n",
       "      <td>0</td>\n",
       "      <td>0.88</td>\n",
       "    </tr>\n",
       "    <tr>\n",
       "      <td>3</td>\n",
       "      <td>8789</td>\n",
       "      <td>https://www.airbnb.com/rooms/8789</td>\n",
       "      <td>20200414051806</td>\n",
       "      <td>2020-04-14</td>\n",
       "      <td>Curved Glass Studio/1bd facing Park</td>\n",
       "      <td>Bright, 1 bed with curved glass windows facing...</td>\n",
       "      <td>Fully Furnished studio with enclosed bedroom. ...</td>\n",
       "      <td>Bright, 1 bed with curved glass windows facing...</td>\n",
       "      <td>none</td>\n",
       "      <td>Beacon Hill is a historic neighborhood filled ...</td>\n",
       "      <td>Guests should expect to show government ID to ...</td>\n",
       "      <td>The MBTA site is a great reference for public ...</td>\n",
       "      <td>Guests have access to the full unit</td>\n",
       "      <td>I'm available for questions and/or issues.</td>\n",
       "      <td>NaN</td>\n",
       "      <td>NaN</td>\n",
       "      <td>NaN</td>\n",
       "      <td>https://a0.muscache.com/im/pictures/32210/7fdd...</td>\n",
       "      <td>NaN</td>\n",
       "      <td>26988</td>\n",
       "      <td>https://www.airbnb.com/users/show/26988</td>\n",
       "      <td>Anne</td>\n",
       "      <td>2009-07-22</td>\n",
       "      <td>Boston, Massachusetts, United States</td>\n",
       "      <td>I manage a number of furnished units around Bo...</td>\n",
       "      <td>within a few hours</td>\n",
       "      <td>100%</td>\n",
       "      <td>83%</td>\n",
       "      <td>t</td>\n",
       "      <td>https://a0.muscache.com/im/pictures/user/d7d71...</td>\n",
       "      <td>https://a0.muscache.com/im/pictures/user/d7d71...</td>\n",
       "      <td>Beacon Hill</td>\n",
       "      <td>10</td>\n",
       "      <td>10</td>\n",
       "      <td>['email', 'phone', 'reviews', 'jumio', 'offlin...</td>\n",
       "      <td>t</td>\n",
       "      <td>f</td>\n",
       "      <td>Boston, MA, United States</td>\n",
       "      <td>Beacon Hill</td>\n",
       "      <td>Downtown</td>\n",
       "      <td>NaN</td>\n",
       "      <td>Boston</td>\n",
       "      <td>MA</td>\n",
       "      <td>02108</td>\n",
       "      <td>Boston</td>\n",
       "      <td>Boston, MA</td>\n",
       "      <td>US</td>\n",
       "      <td>United States</td>\n",
       "      <td>42.35919</td>\n",
       "      <td>-71.06265</td>\n",
       "      <td>t</td>\n",
       "      <td>Apartment</td>\n",
       "      <td>Entire home/apt</td>\n",
       "      <td>2</td>\n",
       "      <td>1.0</td>\n",
       "      <td>1.0</td>\n",
       "      <td>1.0</td>\n",
       "      <td>Real Bed</td>\n",
       "      <td>{TV,\"Cable TV\",Internet,Wifi,\"Air conditioning...</td>\n",
       "      <td>NaN</td>\n",
       "      <td>$99.00</td>\n",
       "      <td>$1,200.00</td>\n",
       "      <td>$2,900.00</td>\n",
       "      <td>$1,000.00</td>\n",
       "      <td>$250.00</td>\n",
       "      <td>1</td>\n",
       "      <td>$0.00</td>\n",
       "      <td>91</td>\n",
       "      <td>365</td>\n",
       "      <td>91</td>\n",
       "      <td>91</td>\n",
       "      <td>365</td>\n",
       "      <td>365</td>\n",
       "      <td>91.0</td>\n",
       "      <td>365.0</td>\n",
       "      <td>7 months ago</td>\n",
       "      <td>t</td>\n",
       "      <td>17</td>\n",
       "      <td>42</td>\n",
       "      <td>42</td>\n",
       "      <td>290</td>\n",
       "      <td>2020-04-14</td>\n",
       "      <td>24</td>\n",
       "      <td>2</td>\n",
       "      <td>2014-08-12</td>\n",
       "      <td>2019-09-30</td>\n",
       "      <td>93.0</td>\n",
       "      <td>9.0</td>\n",
       "      <td>9.0</td>\n",
       "      <td>10.0</td>\n",
       "      <td>10.0</td>\n",
       "      <td>10.0</td>\n",
       "      <td>9.0</td>\n",
       "      <td>t</td>\n",
       "      <td>NaN</td>\n",
       "      <td>{\"Massachusetts State\",\" Massachusetts State\"}</td>\n",
       "      <td>f</td>\n",
       "      <td>f</td>\n",
       "      <td>strict_14_with_grace_period</td>\n",
       "      <td>f</td>\n",
       "      <td>f</td>\n",
       "      <td>8</td>\n",
       "      <td>8</td>\n",
       "      <td>0</td>\n",
       "      <td>0</td>\n",
       "      <td>0.35</td>\n",
       "    </tr>\n",
       "    <tr>\n",
       "      <td>4</td>\n",
       "      <td>10730</td>\n",
       "      <td>https://www.airbnb.com/rooms/10730</td>\n",
       "      <td>20200414051806</td>\n",
       "      <td>2020-04-14</td>\n",
       "      <td>Bright 1bed facing Golden Dome</td>\n",
       "      <td>Bright, spacious unit, new galley kitchen, new...</td>\n",
       "      <td>Bright one bed facing the golden dome of the S...</td>\n",
       "      <td>Bright, spacious unit, new galley kitchen, new...</td>\n",
       "      <td>none</td>\n",
       "      <td>Beacon Hill is located downtown and is conveni...</td>\n",
       "      <td>Guests should expect to show government ID to ...</td>\n",
       "      <td>The Red Park Street Train stop and the Green B...</td>\n",
       "      <td>Guests have access to everything in the unit.</td>\n",
       "      <td>I'm available as needed.</td>\n",
       "      <td>NO SMOKING, NO PETS. $100 move-in fee payable ...</td>\n",
       "      <td>NaN</td>\n",
       "      <td>NaN</td>\n",
       "      <td>https://a0.muscache.com/im/pictures/45296/e534...</td>\n",
       "      <td>NaN</td>\n",
       "      <td>26988</td>\n",
       "      <td>https://www.airbnb.com/users/show/26988</td>\n",
       "      <td>Anne</td>\n",
       "      <td>2009-07-22</td>\n",
       "      <td>Boston, Massachusetts, United States</td>\n",
       "      <td>I manage a number of furnished units around Bo...</td>\n",
       "      <td>within a few hours</td>\n",
       "      <td>100%</td>\n",
       "      <td>83%</td>\n",
       "      <td>t</td>\n",
       "      <td>https://a0.muscache.com/im/pictures/user/d7d71...</td>\n",
       "      <td>https://a0.muscache.com/im/pictures/user/d7d71...</td>\n",
       "      <td>Beacon Hill</td>\n",
       "      <td>10</td>\n",
       "      <td>10</td>\n",
       "      <td>['email', 'phone', 'reviews', 'jumio', 'offlin...</td>\n",
       "      <td>t</td>\n",
       "      <td>f</td>\n",
       "      <td>Boston, MA, United States</td>\n",
       "      <td>Beacon Hill</td>\n",
       "      <td>Downtown</td>\n",
       "      <td>NaN</td>\n",
       "      <td>Boston</td>\n",
       "      <td>MA</td>\n",
       "      <td>02108</td>\n",
       "      <td>Boston</td>\n",
       "      <td>Boston, MA</td>\n",
       "      <td>US</td>\n",
       "      <td>United States</td>\n",
       "      <td>42.35840</td>\n",
       "      <td>-71.06185</td>\n",
       "      <td>t</td>\n",
       "      <td>Apartment</td>\n",
       "      <td>Entire home/apt</td>\n",
       "      <td>2</td>\n",
       "      <td>1.0</td>\n",
       "      <td>1.0</td>\n",
       "      <td>1.0</td>\n",
       "      <td>Real Bed</td>\n",
       "      <td>{TV,\"Cable TV\",Internet,Wifi,\"Air conditioning...</td>\n",
       "      <td>NaN</td>\n",
       "      <td>$150.00</td>\n",
       "      <td>$1,200.00</td>\n",
       "      <td>$3,000.00</td>\n",
       "      <td>$1,000.00</td>\n",
       "      <td>$250.00</td>\n",
       "      <td>1</td>\n",
       "      <td>$0.00</td>\n",
       "      <td>91</td>\n",
       "      <td>365</td>\n",
       "      <td>91</td>\n",
       "      <td>91</td>\n",
       "      <td>365</td>\n",
       "      <td>365</td>\n",
       "      <td>91.0</td>\n",
       "      <td>365.0</td>\n",
       "      <td>5 weeks ago</td>\n",
       "      <td>t</td>\n",
       "      <td>28</td>\n",
       "      <td>29</td>\n",
       "      <td>29</td>\n",
       "      <td>42</td>\n",
       "      <td>2020-04-14</td>\n",
       "      <td>31</td>\n",
       "      <td>3</td>\n",
       "      <td>2009-09-21</td>\n",
       "      <td>2019-12-01</td>\n",
       "      <td>95.0</td>\n",
       "      <td>10.0</td>\n",
       "      <td>9.0</td>\n",
       "      <td>10.0</td>\n",
       "      <td>10.0</td>\n",
       "      <td>10.0</td>\n",
       "      <td>9.0</td>\n",
       "      <td>t</td>\n",
       "      <td>NaN</td>\n",
       "      <td>{\"Massachusetts State\",\" Massachusetts State\"}</td>\n",
       "      <td>f</td>\n",
       "      <td>f</td>\n",
       "      <td>strict_14_with_grace_period</td>\n",
       "      <td>f</td>\n",
       "      <td>f</td>\n",
       "      <td>8</td>\n",
       "      <td>8</td>\n",
       "      <td>0</td>\n",
       "      <td>0</td>\n",
       "      <td>0.24</td>\n",
       "    </tr>\n",
       "  </tbody>\n",
       "</table>\n",
       "</div>"
      ],
      "text/plain": [
       "      id                         listing_url       scrape_id last_scraped  \\\n",
       "0   3781   https://www.airbnb.com/rooms/3781  20200414051806   2020-04-14   \n",
       "1   5506   https://www.airbnb.com/rooms/5506  20200414051806   2020-04-14   \n",
       "2   6695   https://www.airbnb.com/rooms/6695  20200414051806   2020-04-14   \n",
       "3   8789   https://www.airbnb.com/rooms/8789  20200414051806   2020-04-14   \n",
       "4  10730  https://www.airbnb.com/rooms/10730  20200414051806   2020-04-14   \n",
       "\n",
       "                                             name  \\\n",
       "0                       HARBORSIDE-Walk to subway   \n",
       "1  **$49 Special **   Private! Minutes to center!   \n",
       "2                  $99 Special!! Home Away! Condo   \n",
       "3             Curved Glass Studio/1bd facing Park   \n",
       "4                  Bright 1bed facing Golden Dome   \n",
       "\n",
       "                                             summary  \\\n",
       "0  Fully separate apartment in a two apartment bu...   \n",
       "1  Private guest room with private bath, You do n...   \n",
       "2  Comfortable,  Fully Equipped private apartment...   \n",
       "3  Bright, 1 bed with curved glass windows facing...   \n",
       "4  Bright, spacious unit, new galley kitchen, new...   \n",
       "\n",
       "                                               space  \\\n",
       "0  This is a totally separate apartment located o...   \n",
       "1  **THE BEST Value in BOSTON!!*** PRIVATE GUEST ...   \n",
       "2  ** WELCOME *** FULL PRIVATE APARTMENT In a His...   \n",
       "3  Fully Furnished studio with enclosed bedroom. ...   \n",
       "4  Bright one bed facing the golden dome of the S...   \n",
       "\n",
       "                                         description experiences_offered  \\\n",
       "0  Fully separate apartment in a two apartment bu...                none   \n",
       "1  Private guest room with private bath, You do n...                none   \n",
       "2  Comfortable,  Fully Equipped private apartment...                none   \n",
       "3  Bright, 1 bed with curved glass windows facing...                none   \n",
       "4  Bright, spacious unit, new galley kitchen, new...                none   \n",
       "\n",
       "                               neighborhood_overview  \\\n",
       "0  Mostly quiet ( no loud music, no crowed sidewa...   \n",
       "1  Peacful, Architecturally interesting, historic...   \n",
       "2  Peaceful, Architecturally interesting, histori...   \n",
       "3  Beacon Hill is a historic neighborhood filled ...   \n",
       "4  Beacon Hill is located downtown and is conveni...   \n",
       "\n",
       "                                               notes  \\\n",
       "0  Building is on quiet side of airport. Building...   \n",
       "1  Guest room is on the 3rd floor,  Steps are req...   \n",
       "2  Check out some of the other accommodations we ...   \n",
       "3  Guests should expect to show government ID to ...   \n",
       "4  Guests should expect to show government ID to ...   \n",
       "\n",
       "                                             transit  \\\n",
       "0  Local subway stop ( Maverick Station on the Bl...   \n",
       "1  Excellent Access to all of Boston, Walk to Mus...   \n",
       "2  We are a 5 minute walk to the subway,  5 minut...   \n",
       "3  The MBTA site is a great reference for public ...   \n",
       "4  The Red Park Street Train stop and the Green B...   \n",
       "\n",
       "                                              access  \\\n",
       "0  Guests solely occupy the 1 floor apartment wit...   \n",
       "1  You get full access to the guest room with pri...   \n",
       "2  Full Private apartment.  1 bedroom,  kitchen, ...   \n",
       "3                Guests have access to the full unit   \n",
       "4      Guests have access to everything in the unit.   \n",
       "\n",
       "                                         interaction  \\\n",
       "0  We sometimes travel. Always available via: mob...   \n",
       "1  We give guests privacy,  but we are available ...   \n",
       "2                                                NaN   \n",
       "3         I'm available for questions and/or issues.   \n",
       "4                           I'm available as needed.   \n",
       "\n",
       "                                         house_rules  thumbnail_url  \\\n",
       "0                               No pets, no smoking.            NaN   \n",
       "1                        No Smoking in the Building.            NaN   \n",
       "2                        No Smoking in the Building.            NaN   \n",
       "3                                                NaN            NaN   \n",
       "4  NO SMOKING, NO PETS. $100 move-in fee payable ...            NaN   \n",
       "\n",
       "   medium_url                                        picture_url  \\\n",
       "0         NaN  https://a0.muscache.com/im/pictures/24670/b2de...   \n",
       "1         NaN  https://a0.muscache.com/im/pictures/1598e8b6-5...   \n",
       "2         NaN  https://a0.muscache.com/im/pictures/38ac4797-e...   \n",
       "3         NaN  https://a0.muscache.com/im/pictures/32210/7fdd...   \n",
       "4         NaN  https://a0.muscache.com/im/pictures/45296/e534...   \n",
       "\n",
       "   xl_picture_url  host_id                                 host_url host_name  \\\n",
       "0             NaN     4804   https://www.airbnb.com/users/show/4804     Frank   \n",
       "1             NaN     8229   https://www.airbnb.com/users/show/8229     Terry   \n",
       "2             NaN     8229   https://www.airbnb.com/users/show/8229     Terry   \n",
       "3             NaN    26988  https://www.airbnb.com/users/show/26988      Anne   \n",
       "4             NaN    26988  https://www.airbnb.com/users/show/26988      Anne   \n",
       "\n",
       "   host_since                         host_location  \\\n",
       "0  2008-12-03                         Massachusetts   \n",
       "1  2009-02-19  Boston, Massachusetts, United States   \n",
       "2  2009-02-19  Boston, Massachusetts, United States   \n",
       "3  2009-07-22  Boston, Massachusetts, United States   \n",
       "4  2009-07-22  Boston, Massachusetts, United States   \n",
       "\n",
       "                                          host_about  host_response_time  \\\n",
       "0  My wife and I and grown children frequently oc...  within a few hours   \n",
       "1              Relaxed,  Easy going, Accommodating.       within an hour   \n",
       "2              Relaxed,  Easy going, Accommodating.       within an hour   \n",
       "3  I manage a number of furnished units around Bo...  within a few hours   \n",
       "4  I manage a number of furnished units around Bo...  within a few hours   \n",
       "\n",
       "  host_response_rate host_acceptance_rate host_is_superhost  \\\n",
       "0               100%                  44%                 t   \n",
       "1               100%                 100%                 t   \n",
       "2               100%                 100%                 t   \n",
       "3               100%                  83%                 t   \n",
       "4               100%                  83%                 t   \n",
       "\n",
       "                                  host_thumbnail_url  \\\n",
       "0  https://a0.muscache.com/im/users/4804/profile_...   \n",
       "1  https://a0.muscache.com/im/users/8229/profile_...   \n",
       "2  https://a0.muscache.com/im/users/8229/profile_...   \n",
       "3  https://a0.muscache.com/im/pictures/user/d7d71...   \n",
       "4  https://a0.muscache.com/im/pictures/user/d7d71...   \n",
       "\n",
       "                                    host_picture_url host_neighbourhood  \\\n",
       "0  https://a0.muscache.com/im/users/4804/profile_...        East Boston   \n",
       "1  https://a0.muscache.com/im/users/8229/profile_...            Roxbury   \n",
       "2  https://a0.muscache.com/im/users/8229/profile_...            Roxbury   \n",
       "3  https://a0.muscache.com/im/pictures/user/d7d71...        Beacon Hill   \n",
       "4  https://a0.muscache.com/im/pictures/user/d7d71...        Beacon Hill   \n",
       "\n",
       "   host_listings_count  host_total_listings_count  \\\n",
       "0                    5                          5   \n",
       "1                    2                          2   \n",
       "2                    2                          2   \n",
       "3                   10                         10   \n",
       "4                   10                         10   \n",
       "\n",
       "                                  host_verifications host_has_profile_pic  \\\n",
       "0                      ['email', 'phone', 'reviews']                    t   \n",
       "1               ['email', 'phone', 'reviews', 'kba']                    t   \n",
       "2               ['email', 'phone', 'reviews', 'kba']                    t   \n",
       "3  ['email', 'phone', 'reviews', 'jumio', 'offlin...                    t   \n",
       "4  ['email', 'phone', 'reviews', 'jumio', 'offlin...                    t   \n",
       "\n",
       "  host_identity_verified                     street neighbourhood  \\\n",
       "0                      f  Boston, MA, United States   East Boston   \n",
       "1                      t  Boston, MA, United States       Roxbury   \n",
       "2                      t  Boston, MA, United States       Roxbury   \n",
       "3                      f  Boston, MA, United States   Beacon Hill   \n",
       "4                      f  Boston, MA, United States   Beacon Hill   \n",
       "\n",
       "  neighbourhood_cleansed  neighbourhood_group_cleansed    city state zipcode  \\\n",
       "0            East Boston                           NaN  Boston    MA   02128   \n",
       "1                Roxbury                           NaN  Boston    MA   02119   \n",
       "2                Roxbury                           NaN  Boston    MA   02119   \n",
       "3               Downtown                           NaN  Boston    MA   02108   \n",
       "4               Downtown                           NaN  Boston    MA   02108   \n",
       "\n",
       "   market smart_location country_code        country  latitude  longitude  \\\n",
       "0  Boston     Boston, MA           US  United States  42.36413  -71.02991   \n",
       "1  Boston     Boston, MA           US  United States  42.32981  -71.09559   \n",
       "2  Boston     Boston, MA           US  United States  42.32994  -71.09351   \n",
       "3  Boston     Boston, MA           US  United States  42.35919  -71.06265   \n",
       "4  Boston     Boston, MA           US  United States  42.35840  -71.06185   \n",
       "\n",
       "  is_location_exact property_type        room_type  accommodates  bathrooms  \\\n",
       "0                 t     Apartment  Entire home/apt             2        1.0   \n",
       "1                 t   Guest suite  Entire home/apt             2        1.0   \n",
       "2                 t   Condominium  Entire home/apt             4        1.0   \n",
       "3                 t     Apartment  Entire home/apt             2        1.0   \n",
       "4                 t     Apartment  Entire home/apt             2        1.0   \n",
       "\n",
       "   bedrooms  beds  bed_type  \\\n",
       "0       1.0   0.0  Real Bed   \n",
       "1       1.0   1.0  Real Bed   \n",
       "2       1.0   1.0  Real Bed   \n",
       "3       1.0   1.0  Real Bed   \n",
       "4       1.0   1.0  Real Bed   \n",
       "\n",
       "                                           amenities  square_feet    price  \\\n",
       "0  {TV,\"Cable TV\",Wifi,\"Air conditioning\",Kitchen...          NaN  $125.00   \n",
       "1  {TV,\"Cable TV\",Internet,Wifi,\"Air conditioning...        225.0  $145.00   \n",
       "2  {TV,\"Cable TV\",Internet,Wifi,\"Air conditioning...          NaN  $169.00   \n",
       "3  {TV,\"Cable TV\",Internet,Wifi,\"Air conditioning...          NaN   $99.00   \n",
       "4  {TV,\"Cable TV\",Internet,Wifi,\"Air conditioning...          NaN  $150.00   \n",
       "\n",
       "  weekly_price monthly_price security_deposit cleaning_fee  guests_included  \\\n",
       "0      $750.00     $2,250.00            $0.00       $75.00                2   \n",
       "1      $980.00     $3,000.00            $0.00       $60.00                1   \n",
       "2          NaN           NaN            $0.00       $80.00                2   \n",
       "3    $1,200.00     $2,900.00        $1,000.00      $250.00                1   \n",
       "4    $1,200.00     $3,000.00        $1,000.00      $250.00                1   \n",
       "\n",
       "  extra_people  minimum_nights  maximum_nights  minimum_minimum_nights  \\\n",
       "0        $0.00              28            1125                      28   \n",
       "1        $0.00               3             730                       3   \n",
       "2        $8.00               3             730                       2   \n",
       "3        $0.00              91             365                      91   \n",
       "4        $0.00              91             365                      91   \n",
       "\n",
       "   maximum_minimum_nights  minimum_maximum_nights  maximum_maximum_nights  \\\n",
       "0                      28                    1125                    1125   \n",
       "1                       5                    1125                    1125   \n",
       "2                       5                     730                     730   \n",
       "3                      91                     365                     365   \n",
       "4                      91                     365                     365   \n",
       "\n",
       "   minimum_nights_avg_ntm  maximum_nights_avg_ntm calendar_updated  \\\n",
       "0                    28.0                  1125.0     2 months ago   \n",
       "1                     3.0                  1125.0      3 weeks ago   \n",
       "2                     3.0                   730.0      6 weeks ago   \n",
       "3                    91.0                   365.0     7 months ago   \n",
       "4                    91.0                   365.0      5 weeks ago   \n",
       "\n",
       "  has_availability  availability_30  availability_60  availability_90  \\\n",
       "0                t               11               20               20   \n",
       "1                t                1               14               44   \n",
       "2                t                1                4               19   \n",
       "3                t               17               42               42   \n",
       "4                t               28               29               29   \n",
       "\n",
       "   availability_365 calendar_last_scraped  number_of_reviews  \\\n",
       "0                97            2020-04-14                 16   \n",
       "1               307            2020-04-14                106   \n",
       "2               266            2020-04-14                115   \n",
       "3               290            2020-04-14                 24   \n",
       "4                42            2020-04-14                 31   \n",
       "\n",
       "   number_of_reviews_ltm first_review last_review  review_scores_rating  \\\n",
       "0                      1   2015-07-10  2019-12-21                  99.0   \n",
       "1                     22   2009-03-21  2019-10-31                  95.0   \n",
       "2                     29   2009-08-06  2019-11-02                  96.0   \n",
       "3                      2   2014-08-12  2019-09-30                  93.0   \n",
       "4                      3   2009-09-21  2019-12-01                  95.0   \n",
       "\n",
       "   review_scores_accuracy  review_scores_cleanliness  review_scores_checkin  \\\n",
       "0                    10.0                       10.0                   10.0   \n",
       "1                    10.0                       10.0                   10.0   \n",
       "2                    10.0                       10.0                   10.0   \n",
       "3                     9.0                        9.0                   10.0   \n",
       "4                    10.0                        9.0                   10.0   \n",
       "\n",
       "   review_scores_communication  review_scores_location  review_scores_value  \\\n",
       "0                         10.0                    10.0                 10.0   \n",
       "1                         10.0                     9.0                 10.0   \n",
       "2                         10.0                     9.0                 10.0   \n",
       "3                         10.0                    10.0                  9.0   \n",
       "4                         10.0                    10.0                  9.0   \n",
       "\n",
       "  requires_license                                            license  \\\n",
       "0                t                                                NaN   \n",
       "1                t  Exempt: This listing is a unit that has contra...   \n",
       "2                t                                         STR-404620   \n",
       "3                t                                                NaN   \n",
       "4                t                                                NaN   \n",
       "\n",
       "                               jurisdiction_names instant_bookable  \\\n",
       "0  {\"Massachusetts State\",\" Massachusetts State\"}                f   \n",
       "1  {\"Massachusetts State\",\" Massachusetts State\"}                t   \n",
       "2  {\"Massachusetts State\",\" Massachusetts State\"}                t   \n",
       "3  {\"Massachusetts State\",\" Massachusetts State\"}                f   \n",
       "4  {\"Massachusetts State\",\" Massachusetts State\"}                f   \n",
       "\n",
       "  is_business_travel_ready          cancellation_policy  \\\n",
       "0                        f              super_strict_30   \n",
       "1                        f  strict_14_with_grace_period   \n",
       "2                        f  strict_14_with_grace_period   \n",
       "3                        f  strict_14_with_grace_period   \n",
       "4                        f  strict_14_with_grace_period   \n",
       "\n",
       "  require_guest_profile_picture require_guest_phone_verification  \\\n",
       "0                             f                                f   \n",
       "1                             f                                f   \n",
       "2                             f                                f   \n",
       "3                             f                                f   \n",
       "4                             f                                f   \n",
       "\n",
       "   calculated_host_listings_count  \\\n",
       "0                               1   \n",
       "1                               6   \n",
       "2                               6   \n",
       "3                               8   \n",
       "4                               8   \n",
       "\n",
       "   calculated_host_listings_count_entire_homes  \\\n",
       "0                                            1   \n",
       "1                                            6   \n",
       "2                                            6   \n",
       "3                                            8   \n",
       "4                                            8   \n",
       "\n",
       "   calculated_host_listings_count_private_rooms  \\\n",
       "0                                             0   \n",
       "1                                             0   \n",
       "2                                             0   \n",
       "3                                             0   \n",
       "4                                             0   \n",
       "\n",
       "   calculated_host_listings_count_shared_rooms  reviews_per_month  \n",
       "0                                            0               0.28  \n",
       "1                                            0               0.79  \n",
       "2                                            0               0.88  \n",
       "3                                            0               0.35  \n",
       "4                                            0               0.24  "
      ]
     },
     "execution_count": 4,
     "metadata": {},
     "output_type": "execute_result"
    }
   ],
   "source": [
    "bos_listing.head()"
   ]
  },
  {
   "cell_type": "code",
   "execution_count": 5,
   "metadata": {
    "scrolled": true
   },
   "outputs": [
    {
     "data": {
      "text/plain": [
       "['id',\n",
       " 'listing_url',\n",
       " 'scrape_id',\n",
       " 'last_scraped',\n",
       " 'name',\n",
       " 'summary',\n",
       " 'space',\n",
       " 'description',\n",
       " 'experiences_offered',\n",
       " 'neighborhood_overview',\n",
       " 'notes',\n",
       " 'transit',\n",
       " 'access',\n",
       " 'interaction',\n",
       " 'house_rules',\n",
       " 'thumbnail_url',\n",
       " 'medium_url',\n",
       " 'picture_url',\n",
       " 'xl_picture_url',\n",
       " 'host_id',\n",
       " 'host_url',\n",
       " 'host_name',\n",
       " 'host_since',\n",
       " 'host_location',\n",
       " 'host_about',\n",
       " 'host_response_time',\n",
       " 'host_response_rate',\n",
       " 'host_acceptance_rate',\n",
       " 'host_is_superhost',\n",
       " 'host_thumbnail_url',\n",
       " 'host_picture_url',\n",
       " 'host_neighbourhood',\n",
       " 'host_listings_count',\n",
       " 'host_total_listings_count',\n",
       " 'host_verifications',\n",
       " 'host_has_profile_pic',\n",
       " 'host_identity_verified',\n",
       " 'street',\n",
       " 'neighbourhood',\n",
       " 'neighbourhood_cleansed',\n",
       " 'neighbourhood_group_cleansed',\n",
       " 'city',\n",
       " 'state',\n",
       " 'zipcode',\n",
       " 'market',\n",
       " 'smart_location',\n",
       " 'country_code',\n",
       " 'country',\n",
       " 'latitude',\n",
       " 'longitude',\n",
       " 'is_location_exact',\n",
       " 'property_type',\n",
       " 'room_type',\n",
       " 'accommodates',\n",
       " 'bathrooms',\n",
       " 'bedrooms',\n",
       " 'beds',\n",
       " 'bed_type',\n",
       " 'amenities',\n",
       " 'square_feet',\n",
       " 'price',\n",
       " 'weekly_price',\n",
       " 'monthly_price',\n",
       " 'security_deposit',\n",
       " 'cleaning_fee',\n",
       " 'guests_included',\n",
       " 'extra_people',\n",
       " 'minimum_nights',\n",
       " 'maximum_nights',\n",
       " 'minimum_minimum_nights',\n",
       " 'maximum_minimum_nights',\n",
       " 'minimum_maximum_nights',\n",
       " 'maximum_maximum_nights',\n",
       " 'minimum_nights_avg_ntm',\n",
       " 'maximum_nights_avg_ntm',\n",
       " 'calendar_updated',\n",
       " 'has_availability',\n",
       " 'availability_30',\n",
       " 'availability_60',\n",
       " 'availability_90',\n",
       " 'availability_365',\n",
       " 'calendar_last_scraped',\n",
       " 'number_of_reviews',\n",
       " 'number_of_reviews_ltm',\n",
       " 'first_review',\n",
       " 'last_review',\n",
       " 'review_scores_rating',\n",
       " 'review_scores_accuracy',\n",
       " 'review_scores_cleanliness',\n",
       " 'review_scores_checkin',\n",
       " 'review_scores_communication',\n",
       " 'review_scores_location',\n",
       " 'review_scores_value',\n",
       " 'requires_license',\n",
       " 'license',\n",
       " 'jurisdiction_names',\n",
       " 'instant_bookable',\n",
       " 'is_business_travel_ready',\n",
       " 'cancellation_policy',\n",
       " 'require_guest_profile_picture',\n",
       " 'require_guest_phone_verification',\n",
       " 'calculated_host_listings_count',\n",
       " 'calculated_host_listings_count_entire_homes',\n",
       " 'calculated_host_listings_count_private_rooms',\n",
       " 'calculated_host_listings_count_shared_rooms',\n",
       " 'reviews_per_month']"
      ]
     },
     "execution_count": 5,
     "metadata": {},
     "output_type": "execute_result"
    }
   ],
   "source": [
    "bos_listing.columns.tolist()"
   ]
  },
  {
   "cell_type": "markdown",
   "metadata": {},
   "source": [
    "## Ethical Issues <a id = \"2\" Ethical Issues></a>"
   ]
  },
  {
   "cell_type": "markdown",
   "metadata": {},
   "source": [
    "<img src=\"airbnb_map.png\" width=\"600\">"
   ]
  },
  {
   "cell_type": "markdown",
   "metadata": {},
   "source": [
    "The picture above is taken from one of the Airbnb listing page. It's very general and only gives a broad information about the neighborhood. Users won't be able to access its exact address unless they book the place, which protects hosts' privacy. However, such information can be obtained from the publically available dataset. "
   ]
  },
  {
   "cell_type": "code",
   "execution_count": 6,
   "metadata": {
    "scrolled": false
   },
   "outputs": [
    {
     "data": {
      "text/html": [
       "<div>\n",
       "<style scoped>\n",
       "    .dataframe tbody tr th:only-of-type {\n",
       "        vertical-align: middle;\n",
       "    }\n",
       "\n",
       "    .dataframe tbody tr th {\n",
       "        vertical-align: top;\n",
       "    }\n",
       "\n",
       "    .dataframe thead th {\n",
       "        text-align: right;\n",
       "    }\n",
       "</style>\n",
       "<table border=\"1\" class=\"dataframe\">\n",
       "  <thead>\n",
       "    <tr style=\"text-align: right;\">\n",
       "      <th></th>\n",
       "      <th>latitude</th>\n",
       "      <th>longitude</th>\n",
       "      <th>is_location_exact</th>\n",
       "    </tr>\n",
       "  </thead>\n",
       "  <tbody>\n",
       "    <tr>\n",
       "      <td>0</td>\n",
       "      <td>42.36413</td>\n",
       "      <td>-71.02991</td>\n",
       "      <td>t</td>\n",
       "    </tr>\n",
       "    <tr>\n",
       "      <td>1</td>\n",
       "      <td>42.32981</td>\n",
       "      <td>-71.09559</td>\n",
       "      <td>t</td>\n",
       "    </tr>\n",
       "    <tr>\n",
       "      <td>2</td>\n",
       "      <td>42.32994</td>\n",
       "      <td>-71.09351</td>\n",
       "      <td>t</td>\n",
       "    </tr>\n",
       "    <tr>\n",
       "      <td>3</td>\n",
       "      <td>42.35919</td>\n",
       "      <td>-71.06265</td>\n",
       "      <td>t</td>\n",
       "    </tr>\n",
       "    <tr>\n",
       "      <td>4</td>\n",
       "      <td>42.35840</td>\n",
       "      <td>-71.06185</td>\n",
       "      <td>t</td>\n",
       "    </tr>\n",
       "  </tbody>\n",
       "</table>\n",
       "</div>"
      ],
      "text/plain": [
       "   latitude  longitude is_location_exact\n",
       "0  42.36413  -71.02991                 t\n",
       "1  42.32981  -71.09559                 t\n",
       "2  42.32994  -71.09351                 t\n",
       "3  42.35919  -71.06265                 t\n",
       "4  42.35840  -71.06185                 t"
      ]
     },
     "execution_count": 6,
     "metadata": {},
     "output_type": "execute_result"
    }
   ],
   "source": [
    "bos_listing[['latitude', 'longitude', 'is_location_exact']].head()"
   ]
  },
  {
   "cell_type": "code",
   "execution_count": 7,
   "metadata": {},
   "outputs": [
    {
     "data": {
      "text/plain": [
       "t    3639\n",
       "f     206\n",
       "Name: is_location_exact, dtype: int64"
      ]
     },
     "execution_count": 7,
     "metadata": {},
     "output_type": "execute_result"
    }
   ],
   "source": [
    "bos_listing['is_location_exact'].value_counts()"
   ]
  },
  {
   "cell_type": "markdown",
   "metadata": {},
   "source": [
    "As shown above, we can get the locations from 'latitude' and 'longitude'. Although Airbnb claims that location information for listings are anonymized, some locations are exact, and even not, some buildings can still easily be identified. \n",
    "\n",
    "For example, we can identify exact location for the condo after searching its location in Google map:"
   ]
  },
  {
   "cell_type": "markdown",
   "metadata": {},
   "source": [
    "<img src=\"bos_map.png\" width=\"800\">"
   ]
  },
  {
   "cell_type": "markdown",
   "metadata": {},
   "source": [
    "Combining locations with other information such as host name, it's not hard to imagine Google will find the rest of the personal information easily. "
   ]
  },
  {
   "cell_type": "markdown",
   "metadata": {},
   "source": [
    "Sharing the links to the listings also seems problematic and unnecessary. As these links lead to comprehensive listing info, both host and guest privacy are in risk. These links make reviews a lot more accessible, both reviews for the listing from previous guests and reviews for guest stays from previous hosts. With that, their whereabouts can be identified easily. For example, I noticed one guest was in Downtown Boston every two month. This kind of information may help Airbnb advertise, but could be very dangerous for the guest if someone is planning a crime. Also, Airbnb makes these data available in order to show people how it's been used in cities around the world. I don't think including those links would be much of a help in that case. "
   ]
  },
  {
   "cell_type": "markdown",
   "metadata": {},
   "source": [
    "We'll perform anonymization according to the discussions above in the later sections. "
   ]
  },
  {
   "cell_type": "markdown",
   "metadata": {},
   "source": [
    "## Data cleaning <a id = \"3\"></a>"
   ]
  },
  {
   "cell_type": "markdown",
   "metadata": {},
   "source": [
    "#### Missing data(NaNs)"
   ]
  },
  {
   "cell_type": "markdown",
   "metadata": {},
   "source": [
    "First, some columns have no useful information, i.e. contain only NaNs, we'll remove them."
   ]
  },
  {
   "cell_type": "code",
   "execution_count": 20,
   "metadata": {
    "scrolled": true
   },
   "outputs": [
    {
     "data": {
      "text/plain": [
       "neighbourhood_group_cleansed    3845\n",
       "medium_url                      3845\n",
       "thumbnail_url                   3845\n",
       "xl_picture_url                  3845\n",
       "square_feet                     3737\n",
       "monthly_price                   3596\n",
       "weekly_price                    3591\n",
       "access                          1637\n",
       "license                         1542\n",
       "transit                         1439\n",
       "notes                           1287\n",
       "interaction                     1256\n",
       "host_about                      1255\n",
       "neighborhood_overview           1066\n",
       "house_rules                      990\n",
       "security_deposit                 879\n",
       "review_scores_checkin            842\n",
       "review_scores_value              841\n",
       "review_scores_location           841\n",
       "review_scores_accuracy           841\n",
       "review_scores_cleanliness        840\n",
       "review_scores_communication      839\n",
       "review_scores_rating             839\n",
       "reviews_per_month                825\n",
       "first_review                     825\n",
       "last_review                      825\n",
       "space                            699\n",
       "host_response_rate               562\n",
       "host_response_time               562\n",
       "cleaning_fee                     399\n",
       "host_acceptance_rate             260\n",
       "host_neighbourhood               221\n",
       "summary                           80\n",
       "description                       43\n",
       "beds                              20\n",
       "zipcode                           14\n",
       "bedrooms                           4\n",
       "jurisdiction_names                 3\n",
       "host_location                      3\n",
       "bathrooms                          3\n",
       "market                             2\n",
       "city                               2\n",
       "bed_type                           1\n",
       "street                             0\n",
       "host_has_profile_pic               0\n",
       "host_verifications                 0\n",
       "neighbourhood                      0\n",
       "host_total_listings_count          0\n",
       "host_listings_count                0\n",
       "neighbourhood_cleansed             0\n",
       "dtype: int64"
      ]
     },
     "execution_count": 20,
     "metadata": {},
     "output_type": "execute_result"
    }
   ],
   "source": [
    "bos_cleaned = bos_listing.copy()\n",
    "bos_cleaned.isna().sum().sort_values(ascending = False)[:50]"
   ]
  },
  {
   "cell_type": "code",
   "execution_count": 21,
   "metadata": {},
   "outputs": [],
   "source": [
    "bos_cleaned = bos_cleaned.drop(columns = ['medium_url', 'xl_picture_url', 'thumbnail_url'])"
   ]
  },
  {
   "cell_type": "markdown",
   "metadata": {},
   "source": [
    "Next, we'll examine the columns with a lot of missing values."
   ]
  },
  {
   "cell_type": "code",
   "execution_count": 22,
   "metadata": {},
   "outputs": [
    {
     "data": {
      "text/plain": [
       "0       {\"Massachusetts State\",\" Massachusetts State\"}\n",
       "1       {\"Massachusetts State\",\" Massachusetts State\"}\n",
       "2       {\"Massachusetts State\",\" Massachusetts State\"}\n",
       "3       {\"Massachusetts State\",\" Massachusetts State\"}\n",
       "4       {\"Massachusetts State\",\" Massachusetts State\"}\n",
       "                             ...                      \n",
       "3840    {\"Massachusetts State\",\" Massachusetts State\"}\n",
       "3841    {\"Massachusetts State\",\" Massachusetts State\"}\n",
       "3842    {\"Massachusetts State\",\" Massachusetts State\"}\n",
       "3843    {\"Massachusetts State\",\" Massachusetts State\"}\n",
       "3844    {\"Massachusetts State\",\" Massachusetts State\"}\n",
       "Name: jurisdiction_names, Length: 3842, dtype: object"
      ]
     },
     "execution_count": 22,
     "metadata": {},
     "output_type": "execute_result"
    }
   ],
   "source": [
    "bos_cleaned['jurisdiction_names'][bos_cleaned['jurisdiction_names'].notna()]"
   ]
  },
  {
   "cell_type": "markdown",
   "metadata": {},
   "source": [
    "The jurisdiction_names column has duplicate information with other columns, such as state. So we'll remove it."
   ]
  },
  {
   "cell_type": "code",
   "execution_count": 23,
   "metadata": {},
   "outputs": [],
   "source": [
    "bos_cleaned = bos_cleaned.drop(columns = ['jurisdiction_names'])"
   ]
  },
  {
   "cell_type": "code",
   "execution_count": 24,
   "metadata": {},
   "outputs": [
    {
     "data": {
      "text/plain": [
       "1       Exempt: This listing is a unit that has contra...\n",
       "2                                              STR-404620\n",
       "9                Exempt: This listing is a hotel or motel\n",
       "10                                             STR-410426\n",
       "11               Exempt: This listing is a hotel or motel\n",
       "                              ...                        \n",
       "3815                                            LB-390690\n",
       "3824                                           STR-398270\n",
       "3828                                           STR-397969\n",
       "3837                                           STR-401050\n",
       "3838                                           STR-415697\n",
       "Name: license, Length: 2303, dtype: object"
      ]
     },
     "execution_count": 24,
     "metadata": {},
     "output_type": "execute_result"
    }
   ],
   "source": [
    "bos_cleaned['license'][bos_cleaned['license'].notna()]"
   ]
  },
  {
   "cell_type": "markdown",
   "metadata": {},
   "source": [
    "Column license contains license info for listing. Adding licenses to their profiles shows that the hosts are serious about renting their places and their listings are more legitimate. This could be potentially useful in the analysis part. We'll convert this to a binary column indicating whether license numbers are included. "
   ]
  },
  {
   "cell_type": "code",
   "execution_count": 25,
   "metadata": {},
   "outputs": [],
   "source": [
    "bos_cleaned['license'][bos_cleaned['license'].notna()] = 1\n",
    "bos_cleaned['license'] = bos_cleaned['license'].fillna(0)"
   ]
  },
  {
   "cell_type": "markdown",
   "metadata": {},
   "source": [
    "The following columns will be coded as binary as well.\n",
    "\n",
    "- Including 'monthly_price' and 'weekly_price' shows hosts encourge long-term stays. \n",
    "- For columns('host_identity_verified', 'host_has_profile_pic', 'host_is_superhost') that are already binary, we'll convert NaNs to 0 as well."
   ]
  },
  {
   "cell_type": "code",
   "execution_count": 26,
   "metadata": {},
   "outputs": [],
   "source": [
    "binary_col = ['monthly_price', 'weekly_price',\n",
    "             'host_identity_verified', 'host_has_profile_pic', 'host_is_superhost']\n",
    "for col in binary_col:\n",
    "    bos_cleaned[col][bos_cleaned[col].notna()] = 1\n",
    "    bos_cleaned[col] = bos_cleaned[col].fillna(0)"
   ]
  },
  {
   "cell_type": "markdown",
   "metadata": {},
   "source": [
    "We'll drop the square_feet column as there is too much missing information and we can't input it. "
   ]
  },
  {
   "cell_type": "code",
   "execution_count": 27,
   "metadata": {},
   "outputs": [],
   "source": [
    "bos_cleaned = bos_cleaned.drop(columns = 'square_feet')"
   ]
  },
  {
   "cell_type": "code",
   "execution_count": 28,
   "metadata": {},
   "outputs": [
    {
     "data": {
      "text/plain": [
       "neighbourhood_group_cleansed    3845\n",
       "access                          1637\n",
       "transit                         1439\n",
       "notes                           1287\n",
       "interaction                     1256\n",
       "                                ... \n",
       "maximum_nights                     0\n",
       "minimum_minimum_nights             0\n",
       "maximum_minimum_nights             0\n",
       "minimum_maximum_nights             0\n",
       "id                                 0\n",
       "Length: 101, dtype: int64"
      ]
     },
     "execution_count": 28,
     "metadata": {},
     "output_type": "execute_result"
    }
   ],
   "source": [
    "bos_cleaned.isna().sum().sort_values(ascending = False)"
   ]
  },
  {
   "cell_type": "code",
   "execution_count": 29,
   "metadata": {},
   "outputs": [
    {
     "data": {
      "text/html": [
       "<div>\n",
       "<style scoped>\n",
       "    .dataframe tbody tr th:only-of-type {\n",
       "        vertical-align: middle;\n",
       "    }\n",
       "\n",
       "    .dataframe tbody tr th {\n",
       "        vertical-align: top;\n",
       "    }\n",
       "\n",
       "    .dataframe thead th {\n",
       "        text-align: right;\n",
       "    }\n",
       "</style>\n",
       "<table border=\"1\" class=\"dataframe\">\n",
       "  <thead>\n",
       "    <tr style=\"text-align: right;\">\n",
       "      <th></th>\n",
       "      <th>id</th>\n",
       "      <th>scrape_id</th>\n",
       "      <th>host_id</th>\n",
       "      <th>host_is_superhost</th>\n",
       "      <th>host_listings_count</th>\n",
       "      <th>host_total_listings_count</th>\n",
       "      <th>host_has_profile_pic</th>\n",
       "      <th>host_identity_verified</th>\n",
       "      <th>neighbourhood_group_cleansed</th>\n",
       "      <th>latitude</th>\n",
       "      <th>...</th>\n",
       "      <th>review_scores_checkin</th>\n",
       "      <th>review_scores_communication</th>\n",
       "      <th>review_scores_location</th>\n",
       "      <th>review_scores_value</th>\n",
       "      <th>license</th>\n",
       "      <th>calculated_host_listings_count</th>\n",
       "      <th>calculated_host_listings_count_entire_homes</th>\n",
       "      <th>calculated_host_listings_count_private_rooms</th>\n",
       "      <th>calculated_host_listings_count_shared_rooms</th>\n",
       "      <th>reviews_per_month</th>\n",
       "    </tr>\n",
       "  </thead>\n",
       "  <tbody>\n",
       "    <tr>\n",
       "      <td>count</td>\n",
       "      <td>3.845000e+03</td>\n",
       "      <td>3.845000e+03</td>\n",
       "      <td>3.845000e+03</td>\n",
       "      <td>3845.0</td>\n",
       "      <td>3845.000000</td>\n",
       "      <td>3845.000000</td>\n",
       "      <td>3845.0</td>\n",
       "      <td>3845.0</td>\n",
       "      <td>0.0</td>\n",
       "      <td>3845.000000</td>\n",
       "      <td>...</td>\n",
       "      <td>3003.000000</td>\n",
       "      <td>3006.000000</td>\n",
       "      <td>3004.000000</td>\n",
       "      <td>3004.000000</td>\n",
       "      <td>3845.000000</td>\n",
       "      <td>3845.000000</td>\n",
       "      <td>3845.000000</td>\n",
       "      <td>3845.000000</td>\n",
       "      <td>3845.000000</td>\n",
       "      <td>3020.000000</td>\n",
       "    </tr>\n",
       "    <tr>\n",
       "      <td>mean</td>\n",
       "      <td>2.529089e+07</td>\n",
       "      <td>2.020041e+13</td>\n",
       "      <td>9.287827e+07</td>\n",
       "      <td>1.0</td>\n",
       "      <td>186.069961</td>\n",
       "      <td>186.069961</td>\n",
       "      <td>1.0</td>\n",
       "      <td>1.0</td>\n",
       "      <td>NaN</td>\n",
       "      <td>42.337622</td>\n",
       "      <td>...</td>\n",
       "      <td>9.725608</td>\n",
       "      <td>9.650366</td>\n",
       "      <td>9.577563</td>\n",
       "      <td>9.236019</td>\n",
       "      <td>0.598960</td>\n",
       "      <td>31.626268</td>\n",
       "      <td>26.567490</td>\n",
       "      <td>4.978934</td>\n",
       "      <td>0.031209</td>\n",
       "      <td>1.827662</td>\n",
       "    </tr>\n",
       "    <tr>\n",
       "      <td>std</td>\n",
       "      <td>1.256313e+07</td>\n",
       "      <td>1.535356e+00</td>\n",
       "      <td>1.003461e+08</td>\n",
       "      <td>0.0</td>\n",
       "      <td>428.388936</td>\n",
       "      <td>428.388936</td>\n",
       "      <td>0.0</td>\n",
       "      <td>0.0</td>\n",
       "      <td>NaN</td>\n",
       "      <td>0.025206</td>\n",
       "      <td>...</td>\n",
       "      <td>0.786271</td>\n",
       "      <td>0.898054</td>\n",
       "      <td>0.785934</td>\n",
       "      <td>1.003434</td>\n",
       "      <td>0.490173</td>\n",
       "      <td>48.155154</td>\n",
       "      <td>47.831666</td>\n",
       "      <td>13.569696</td>\n",
       "      <td>0.380404</td>\n",
       "      <td>1.872423</td>\n",
       "    </tr>\n",
       "    <tr>\n",
       "      <td>min</td>\n",
       "      <td>3.781000e+03</td>\n",
       "      <td>2.020041e+13</td>\n",
       "      <td>4.804000e+03</td>\n",
       "      <td>1.0</td>\n",
       "      <td>0.000000</td>\n",
       "      <td>0.000000</td>\n",
       "      <td>1.0</td>\n",
       "      <td>1.0</td>\n",
       "      <td>NaN</td>\n",
       "      <td>42.235760</td>\n",
       "      <td>...</td>\n",
       "      <td>2.000000</td>\n",
       "      <td>2.000000</td>\n",
       "      <td>2.000000</td>\n",
       "      <td>2.000000</td>\n",
       "      <td>0.000000</td>\n",
       "      <td>1.000000</td>\n",
       "      <td>0.000000</td>\n",
       "      <td>0.000000</td>\n",
       "      <td>0.000000</td>\n",
       "      <td>0.010000</td>\n",
       "    </tr>\n",
       "    <tr>\n",
       "      <td>25%</td>\n",
       "      <td>1.546315e+07</td>\n",
       "      <td>2.020041e+13</td>\n",
       "      <td>1.224305e+07</td>\n",
       "      <td>1.0</td>\n",
       "      <td>2.000000</td>\n",
       "      <td>2.000000</td>\n",
       "      <td>1.0</td>\n",
       "      <td>1.0</td>\n",
       "      <td>NaN</td>\n",
       "      <td>42.322550</td>\n",
       "      <td>...</td>\n",
       "      <td>10.000000</td>\n",
       "      <td>10.000000</td>\n",
       "      <td>9.000000</td>\n",
       "      <td>9.000000</td>\n",
       "      <td>0.000000</td>\n",
       "      <td>2.000000</td>\n",
       "      <td>0.000000</td>\n",
       "      <td>0.000000</td>\n",
       "      <td>0.000000</td>\n",
       "      <td>0.400000</td>\n",
       "    </tr>\n",
       "    <tr>\n",
       "      <td>50%</td>\n",
       "      <td>2.557644e+07</td>\n",
       "      <td>2.020041e+13</td>\n",
       "      <td>4.193225e+07</td>\n",
       "      <td>1.0</td>\n",
       "      <td>7.000000</td>\n",
       "      <td>7.000000</td>\n",
       "      <td>1.0</td>\n",
       "      <td>1.0</td>\n",
       "      <td>NaN</td>\n",
       "      <td>42.344130</td>\n",
       "      <td>...</td>\n",
       "      <td>10.000000</td>\n",
       "      <td>10.000000</td>\n",
       "      <td>10.000000</td>\n",
       "      <td>9.000000</td>\n",
       "      <td>1.000000</td>\n",
       "      <td>6.000000</td>\n",
       "      <td>2.000000</td>\n",
       "      <td>0.000000</td>\n",
       "      <td>0.000000</td>\n",
       "      <td>1.220000</td>\n",
       "    </tr>\n",
       "    <tr>\n",
       "      <td>75%</td>\n",
       "      <td>3.688571e+07</td>\n",
       "      <td>2.020041e+13</td>\n",
       "      <td>1.632510e+08</td>\n",
       "      <td>1.0</td>\n",
       "      <td>46.000000</td>\n",
       "      <td>46.000000</td>\n",
       "      <td>1.0</td>\n",
       "      <td>1.0</td>\n",
       "      <td>NaN</td>\n",
       "      <td>42.353300</td>\n",
       "      <td>...</td>\n",
       "      <td>10.000000</td>\n",
       "      <td>10.000000</td>\n",
       "      <td>10.000000</td>\n",
       "      <td>10.000000</td>\n",
       "      <td>1.000000</td>\n",
       "      <td>42.000000</td>\n",
       "      <td>24.000000</td>\n",
       "      <td>4.000000</td>\n",
       "      <td>0.000000</td>\n",
       "      <td>2.700000</td>\n",
       "    </tr>\n",
       "    <tr>\n",
       "      <td>max</td>\n",
       "      <td>4.317636e+07</td>\n",
       "      <td>2.020041e+13</td>\n",
       "      <td>3.426938e+08</td>\n",
       "      <td>1.0</td>\n",
       "      <td>2324.000000</td>\n",
       "      <td>2324.000000</td>\n",
       "      <td>1.0</td>\n",
       "      <td>1.0</td>\n",
       "      <td>NaN</td>\n",
       "      <td>42.390950</td>\n",
       "      <td>...</td>\n",
       "      <td>10.000000</td>\n",
       "      <td>10.000000</td>\n",
       "      <td>10.000000</td>\n",
       "      <td>10.000000</td>\n",
       "      <td>1.000000</td>\n",
       "      <td>176.000000</td>\n",
       "      <td>176.000000</td>\n",
       "      <td>86.000000</td>\n",
       "      <td>5.000000</td>\n",
       "      <td>19.380000</td>\n",
       "    </tr>\n",
       "  </tbody>\n",
       "</table>\n",
       "<p>8 rows × 45 columns</p>\n",
       "</div>"
      ],
      "text/plain": [
       "                 id     scrape_id       host_id  host_is_superhost  \\\n",
       "count  3.845000e+03  3.845000e+03  3.845000e+03             3845.0   \n",
       "mean   2.529089e+07  2.020041e+13  9.287827e+07                1.0   \n",
       "std    1.256313e+07  1.535356e+00  1.003461e+08                0.0   \n",
       "min    3.781000e+03  2.020041e+13  4.804000e+03                1.0   \n",
       "25%    1.546315e+07  2.020041e+13  1.224305e+07                1.0   \n",
       "50%    2.557644e+07  2.020041e+13  4.193225e+07                1.0   \n",
       "75%    3.688571e+07  2.020041e+13  1.632510e+08                1.0   \n",
       "max    4.317636e+07  2.020041e+13  3.426938e+08                1.0   \n",
       "\n",
       "       host_listings_count  host_total_listings_count  host_has_profile_pic  \\\n",
       "count          3845.000000                3845.000000                3845.0   \n",
       "mean            186.069961                 186.069961                   1.0   \n",
       "std             428.388936                 428.388936                   0.0   \n",
       "min               0.000000                   0.000000                   1.0   \n",
       "25%               2.000000                   2.000000                   1.0   \n",
       "50%               7.000000                   7.000000                   1.0   \n",
       "75%              46.000000                  46.000000                   1.0   \n",
       "max            2324.000000                2324.000000                   1.0   \n",
       "\n",
       "       host_identity_verified  neighbourhood_group_cleansed     latitude  ...  \\\n",
       "count                  3845.0                           0.0  3845.000000  ...   \n",
       "mean                      1.0                           NaN    42.337622  ...   \n",
       "std                       0.0                           NaN     0.025206  ...   \n",
       "min                       1.0                           NaN    42.235760  ...   \n",
       "25%                       1.0                           NaN    42.322550  ...   \n",
       "50%                       1.0                           NaN    42.344130  ...   \n",
       "75%                       1.0                           NaN    42.353300  ...   \n",
       "max                       1.0                           NaN    42.390950  ...   \n",
       "\n",
       "       review_scores_checkin  review_scores_communication  \\\n",
       "count            3003.000000                  3006.000000   \n",
       "mean                9.725608                     9.650366   \n",
       "std                 0.786271                     0.898054   \n",
       "min                 2.000000                     2.000000   \n",
       "25%                10.000000                    10.000000   \n",
       "50%                10.000000                    10.000000   \n",
       "75%                10.000000                    10.000000   \n",
       "max                10.000000                    10.000000   \n",
       "\n",
       "       review_scores_location  review_scores_value      license  \\\n",
       "count             3004.000000          3004.000000  3845.000000   \n",
       "mean                 9.577563             9.236019     0.598960   \n",
       "std                  0.785934             1.003434     0.490173   \n",
       "min                  2.000000             2.000000     0.000000   \n",
       "25%                  9.000000             9.000000     0.000000   \n",
       "50%                 10.000000             9.000000     1.000000   \n",
       "75%                 10.000000            10.000000     1.000000   \n",
       "max                 10.000000            10.000000     1.000000   \n",
       "\n",
       "       calculated_host_listings_count  \\\n",
       "count                     3845.000000   \n",
       "mean                        31.626268   \n",
       "std                         48.155154   \n",
       "min                          1.000000   \n",
       "25%                          2.000000   \n",
       "50%                          6.000000   \n",
       "75%                         42.000000   \n",
       "max                        176.000000   \n",
       "\n",
       "       calculated_host_listings_count_entire_homes  \\\n",
       "count                                  3845.000000   \n",
       "mean                                     26.567490   \n",
       "std                                      47.831666   \n",
       "min                                       0.000000   \n",
       "25%                                       0.000000   \n",
       "50%                                       2.000000   \n",
       "75%                                      24.000000   \n",
       "max                                     176.000000   \n",
       "\n",
       "       calculated_host_listings_count_private_rooms  \\\n",
       "count                                   3845.000000   \n",
       "mean                                       4.978934   \n",
       "std                                       13.569696   \n",
       "min                                        0.000000   \n",
       "25%                                        0.000000   \n",
       "50%                                        0.000000   \n",
       "75%                                        4.000000   \n",
       "max                                       86.000000   \n",
       "\n",
       "       calculated_host_listings_count_shared_rooms  reviews_per_month  \n",
       "count                                  3845.000000        3020.000000  \n",
       "mean                                      0.031209           1.827662  \n",
       "std                                       0.380404           1.872423  \n",
       "min                                       0.000000           0.010000  \n",
       "25%                                       0.000000           0.400000  \n",
       "50%                                       0.000000           1.220000  \n",
       "75%                                       0.000000           2.700000  \n",
       "max                                       5.000000          19.380000  \n",
       "\n",
       "[8 rows x 45 columns]"
      ]
     },
     "execution_count": 29,
     "metadata": {},
     "output_type": "execute_result"
    }
   ],
   "source": [
    "bos_cleaned.describe()"
   ]
  },
  {
   "cell_type": "markdown",
   "metadata": {},
   "source": [
    "Most of host_neighborhoods are identical to the neighborhoods of their listing, so we'll switch it to a binary column indicating whether the hosts are in the same neighborhoods as their listing. "
   ]
  },
  {
   "cell_type": "code",
   "execution_count": 30,
   "metadata": {},
   "outputs": [],
   "source": [
    "bos_cleaned['host_neighbourhood'] = bos_cleaned['host_neighbourhood'] == bos_cleaned['neighbourhood']"
   ]
  },
  {
   "cell_type": "markdown",
   "metadata": {},
   "source": [
    "#### Columns that are too general that don't convey any useful information"
   ]
  },
  {
   "cell_type": "markdown",
   "metadata": {},
   "source": [
    "The following columns only contain 1 value throughout the dataset, thus we'll remove them. "
   ]
  },
  {
   "cell_type": "code",
   "execution_count": 31,
   "metadata": {},
   "outputs": [
    {
     "name": "stdout",
     "output_type": "stream",
     "text": [
      "scrape_id\n",
      "20200414051806    3845\n",
      "Name: scrape_id, dtype: int64\n",
      "last_scraped\n",
      "2020-04-14    3845\n",
      "Name: last_scraped, dtype: int64\n",
      "experiences_offered\n",
      "none    3845\n",
      "Name: experiences_offered, dtype: int64\n",
      "host_is_superhost\n",
      "1    3845\n",
      "Name: host_is_superhost, dtype: int64\n",
      "host_has_profile_pic\n",
      "1    3845\n",
      "Name: host_has_profile_pic, dtype: int64\n",
      "host_identity_verified\n",
      "1    3845\n",
      "Name: host_identity_verified, dtype: int64\n",
      "neighbourhood_group_cleansed\n",
      "Series([], Name: neighbourhood_group_cleansed, dtype: int64)\n",
      "market\n",
      "Boston    3843\n",
      "Name: market, dtype: int64\n",
      "country_code\n",
      "US    3845\n",
      "Name: country_code, dtype: int64\n",
      "country\n",
      "United States    3845\n",
      "Name: country, dtype: int64\n",
      "has_availability\n",
      "t    3845\n",
      "Name: has_availability, dtype: int64\n",
      "calendar_last_scraped\n",
      "2020-04-14    3845\n",
      "Name: calendar_last_scraped, dtype: int64\n",
      "is_business_travel_ready\n",
      "f    3845\n",
      "Name: is_business_travel_ready, dtype: int64\n"
     ]
    }
   ],
   "source": [
    "gen_col = []\n",
    "for col in bos_cleaned.columns:\n",
    "    num = len(bos_cleaned[col].value_counts())\n",
    "    if num <= 1:\n",
    "        gen_col.append(col)\n",
    "        print(col)\n",
    "        print(bos_cleaned[col].value_counts())"
   ]
  },
  {
   "cell_type": "code",
   "execution_count": 32,
   "metadata": {
    "scrolled": true
   },
   "outputs": [],
   "source": [
    "bos_cleaned = bos_cleaned.drop(columns = gen_col)"
   ]
  },
  {
   "cell_type": "markdown",
   "metadata": {},
   "source": [
    "## Modeling & Analysis (without anonymization) <a id = \"4\"></a>"
   ]
  },
  {
   "cell_type": "markdown",
   "metadata": {},
   "source": [
    "#### Pre-processing "
   ]
  },
  {
   "cell_type": "code",
   "execution_count": 33,
   "metadata": {},
   "outputs": [
    {
     "data": {
      "text/html": [
       "<div>\n",
       "<style scoped>\n",
       "    .dataframe tbody tr th:only-of-type {\n",
       "        vertical-align: middle;\n",
       "    }\n",
       "\n",
       "    .dataframe tbody tr th {\n",
       "        vertical-align: top;\n",
       "    }\n",
       "\n",
       "    .dataframe thead th {\n",
       "        text-align: right;\n",
       "    }\n",
       "</style>\n",
       "<table border=\"1\" class=\"dataframe\">\n",
       "  <thead>\n",
       "    <tr style=\"text-align: right;\">\n",
       "      <th></th>\n",
       "      <th>street</th>\n",
       "      <th>neighbourhood</th>\n",
       "      <th>neighbourhood_cleansed</th>\n",
       "      <th>city</th>\n",
       "      <th>state</th>\n",
       "      <th>zipcode</th>\n",
       "      <th>smart_location</th>\n",
       "      <th>latitude</th>\n",
       "      <th>longitude</th>\n",
       "    </tr>\n",
       "  </thead>\n",
       "  <tbody>\n",
       "    <tr>\n",
       "      <td>0</td>\n",
       "      <td>Boston, MA, United States</td>\n",
       "      <td>East Boston</td>\n",
       "      <td>East Boston</td>\n",
       "      <td>Boston</td>\n",
       "      <td>MA</td>\n",
       "      <td>02128</td>\n",
       "      <td>Boston, MA</td>\n",
       "      <td>42.36413</td>\n",
       "      <td>-71.02991</td>\n",
       "    </tr>\n",
       "    <tr>\n",
       "      <td>1</td>\n",
       "      <td>Boston, MA, United States</td>\n",
       "      <td>Roxbury</td>\n",
       "      <td>Roxbury</td>\n",
       "      <td>Boston</td>\n",
       "      <td>MA</td>\n",
       "      <td>02119</td>\n",
       "      <td>Boston, MA</td>\n",
       "      <td>42.32981</td>\n",
       "      <td>-71.09559</td>\n",
       "    </tr>\n",
       "    <tr>\n",
       "      <td>2</td>\n",
       "      <td>Boston, MA, United States</td>\n",
       "      <td>Roxbury</td>\n",
       "      <td>Roxbury</td>\n",
       "      <td>Boston</td>\n",
       "      <td>MA</td>\n",
       "      <td>02119</td>\n",
       "      <td>Boston, MA</td>\n",
       "      <td>42.32994</td>\n",
       "      <td>-71.09351</td>\n",
       "    </tr>\n",
       "    <tr>\n",
       "      <td>3</td>\n",
       "      <td>Boston, MA, United States</td>\n",
       "      <td>Beacon Hill</td>\n",
       "      <td>Downtown</td>\n",
       "      <td>Boston</td>\n",
       "      <td>MA</td>\n",
       "      <td>02108</td>\n",
       "      <td>Boston, MA</td>\n",
       "      <td>42.35919</td>\n",
       "      <td>-71.06265</td>\n",
       "    </tr>\n",
       "    <tr>\n",
       "      <td>4</td>\n",
       "      <td>Boston, MA, United States</td>\n",
       "      <td>Beacon Hill</td>\n",
       "      <td>Downtown</td>\n",
       "      <td>Boston</td>\n",
       "      <td>MA</td>\n",
       "      <td>02108</td>\n",
       "      <td>Boston, MA</td>\n",
       "      <td>42.35840</td>\n",
       "      <td>-71.06185</td>\n",
       "    </tr>\n",
       "  </tbody>\n",
       "</table>\n",
       "</div>"
      ],
      "text/plain": [
       "                      street neighbourhood neighbourhood_cleansed    city  \\\n",
       "0  Boston, MA, United States   East Boston            East Boston  Boston   \n",
       "1  Boston, MA, United States       Roxbury                Roxbury  Boston   \n",
       "2  Boston, MA, United States       Roxbury                Roxbury  Boston   \n",
       "3  Boston, MA, United States   Beacon Hill               Downtown  Boston   \n",
       "4  Boston, MA, United States   Beacon Hill               Downtown  Boston   \n",
       "\n",
       "  state zipcode smart_location  latitude  longitude  \n",
       "0    MA   02128     Boston, MA  42.36413  -71.02991  \n",
       "1    MA   02119     Boston, MA  42.32981  -71.09559  \n",
       "2    MA   02119     Boston, MA  42.32994  -71.09351  \n",
       "3    MA   02108     Boston, MA  42.35919  -71.06265  \n",
       "4    MA   02108     Boston, MA  42.35840  -71.06185  "
      ]
     },
     "execution_count": 33,
     "metadata": {},
     "output_type": "execute_result"
    }
   ],
   "source": [
    "bos_cleaned[['street', 'neighbourhood', 'neighbourhood_cleansed', \n",
    "                 'city', 'state', 'zipcode',\n",
    "                'smart_location', 'latitude', 'longitude']].head()"
   ]
  },
  {
   "cell_type": "markdown",
   "metadata": {},
   "source": [
    "Some location columns contain only duplicated information with other coluns, we'll only keep 'neighbourhood', and the anonymized 'latitute' 'longitude', and remove the rest."
   ]
  },
  {
   "cell_type": "code",
   "execution_count": 34,
   "metadata": {},
   "outputs": [],
   "source": [
    "bos_df = bos_cleaned.copy()"
   ]
  },
  {
   "cell_type": "code",
   "execution_count": 35,
   "metadata": {},
   "outputs": [],
   "source": [
    "loc_col = ['street', 'neighbourhood_cleansed', \n",
    "           'city', 'state', 'zipcode',  'smart_location', 'host_location']\n",
    "bos_df = bos_df.drop(columns = loc_col)"
   ]
  },
  {
   "cell_type": "markdown",
   "metadata": {},
   "source": [
    "Since we already have host_id, we don't need their names."
   ]
  },
  {
   "cell_type": "code",
   "execution_count": 36,
   "metadata": {},
   "outputs": [],
   "source": [
    "bos_df = bos_df.drop(columns = 'host_name')"
   ]
  },
  {
   "cell_type": "markdown",
   "metadata": {},
   "source": [
    "Convert date columns to integers using the time interval between dates and date scraped."
   ]
  },
  {
   "cell_type": "code",
   "execution_count": 37,
   "metadata": {},
   "outputs": [
    {
     "data": {
      "text/plain": [
       "Index(['id', 'listing_url', 'name', 'summary', 'space', 'description',\n",
       "       'neighborhood_overview', 'notes', 'transit', 'access', 'interaction',\n",
       "       'house_rules', 'picture_url', 'host_id', 'host_url', 'host_since',\n",
       "       'host_about', 'host_response_time', 'host_response_rate',\n",
       "       'host_acceptance_rate', 'host_thumbnail_url', 'host_picture_url',\n",
       "       'host_neighbourhood', 'host_listings_count',\n",
       "       'host_total_listings_count', 'host_verifications', 'neighbourhood',\n",
       "       'latitude', 'longitude', 'is_location_exact', 'property_type',\n",
       "       'room_type', 'accommodates', 'bathrooms', 'bedrooms', 'beds',\n",
       "       'bed_type', 'amenities', 'price', 'weekly_price', 'monthly_price',\n",
       "       'security_deposit', 'cleaning_fee', 'guests_included', 'extra_people',\n",
       "       'minimum_nights', 'maximum_nights', 'minimum_minimum_nights',\n",
       "       'maximum_minimum_nights', 'minimum_maximum_nights',\n",
       "       'maximum_maximum_nights', 'minimum_nights_avg_ntm',\n",
       "       'maximum_nights_avg_ntm', 'calendar_updated', 'availability_30',\n",
       "       'availability_60', 'availability_90', 'availability_365',\n",
       "       'number_of_reviews', 'number_of_reviews_ltm', 'first_review',\n",
       "       'last_review', 'review_scores_rating', 'review_scores_accuracy',\n",
       "       'review_scores_cleanliness', 'review_scores_checkin',\n",
       "       'review_scores_communication', 'review_scores_location',\n",
       "       'review_scores_value', 'requires_license', 'license',\n",
       "       'instant_bookable', 'cancellation_policy',\n",
       "       'require_guest_profile_picture', 'require_guest_phone_verification',\n",
       "       'calculated_host_listings_count',\n",
       "       'calculated_host_listings_count_entire_homes',\n",
       "       'calculated_host_listings_count_private_rooms',\n",
       "       'calculated_host_listings_count_shared_rooms', 'reviews_per_month'],\n",
       "      dtype='object')"
      ]
     },
     "execution_count": 37,
     "metadata": {},
     "output_type": "execute_result"
    }
   ],
   "source": [
    "bos_df.columns"
   ]
  },
  {
   "cell_type": "code",
   "execution_count": 38,
   "metadata": {},
   "outputs": [],
   "source": [
    "date_col = ['host_since', 'first_review', 'last_review']\n",
    "day_now = pd.to_datetime(bos_listing['last_scraped'])\n",
    "for col in date_col:\n",
    "    day_then = pd.to_datetime(bos_df[col])\n",
    "    bos_df[col] = (day_now - day_then).dt.days"
   ]
  },
  {
   "cell_type": "code",
   "execution_count": 39,
   "metadata": {},
   "outputs": [],
   "source": [
    "def convert_days(s):\n",
    "    if s == 'today':\n",
    "        num = 0\n",
    "    elif s == 'yesterday':\n",
    "        num = 1\n",
    "    elif s.endswith('days ago'):\n",
    "        num = int(s.replace('days ago', ''))\n",
    "    elif s.endswith('weeks ago'):\n",
    "        num = int(s.replace('weeks ago', ''))*7\n",
    "    elif s.endswith('months ago'):\n",
    "        num = int(s.replace('months ago', '')) * 30\n",
    "    else:\n",
    "        num = 0\n",
    "    return num"
   ]
  },
  {
   "cell_type": "code",
   "execution_count": 40,
   "metadata": {},
   "outputs": [],
   "source": [
    "bos_df.calendar_updated = bos_df.calendar_updated.apply(convert_days)"
   ]
  },
  {
   "cell_type": "markdown",
   "metadata": {},
   "source": [
    "Now we'll deal with text and categorical columns."
   ]
  },
  {
   "cell_type": "code",
   "execution_count": 41,
   "metadata": {
    "scrolled": true
   },
   "outputs": [
    {
     "name": "stdout",
     "output_type": "stream",
     "text": [
      "listing_url:  3845\n",
      "name:  3682\n",
      "summary:  2722\n",
      "space:  2253\n",
      "description:  3033\n",
      "neighborhood_overview:  1502\n",
      "notes:  1379\n",
      "transit:  1580\n",
      "access:  1492\n",
      "interaction:  1405\n",
      "house_rules:  1531\n",
      "picture_url:  3721\n",
      "host_url:  1331\n",
      "host_about:  812\n",
      "host_response_time:  4\n",
      "host_response_rate:  35\n",
      "host_acceptance_rate:  73\n",
      "host_thumbnail_url:  1329\n",
      "host_picture_url:  1329\n",
      "host_neighbourhood:  2\n",
      "host_verifications:  152\n",
      "neighbourhood:  31\n",
      "is_location_exact:  2\n",
      "property_type:  21\n",
      "room_type:  4\n",
      "bed_type:  5\n",
      "amenities:  2923\n",
      "price:  345\n",
      "security_deposit:  57\n",
      "cleaning_fee:  119\n",
      "extra_people:  42\n",
      "requires_license:  2\n",
      "instant_bookable:  2\n",
      "cancellation_policy:  6\n",
      "require_guest_profile_picture:  2\n",
      "require_guest_phone_verification:  2\n"
     ]
    }
   ],
   "source": [
    "for col in bos_df.columns:\n",
    "    if bos_df[col].dtype not in ['float64', 'int64', 'datetime64[ns]']:\n",
    "        print(col + ': ', len(bos_df[col].value_counts()))"
   ]
  },
  {
   "cell_type": "markdown",
   "metadata": {},
   "source": [
    "Convert numbers that are in string format to floats."
   ]
  },
  {
   "cell_type": "code",
   "execution_count": 42,
   "metadata": {},
   "outputs": [],
   "source": [
    "num_rate_col = ['host_response_rate', 'host_acceptance_rate']\n",
    "num_fee_col = ['price', 'security_deposit', 'cleaning_fee', 'extra_people']"
   ]
  },
  {
   "cell_type": "code",
   "execution_count": 43,
   "metadata": {},
   "outputs": [],
   "source": [
    "for col in num_rate_col:\n",
    "    bos_df[col] = bos_df[col].fillna('0')\n",
    "    bos_df[col] = bos_df[col].str.rstrip('%').astype(float)/100"
   ]
  },
  {
   "cell_type": "code",
   "execution_count": 44,
   "metadata": {},
   "outputs": [],
   "source": [
    "for col in num_fee_col:\n",
    "    bos_df[col] = bos_df[col].fillna('0')\n",
    "    bos_df[col] = bos_df[col].str.strip('$,.').str.replace(',','').astype(float)"
   ]
  },
  {
   "cell_type": "markdown",
   "metadata": {},
   "source": [
    "Binary columns will be converted to 0(False) and 1(True)."
   ]
  },
  {
   "cell_type": "code",
   "execution_count": 45,
   "metadata": {},
   "outputs": [],
   "source": [
    "bos_df['host_neighbourhood'] = bos_df['host_neighbourhood'].astype(int)"
   ]
  },
  {
   "cell_type": "code",
   "execution_count": 46,
   "metadata": {},
   "outputs": [],
   "source": [
    "bin_col = ['is_location_exact','requires_license','instant_bookable', 'require_guest_profile_picture', 'require_guest_phone_verification']\n",
    "for col in bin_col:\n",
    "    bos_df[col] = bos_df[col].map({'f': 0, 't': 1})\n",
    "    "
   ]
  },
  {
   "cell_type": "markdown",
   "metadata": {},
   "source": [
    "Convert ordinal columns into integers."
   ]
  },
  {
   "cell_type": "code",
   "execution_count": 47,
   "metadata": {},
   "outputs": [],
   "source": [
    "# quickest replies have the highest ranking, we'll assume NaNs represent not replying at all\n",
    "response_dict = {'a few days or more': 1, 'within a day': 2, 'within a few hours': 3, 'within an hour': 4}\n",
    "bos_df['host_response_time'] = bos_df['host_response_time'].map(response_dict)\n",
    "bos_df['host_response_time'] = bos_df['host_response_time'].fillna(0)\n"
   ]
  },
  {
   "cell_type": "code",
   "execution_count": 48,
   "metadata": {},
   "outputs": [
    {
     "data": {
      "text/plain": [
       "strict_14_with_grace_period    1935\n",
       "moderate                        911\n",
       "flexible                        839\n",
       "strict                          116\n",
       "super_strict_30                  36\n",
       "super_strict_60                   8\n",
       "Name: cancellation_policy, dtype: int64"
      ]
     },
     "execution_count": 48,
     "metadata": {},
     "output_type": "execute_result"
    }
   ],
   "source": [
    "bos_df['cancellation_policy'].value_counts()"
   ]
  },
  {
   "cell_type": "code",
   "execution_count": 49,
   "metadata": {},
   "outputs": [],
   "source": [
    "# higher rankings are given to the more flexible \n",
    "cancel_dict = {'flexible': 6,\n",
    "               'moderate': 5,\n",
    "               'strict_14_with_grace_period': 4, \n",
    "               'strict': 3,\n",
    "               'super_strict_60': 2,\n",
    "               'super_strict_30': 1}\n",
    "bos_df['cancellation_policy'] = bos_df['cancellation_policy'].map(cancel_dict)\n",
    "bos_df['cancellation_policy'] = bos_df['cancellation_policy'].fillna(0)"
   ]
  },
  {
   "cell_type": "code",
   "execution_count": 50,
   "metadata": {
    "scrolled": true
   },
   "outputs": [
    {
     "data": {
      "text/plain": [
       "4.0    2521\n",
       "0.0     562\n",
       "3.0     341\n",
       "2.0     289\n",
       "1.0     132\n",
       "Name: host_response_time, dtype: int64"
      ]
     },
     "execution_count": 50,
     "metadata": {},
     "output_type": "execute_result"
    }
   ],
   "source": [
    "bos_df['host_response_time'].value_counts()"
   ]
  },
  {
   "cell_type": "markdown",
   "metadata": {},
   "source": [
    "One-hot encode nominal columns."
   ]
  },
  {
   "cell_type": "code",
   "execution_count": 51,
   "metadata": {},
   "outputs": [
    {
     "name": "stdout",
     "output_type": "stream",
     "text": [
      "Number of columns before one-hot encoding:  80\n"
     ]
    }
   ],
   "source": [
    "print('Number of columns before one-hot encoding: ', bos_df.shape[1])"
   ]
  },
  {
   "cell_type": "code",
   "execution_count": 52,
   "metadata": {},
   "outputs": [],
   "source": [
    "nominal_col = ['neighbourhood', 'property_type', 'room_type', 'bed_type']\n",
    "for col in nominal_col:\n",
    "    if bos_df[col].isna().sum() != 0:\n",
    "        drop_first = False\n",
    "    else:\n",
    "        drop_first = True\n",
    "    bos_df = pd.concat([bos_df,pd.get_dummies(bos_df[col], drop_first = drop_first, dtype = float)],axis=1)  "
   ]
  },
  {
   "cell_type": "code",
   "execution_count": 53,
   "metadata": {},
   "outputs": [],
   "source": [
    "bos_df = bos_df.drop(columns = nominal_col)"
   ]
  },
  {
   "cell_type": "markdown",
   "metadata": {},
   "source": [
    "One final thing is that we need to remove urls and text columns for the random forest modeling below."
   ]
  },
  {
   "cell_type": "code",
   "execution_count": 54,
   "metadata": {},
   "outputs": [],
   "source": [
    "urls = ['picture_url', 'host_url', 'host_picture_url', 'host_thumbnail_url','listing_url']\n",
    "\n",
    "bos_df = bos_df.drop(columns = urls)"
   ]
  },
  {
   "cell_type": "code",
   "execution_count": 55,
   "metadata": {},
   "outputs": [],
   "source": [
    "texts = ['name','summary', 'space', 'description', 'neighborhood_overview', 'transit',\n",
    "             'access', 'interaction', 'house_rules', 'host_about', 'notes', 'amenities',\n",
    "             'host_verifications']\n",
    "for col in texts:\n",
    "    bos_df[col] = bos_df[col].str.len()\n",
    "    bos_df[col] = bos_df[col].fillna(0)"
   ]
  },
  {
   "cell_type": "code",
   "execution_count": 56,
   "metadata": {},
   "outputs": [
    {
     "data": {
      "text/html": [
       "<div>\n",
       "<style scoped>\n",
       "    .dataframe tbody tr th:only-of-type {\n",
       "        vertical-align: middle;\n",
       "    }\n",
       "\n",
       "    .dataframe tbody tr th {\n",
       "        vertical-align: top;\n",
       "    }\n",
       "\n",
       "    .dataframe thead th {\n",
       "        text-align: right;\n",
       "    }\n",
       "</style>\n",
       "<table border=\"1\" class=\"dataframe\">\n",
       "  <thead>\n",
       "    <tr style=\"text-align: right;\">\n",
       "      <th></th>\n",
       "      <th>id</th>\n",
       "      <th>name</th>\n",
       "      <th>summary</th>\n",
       "      <th>space</th>\n",
       "      <th>description</th>\n",
       "      <th>neighborhood_overview</th>\n",
       "      <th>notes</th>\n",
       "      <th>transit</th>\n",
       "      <th>access</th>\n",
       "      <th>interaction</th>\n",
       "      <th>...</th>\n",
       "      <th>Townhouse</th>\n",
       "      <th>Villa</th>\n",
       "      <th>Hotel room</th>\n",
       "      <th>Private room</th>\n",
       "      <th>Shared room</th>\n",
       "      <th>Airbed</th>\n",
       "      <th>Couch</th>\n",
       "      <th>Futon</th>\n",
       "      <th>Pull-out Sofa</th>\n",
       "      <th>Real Bed</th>\n",
       "    </tr>\n",
       "  </thead>\n",
       "  <tbody>\n",
       "    <tr>\n",
       "      <td>0</td>\n",
       "      <td>3781</td>\n",
       "      <td>25</td>\n",
       "      <td>244.0</td>\n",
       "      <td>822.0</td>\n",
       "      <td>1000.0</td>\n",
       "      <td>335.0</td>\n",
       "      <td>161.0</td>\n",
       "      <td>381.0</td>\n",
       "      <td>142.0</td>\n",
       "      <td>133.0</td>\n",
       "      <td>...</td>\n",
       "      <td>0.0</td>\n",
       "      <td>0.0</td>\n",
       "      <td>0.0</td>\n",
       "      <td>0.0</td>\n",
       "      <td>0.0</td>\n",
       "      <td>0.0</td>\n",
       "      <td>0.0</td>\n",
       "      <td>0.0</td>\n",
       "      <td>0.0</td>\n",
       "      <td>1.0</td>\n",
       "    </tr>\n",
       "    <tr>\n",
       "      <td>1</td>\n",
       "      <td>5506</td>\n",
       "      <td>46</td>\n",
       "      <td>228.0</td>\n",
       "      <td>1000.0</td>\n",
       "      <td>1000.0</td>\n",
       "      <td>141.0</td>\n",
       "      <td>343.0</td>\n",
       "      <td>179.0</td>\n",
       "      <td>87.0</td>\n",
       "      <td>64.0</td>\n",
       "      <td>...</td>\n",
       "      <td>0.0</td>\n",
       "      <td>0.0</td>\n",
       "      <td>0.0</td>\n",
       "      <td>0.0</td>\n",
       "      <td>0.0</td>\n",
       "      <td>0.0</td>\n",
       "      <td>0.0</td>\n",
       "      <td>0.0</td>\n",
       "      <td>0.0</td>\n",
       "      <td>1.0</td>\n",
       "    </tr>\n",
       "    <tr>\n",
       "      <td>2</td>\n",
       "      <td>6695</td>\n",
       "      <td>30</td>\n",
       "      <td>135.0</td>\n",
       "      <td>1000.0</td>\n",
       "      <td>1000.0</td>\n",
       "      <td>125.0</td>\n",
       "      <td>266.0</td>\n",
       "      <td>178.0</td>\n",
       "      <td>72.0</td>\n",
       "      <td>0.0</td>\n",
       "      <td>...</td>\n",
       "      <td>0.0</td>\n",
       "      <td>0.0</td>\n",
       "      <td>0.0</td>\n",
       "      <td>0.0</td>\n",
       "      <td>0.0</td>\n",
       "      <td>0.0</td>\n",
       "      <td>0.0</td>\n",
       "      <td>0.0</td>\n",
       "      <td>0.0</td>\n",
       "      <td>1.0</td>\n",
       "    </tr>\n",
       "    <tr>\n",
       "      <td>3</td>\n",
       "      <td>8789</td>\n",
       "      <td>35</td>\n",
       "      <td>206.0</td>\n",
       "      <td>780.0</td>\n",
       "      <td>1000.0</td>\n",
       "      <td>196.0</td>\n",
       "      <td>604.0</td>\n",
       "      <td>369.0</td>\n",
       "      <td>35.0</td>\n",
       "      <td>42.0</td>\n",
       "      <td>...</td>\n",
       "      <td>0.0</td>\n",
       "      <td>0.0</td>\n",
       "      <td>0.0</td>\n",
       "      <td>0.0</td>\n",
       "      <td>0.0</td>\n",
       "      <td>0.0</td>\n",
       "      <td>0.0</td>\n",
       "      <td>0.0</td>\n",
       "      <td>0.0</td>\n",
       "      <td>1.0</td>\n",
       "    </tr>\n",
       "    <tr>\n",
       "      <td>4</td>\n",
       "      <td>10730</td>\n",
       "      <td>30</td>\n",
       "      <td>229.0</td>\n",
       "      <td>507.0</td>\n",
       "      <td>1000.0</td>\n",
       "      <td>158.0</td>\n",
       "      <td>604.0</td>\n",
       "      <td>101.0</td>\n",
       "      <td>45.0</td>\n",
       "      <td>24.0</td>\n",
       "      <td>...</td>\n",
       "      <td>0.0</td>\n",
       "      <td>0.0</td>\n",
       "      <td>0.0</td>\n",
       "      <td>0.0</td>\n",
       "      <td>0.0</td>\n",
       "      <td>0.0</td>\n",
       "      <td>0.0</td>\n",
       "      <td>0.0</td>\n",
       "      <td>0.0</td>\n",
       "      <td>1.0</td>\n",
       "    </tr>\n",
       "  </tbody>\n",
       "</table>\n",
       "<p>5 rows × 129 columns</p>\n",
       "</div>"
      ],
      "text/plain": [
       "      id  name  summary   space  description  neighborhood_overview  notes  \\\n",
       "0   3781    25    244.0   822.0       1000.0                  335.0  161.0   \n",
       "1   5506    46    228.0  1000.0       1000.0                  141.0  343.0   \n",
       "2   6695    30    135.0  1000.0       1000.0                  125.0  266.0   \n",
       "3   8789    35    206.0   780.0       1000.0                  196.0  604.0   \n",
       "4  10730    30    229.0   507.0       1000.0                  158.0  604.0   \n",
       "\n",
       "   transit  access  interaction  ...  Townhouse  Villa  Hotel room  \\\n",
       "0    381.0   142.0        133.0  ...        0.0    0.0         0.0   \n",
       "1    179.0    87.0         64.0  ...        0.0    0.0         0.0   \n",
       "2    178.0    72.0          0.0  ...        0.0    0.0         0.0   \n",
       "3    369.0    35.0         42.0  ...        0.0    0.0         0.0   \n",
       "4    101.0    45.0         24.0  ...        0.0    0.0         0.0   \n",
       "\n",
       "   Private room  Shared room  Airbed  Couch  Futon  Pull-out Sofa  Real Bed  \n",
       "0           0.0          0.0     0.0    0.0    0.0            0.0       1.0  \n",
       "1           0.0          0.0     0.0    0.0    0.0            0.0       1.0  \n",
       "2           0.0          0.0     0.0    0.0    0.0            0.0       1.0  \n",
       "3           0.0          0.0     0.0    0.0    0.0            0.0       1.0  \n",
       "4           0.0          0.0     0.0    0.0    0.0            0.0       1.0  \n",
       "\n",
       "[5 rows x 129 columns]"
      ]
     },
     "execution_count": 56,
     "metadata": {},
     "output_type": "execute_result"
    }
   ],
   "source": [
    "bos_df.head()"
   ]
  },
  {
   "cell_type": "markdown",
   "metadata": {},
   "source": [
    "#### Correlation"
   ]
  },
  {
   "cell_type": "code",
   "execution_count": 57,
   "metadata": {},
   "outputs": [
    {
     "data": {
      "image/png": "[encoded data removed]",
      "text/plain": [
       "<Figure size 1440x1440 with 2 Axes>"
      ]
     },
     "metadata": {
      "needs_background": "light"
     },
     "output_type": "display_data"
    }
   ],
   "source": [
    "corr = bos_df.iloc[:, :77].corr()\n",
    "plt.figure(figsize = (20,20))\n",
    "ax = sns.heatmap(\n",
    "    corr, \n",
    "    vmin=-1, vmax=1, center=0,\n",
    "    cmap=sns.diverging_palette(20, 220, n=200),\n",
    "    square=True\n",
    ")\n",
    "ax.set_xticklabels(\n",
    "    ax.get_xticklabels(),\n",
    "    rotation=45,\n",
    "    horizontalalignment='right'\n",
    ");"
   ]
  },
  {
   "cell_type": "code",
   "execution_count": 58,
   "metadata": {},
   "outputs": [
    {
     "name": "stdout",
     "output_type": "stream",
     "text": [
      "id and first_review are correlated: -0.9305799160226008\n",
      "host_id and host_since are correlated: -0.9111935117272777\n",
      "host_response_time and host_response_rate are correlated: 0.9263611081753736\n",
      "host_listings_count and host_total_listings_count are correlated: 1.0\n",
      "accommodates and beds are correlated: 0.8531339651400713\n",
      "maximum_minimum_nights and minimum_nights_avg_ntm are correlated: 0.9920756727410619\n",
      "maximum_maximum_nights and maximum_nights_avg_ntm are correlated: 0.999999999999828\n",
      "availability_30 and availability_60 are correlated: 0.9355960533027038\n",
      "availability_30 and availability_90 are correlated: 0.8554422284662673\n",
      "availability_60 and availability_90 are correlated: 0.9695378005808281\n",
      "number_of_reviews_ltm and reviews_per_month are correlated: 0.905039167715924\n",
      "require_guest_profile_picture and require_guest_phone_verification are correlated: 0.8112730634586262\n",
      "calculated_host_listings_count and calculated_host_listings_count_entire_homes are correlated: 0.9599884252218649\n"
     ]
    }
   ],
   "source": [
    "avoid_repeat = []\n",
    "for i in range(len(corr)):\n",
    "    for j in range(len(corr)):\n",
    "        if i != j and j not in avoid_repeat and (corr.iloc[i,j] >= 0.8 or corr.iloc[i,j] <= -0.8):\n",
    "            avoid_repeat.append(i)\n",
    "            print('{} and {} are correlated: {}'.format(corr.index[i], corr.columns[j], corr.iloc[i,j]))"
   ]
  },
  {
   "cell_type": "markdown",
   "metadata": {},
   "source": [
    "Most of the highly correlated columns aren't suprising, such as host_listings_count and host_total_listings_count. But it's intersting to see availability_30 and availability_90 are less correlated than availability_30 and availability_60."
   ]
  },
  {
   "cell_type": "markdown",
   "metadata": {},
   "source": [
    "To avoid colinearity during modeling, we'll remove some of these columns. "
   ]
  },
  {
   "cell_type": "code",
   "execution_count": 59,
   "metadata": {},
   "outputs": [],
   "source": [
    "corr_col = [ 'host_total_listings_count',\n",
    "            'minimum_minimum_nights', 'minimum_maximum_nights', 'minimum_nights_avg_ntm',\n",
    "            'maximum_nights_avg_ntm', 'number_of_reviews_ltm', 'calculated_host_listings_count_entire_homes']"
   ]
  },
  {
   "cell_type": "code",
   "execution_count": 60,
   "metadata": {},
   "outputs": [],
   "source": [
    "bos_df = bos_df.drop(columns = corr_col)"
   ]
  },
  {
   "cell_type": "markdown",
   "metadata": {},
   "source": [
    "For the remaining columns that have NA values, we set them to be 0, since they are count data."
   ]
  },
  {
   "cell_type": "code",
   "execution_count": 61,
   "metadata": {},
   "outputs": [],
   "source": [
    "na_cols = ['review_scores_location',         \n",
    "'review_scores_checkin',       \n",
    "'review_scores_accuracy',\n",
    "'review_scores_communication',\n",
    "'review_scores_cleanliness',\n",
    "'review_scores_rating',\n",
    "'last_review',\n",
    "'first_review',\n",
    "'reviews_per_month',\n",
    "'beds',\n",
    "'bedrooms',\n",
    "'bathrooms',\n",
    "'host_since',\n",
    "'host_listings_count']   \n",
    "for c in na_cols:\n",
    "    bos_df[c] = bos_df[c].fillna(0)"
   ]
  },
  {
   "cell_type": "markdown",
   "metadata": {},
   "source": [
    "#### Modeling"
   ]
  },
  {
   "cell_type": "markdown",
   "metadata": {},
   "source": [
    "First, we'll predict a listing's quality/popularity using its review scores."
   ]
  },
  {
   "cell_type": "code",
   "execution_count": 62,
   "metadata": {},
   "outputs": [
    {
     "data": {
      "text/plain": [
       "10.0    1347\n",
       "9.0     1279\n",
       "8.0      264\n",
       "7.0       57\n",
       "6.0       27\n",
       "2.0       16\n",
       "4.0        9\n",
       "5.0        4\n",
       "3.0        1\n",
       "Name: review_scores_value, dtype: int64"
      ]
     },
     "execution_count": 62,
     "metadata": {},
     "output_type": "execute_result"
    }
   ],
   "source": [
    "# prepare the data\n",
    "bos_df = bos_df[~bos_df['review_scores_value'].isna()]\n",
    "X, y = bos_df.drop(columns = 'review_scores_value'), bos_df['review_scores_value']\n",
    "y.value_counts()"
   ]
  },
  {
   "cell_type": "markdown",
   "metadata": {},
   "source": [
    "Say a good listing has a review score of 10, anything less than 10 count as not so good. The dataset is relatively balanced."
   ]
  },
  {
   "cell_type": "code",
   "execution_count": 63,
   "metadata": {},
   "outputs": [],
   "source": [
    "y = (y == 10).astype(int)"
   ]
  },
  {
   "cell_type": "code",
   "execution_count": 64,
   "metadata": {},
   "outputs": [
    {
     "name": "stdout",
     "output_type": "stream",
     "text": [
      "Proportion of good reviews:  0.5515978695073236\n",
      "Proportion of not so good reviews:  0.4484021304926764\n"
     ]
    }
   ],
   "source": [
    "print('Proportion of good reviews: ', y.value_counts()[0]/len(y))\n",
    "print('Proportion of not so good reviews: ', y.value_counts()[1]/len(y))"
   ]
  },
  {
   "cell_type": "code",
   "execution_count": 65,
   "metadata": {},
   "outputs": [],
   "source": [
    "# split the data\n",
    "X_train, X_test, y_train, y_test = train_test_split(X, y, test_size=0.2, random_state=42)"
   ]
  },
  {
   "cell_type": "markdown",
   "metadata": {},
   "source": [
    "We'll try different classification models and choose the one with the highest accuracy."
   ]
  },
  {
   "cell_type": "code",
   "execution_count": 62,
   "metadata": {},
   "outputs": [
    {
     "name": "stdout",
     "output_type": "stream",
     "text": [
      "mse:  0.43760399334442596\n"
     ]
    }
   ],
   "source": [
    "# Support Vector Machine\n",
    "from sklearn.svm import SVC\n",
    "svm = SVC().fit(X_train, y_train)\n",
    "print('mse: ', mean_squared_error(svm.predict(X_test),y_test))"
   ]
  },
  {
   "cell_type": "code",
   "execution_count": 63,
   "metadata": {},
   "outputs": [
    {
     "name": "stdout",
     "output_type": "stream",
     "text": [
      "mse:  0.39767054908485855\n"
     ]
    }
   ],
   "source": [
    "# Quadratic Discriminant Analysis\n",
    "from sklearn.discriminant_analysis import QuadraticDiscriminantAnalysis\n",
    "qda = QuadraticDiscriminantAnalysis().fit(X_train, y_train)\n",
    "print('mse: ', mean_squared_error(qda.predict(X_test),y_test))"
   ]
  },
  {
   "cell_type": "code",
   "execution_count": 64,
   "metadata": {},
   "outputs": [
    {
     "name": "stdout",
     "output_type": "stream",
     "text": [
      "mse:  0.36605657237936773\n"
     ]
    }
   ],
   "source": [
    "# K Nearest Neighbor\n",
    "from sklearn.neighbors import KNeighborsClassifier\n",
    "neigh = KNeighborsClassifier(n_neighbors=3).fit(X_train, y_train)\n",
    "print('mse: ', mean_squared_error(neigh.predict(X_test),y_test))"
   ]
  },
  {
   "cell_type": "code",
   "execution_count": 65,
   "metadata": {
    "scrolled": false
   },
   "outputs": [
    {
     "name": "stdout",
     "output_type": "stream",
     "text": [
      "mse:  0.22129783693843594\n"
     ]
    }
   ],
   "source": [
    "# Random Forest\n",
    "rf = RandomForestClassifier().fit(X_train, y_train)\n",
    "prediction = list(rf.predict(X_test))\n",
    "print('mse: ', mean_squared_error(prediction,y_test))"
   ]
  },
  {
   "cell_type": "markdown",
   "metadata": {},
   "source": [
    "Random Forest yield the best result:"
   ]
  },
  {
   "cell_type": "code",
   "execution_count": 122,
   "metadata": {},
   "outputs": [
    {
     "name": "stdout",
     "output_type": "stream",
     "text": [
      "mse:  0.22628951747088186\n",
      "[[280  58]\n",
      " [ 78 185]]\n"
     ]
    }
   ],
   "source": [
    "prediction = list(rf.predict(X_test))\n",
    "print('mse: ', mean_squared_error(prediction,y_test))\n",
    "cm = confusion_matrix(y_test,prediction)\n",
    "tn, fp, fn, tp = cm.ravel()\n",
    "print(cm)"
   ]
  },
  {
   "cell_type": "code",
   "execution_count": 69,
   "metadata": {},
   "outputs": [
    {
     "data": {
      "image/png": "[encoded data removed]",
      "text/plain": [
       "<Figure size 432x288 with 1 Axes>"
      ]
     },
     "metadata": {
      "needs_background": "light"
     },
     "output_type": "display_data"
    },
    {
     "name": "stdout",
     "output_type": "stream",
     "text": [
      "ROC-AUC score:  0.8493036650392602\n"
     ]
    }
   ],
   "source": [
    "proba = rf.predict_proba(X_test)[:,1]\n",
    "rf_auc = roc_auc_score(y_test, proba)\n",
    "rf_fpr, rf_tpr, _ = roc_curve(y_test, proba)\n",
    "# plot the roc curve for the model\n",
    "pyplot.plot(rf_fpr, rf_tpr, marker='.', label='Random Forest')\n",
    "# axis labels\n",
    "pyplot.xlabel('False Positive Rate')\n",
    "pyplot.ylabel('True Positive Rate')\n",
    "# show the legend\n",
    "pyplot.legend()\n",
    "# show the plot\n",
    "pyplot.show()\n",
    "print('ROC-AUC score: ',rf_auc)"
   ]
  },
  {
   "cell_type": "code",
   "execution_count": 70,
   "metadata": {},
   "outputs": [
    {
     "name": "stdout",
     "output_type": "stream",
     "text": [
      "Variable: review_scores_rating Importance: 0.2\n",
      "Variable: review_scores_accuracy Importance: 0.05\n",
      "Variable: review_scores_communication Importance: 0.05\n",
      "Variable: review_scores_cleanliness Importance: 0.04\n",
      "Variable: longitude            Importance: 0.03\n",
      "Variable: amenities            Importance: 0.03\n",
      "Variable: number_of_reviews    Importance: 0.03\n",
      "Variable: first_review         Importance: 0.03\n",
      "Variable: id                   Importance: 0.02\n",
      "Variable: summary              Importance: 0.02\n",
      "Variable: space                Importance: 0.02\n",
      "Variable: host_about           Importance: 0.02\n",
      "Variable: host_listings_count  Importance: 0.02\n",
      "Variable: latitude             Importance: 0.02\n",
      "Variable: price                Importance: 0.02\n",
      "Variable: cleaning_fee         Importance: 0.02\n",
      "Variable: availability_365     Importance: 0.02\n",
      "Variable: last_review          Importance: 0.02\n",
      "Variable: calculated_host_listings_count Importance: 0.02\n",
      "Variable: reviews_per_month    Importance: 0.02\n",
      "Variable: name                 Importance: 0.01\n",
      "Variable: description          Importance: 0.01\n",
      "Variable: neighborhood_overview Importance: 0.01\n",
      "Variable: notes                Importance: 0.01\n",
      "Variable: transit              Importance: 0.01\n",
      "Variable: access               Importance: 0.01\n",
      "Variable: interaction          Importance: 0.01\n",
      "Variable: house_rules          Importance: 0.01\n",
      "Variable: host_id              Importance: 0.01\n",
      "Variable: host_since           Importance: 0.01\n",
      "Variable: host_response_time   Importance: 0.01\n",
      "Variable: host_acceptance_rate Importance: 0.01\n",
      "Variable: host_neighbourhood   Importance: 0.01\n",
      "Variable: host_verifications   Importance: 0.01\n",
      "Variable: accommodates         Importance: 0.01\n",
      "Variable: beds                 Importance: 0.01\n",
      "Variable: security_deposit     Importance: 0.01\n",
      "Variable: extra_people         Importance: 0.01\n",
      "Variable: minimum_nights       Importance: 0.01\n",
      "Variable: maximum_nights       Importance: 0.01\n",
      "Variable: maximum_minimum_nights Importance: 0.01\n",
      "Variable: calendar_updated     Importance: 0.01\n",
      "Variable: availability_30      Importance: 0.01\n",
      "Variable: availability_60      Importance: 0.01\n",
      "Variable: availability_90      Importance: 0.01\n",
      "Variable: review_scores_location Importance: 0.01\n",
      "Variable: cancellation_policy  Importance: 0.01\n",
      "Variable: calculated_host_listings_count_private_rooms Importance: 0.01\n",
      "Variable: Apartment            Importance: 0.01\n",
      "Variable: host_response_rate   Importance: 0.0\n",
      "Variable: is_location_exact    Importance: 0.0\n",
      "Variable: bathrooms            Importance: 0.0\n",
      "Variable: bedrooms             Importance: 0.0\n",
      "Variable: weekly_price         Importance: 0.0\n",
      "Variable: monthly_price        Importance: 0.0\n",
      "Variable: guests_included      Importance: 0.0\n",
      "Variable: maximum_maximum_nights Importance: 0.0\n",
      "Variable: review_scores_checkin Importance: 0.0\n",
      "Variable: requires_license     Importance: 0.0\n",
      "Variable: license              Importance: 0.0\n",
      "Variable: instant_bookable     Importance: 0.0\n",
      "Variable: require_guest_profile_picture Importance: 0.0\n",
      "Variable: require_guest_phone_verification Importance: 0.0\n",
      "Variable: calculated_host_listings_count_shared_rooms Importance: 0.0\n",
      "Variable: Back Bay             Importance: 0.0\n",
      "Variable: Beacon Hill          Importance: 0.0\n",
      "Variable: Brookline            Importance: 0.0\n",
      "Variable: Cambridge            Importance: 0.0\n",
      "Variable: Charlestown          Importance: 0.0\n",
      "Variable: Chestnut Hill        Importance: 0.0\n",
      "Variable: Chinatown            Importance: 0.0\n",
      "Variable: Dorchester           Importance: 0.0\n",
      "Variable: Downtown             Importance: 0.0\n",
      "Variable: Downtown Crossing    Importance: 0.0\n",
      "Variable: East Boston          Importance: 0.0\n",
      "Variable: Fenway/Kenmore       Importance: 0.0\n",
      "Variable: Financial District   Importance: 0.0\n",
      "Variable: Government Center    Importance: 0.0\n",
      "Variable: Harvard Square       Importance: 0.0\n",
      "Variable: Hyde Park            Importance: 0.0\n",
      "Variable: Jamaica Plain        Importance: 0.0\n",
      "Variable: Leather District     Importance: 0.0\n",
      "Variable: Mattapan             Importance: 0.0\n",
      "Variable: Mission Hill         Importance: 0.0\n",
      "Variable: Newton               Importance: 0.0\n",
      "Variable: North End            Importance: 0.0\n",
      "Variable: Roslindale           Importance: 0.0\n",
      "Variable: Roxbury              Importance: 0.0\n",
      "Variable: Somerville           Importance: 0.0\n",
      "Variable: South Boston         Importance: 0.0\n",
      "Variable: South End            Importance: 0.0\n",
      "Variable: Theater District     Importance: 0.0\n",
      "Variable: West End             Importance: 0.0\n",
      "Variable: West Roxbury         Importance: 0.0\n",
      "Variable: Barn                 Importance: 0.0\n",
      "Variable: Bed and breakfast    Importance: 0.0\n",
      "Variable: Boat                 Importance: 0.0\n",
      "Variable: Boutique hotel       Importance: 0.0\n",
      "Variable: Bungalow             Importance: 0.0\n",
      "Variable: Castle               Importance: 0.0\n",
      "Variable: Condominium          Importance: 0.0\n",
      "Variable: Cottage              Importance: 0.0\n",
      "Variable: Guest suite          Importance: 0.0\n",
      "Variable: Guesthouse           Importance: 0.0\n",
      "Variable: Hostel               Importance: 0.0\n",
      "Variable: Hotel                Importance: 0.0\n",
      "Variable: House                Importance: 0.0\n",
      "Variable: Houseboat            Importance: 0.0\n",
      "Variable: Loft                 Importance: 0.0\n",
      "Variable: Other                Importance: 0.0\n",
      "Variable: Serviced apartment   Importance: 0.0\n",
      "Variable: Townhouse            Importance: 0.0\n",
      "Variable: Villa                Importance: 0.0\n",
      "Variable: Hotel room           Importance: 0.0\n",
      "Variable: Private room         Importance: 0.0\n",
      "Variable: Shared room          Importance: 0.0\n",
      "Variable: Airbed               Importance: 0.0\n",
      "Variable: Couch                Importance: 0.0\n",
      "Variable: Futon                Importance: 0.0\n",
      "Variable: Pull-out Sofa        Importance: 0.0\n",
      "Variable: Real Bed             Importance: 0.0\n"
     ]
    }
   ],
   "source": [
    "# Get numerical feature importances\n",
    "importances = list(rf.feature_importances_)\n",
    "feature_list = X_train.columns\n",
    "# List of tuples with variable and importance\n",
    "feature_importances = [(feature, round(importance, 2)) for feature, importance in zip(feature_list, importances)]\n",
    "# Sort the feature importances by most important first\n",
    "feature_importances = sorted(feature_importances, key = lambda x: x[1], reverse = True)\n",
    "# Print out the feature and importances \n",
    "[print('Variable: {:20} Importance: {}'.format(*pair)) for pair in feature_importances];"
   ]
  },
  {
   "cell_type": "code",
   "execution_count": 71,
   "metadata": {},
   "outputs": [],
   "source": [
    "selected_columns = [name for (name,value) in feature_importances][:10]\n",
    "selected_importances = [value for (name,value) in feature_importances][:10]"
   ]
  },
  {
   "cell_type": "code",
   "execution_count": 75,
   "metadata": {
    "scrolled": true
   },
   "outputs": [
    {
     "data": {
      "image/png": "[encoded data removed]",
      "text/plain": [
       "<Figure size 432x288 with 1 Axes>"
      ]
     },
     "metadata": {},
     "output_type": "display_data"
    }
   ],
   "source": [
    "plt.style.use('fivethirtyeight')\n",
    "# list of x locations for plotting\n",
    "y_values = list(range(len(selected_columns)))\n",
    "# Make a bar chart\n",
    "plt.barh(y_values, selected_importances, orientation = 'horizontal')\n",
    "plt.yticks(y_values, selected_columns, rotation='horizontal')\n",
    "plt.gca().invert_yaxis()\n",
    "# Axis labels and title\n",
    "plt.xlabel('Importance'); plt.ylabel('Variable'); plt.title('Variable Importances');"
   ]
  },
  {
   "cell_type": "markdown",
   "metadata": {},
   "source": [
    "## Anonymization  <a id = \"5\"></a>"
   ]
  },
  {
   "cell_type": "code",
   "execution_count": 76,
   "metadata": {},
   "outputs": [
    {
     "data": {
      "text/html": [
       "<div>\n",
       "<style scoped>\n",
       "    .dataframe tbody tr th:only-of-type {\n",
       "        vertical-align: middle;\n",
       "    }\n",
       "\n",
       "    .dataframe tbody tr th {\n",
       "        vertical-align: top;\n",
       "    }\n",
       "\n",
       "    .dataframe thead th {\n",
       "        text-align: right;\n",
       "    }\n",
       "</style>\n",
       "<table border=\"1\" class=\"dataframe\">\n",
       "  <thead>\n",
       "    <tr style=\"text-align: right;\">\n",
       "      <th></th>\n",
       "      <th>id</th>\n",
       "      <th>listing_url</th>\n",
       "      <th>name</th>\n",
       "      <th>summary</th>\n",
       "      <th>space</th>\n",
       "      <th>description</th>\n",
       "      <th>neighborhood_overview</th>\n",
       "      <th>notes</th>\n",
       "      <th>transit</th>\n",
       "      <th>access</th>\n",
       "      <th>interaction</th>\n",
       "      <th>house_rules</th>\n",
       "      <th>picture_url</th>\n",
       "      <th>host_id</th>\n",
       "      <th>host_url</th>\n",
       "      <th>host_name</th>\n",
       "      <th>host_since</th>\n",
       "      <th>host_location</th>\n",
       "      <th>host_about</th>\n",
       "      <th>host_response_time</th>\n",
       "      <th>host_response_rate</th>\n",
       "      <th>host_acceptance_rate</th>\n",
       "      <th>host_thumbnail_url</th>\n",
       "      <th>host_picture_url</th>\n",
       "      <th>host_neighbourhood</th>\n",
       "      <th>host_listings_count</th>\n",
       "      <th>host_total_listings_count</th>\n",
       "      <th>host_verifications</th>\n",
       "      <th>street</th>\n",
       "      <th>neighbourhood</th>\n",
       "      <th>neighbourhood_cleansed</th>\n",
       "      <th>city</th>\n",
       "      <th>state</th>\n",
       "      <th>zipcode</th>\n",
       "      <th>smart_location</th>\n",
       "      <th>latitude</th>\n",
       "      <th>longitude</th>\n",
       "      <th>is_location_exact</th>\n",
       "      <th>property_type</th>\n",
       "      <th>room_type</th>\n",
       "      <th>accommodates</th>\n",
       "      <th>bathrooms</th>\n",
       "      <th>bedrooms</th>\n",
       "      <th>beds</th>\n",
       "      <th>bed_type</th>\n",
       "      <th>amenities</th>\n",
       "      <th>price</th>\n",
       "      <th>weekly_price</th>\n",
       "      <th>monthly_price</th>\n",
       "      <th>security_deposit</th>\n",
       "      <th>cleaning_fee</th>\n",
       "      <th>guests_included</th>\n",
       "      <th>extra_people</th>\n",
       "      <th>minimum_nights</th>\n",
       "      <th>maximum_nights</th>\n",
       "      <th>minimum_minimum_nights</th>\n",
       "      <th>maximum_minimum_nights</th>\n",
       "      <th>minimum_maximum_nights</th>\n",
       "      <th>maximum_maximum_nights</th>\n",
       "      <th>minimum_nights_avg_ntm</th>\n",
       "      <th>maximum_nights_avg_ntm</th>\n",
       "      <th>calendar_updated</th>\n",
       "      <th>availability_30</th>\n",
       "      <th>availability_60</th>\n",
       "      <th>availability_90</th>\n",
       "      <th>availability_365</th>\n",
       "      <th>number_of_reviews</th>\n",
       "      <th>number_of_reviews_ltm</th>\n",
       "      <th>first_review</th>\n",
       "      <th>last_review</th>\n",
       "      <th>review_scores_rating</th>\n",
       "      <th>review_scores_accuracy</th>\n",
       "      <th>review_scores_cleanliness</th>\n",
       "      <th>review_scores_checkin</th>\n",
       "      <th>review_scores_communication</th>\n",
       "      <th>review_scores_location</th>\n",
       "      <th>review_scores_value</th>\n",
       "      <th>requires_license</th>\n",
       "      <th>license</th>\n",
       "      <th>instant_bookable</th>\n",
       "      <th>cancellation_policy</th>\n",
       "      <th>require_guest_profile_picture</th>\n",
       "      <th>require_guest_phone_verification</th>\n",
       "      <th>calculated_host_listings_count</th>\n",
       "      <th>calculated_host_listings_count_entire_homes</th>\n",
       "      <th>calculated_host_listings_count_private_rooms</th>\n",
       "      <th>calculated_host_listings_count_shared_rooms</th>\n",
       "      <th>reviews_per_month</th>\n",
       "    </tr>\n",
       "  </thead>\n",
       "  <tbody>\n",
       "    <tr>\n",
       "      <td>0</td>\n",
       "      <td>3781</td>\n",
       "      <td>https://www.airbnb.com/rooms/3781</td>\n",
       "      <td>HARBORSIDE-Walk to subway</td>\n",
       "      <td>Fully separate apartment in a two apartment bu...</td>\n",
       "      <td>This is a totally separate apartment located o...</td>\n",
       "      <td>Fully separate apartment in a two apartment bu...</td>\n",
       "      <td>Mostly quiet ( no loud music, no crowed sidewa...</td>\n",
       "      <td>Building is on quiet side of airport. Building...</td>\n",
       "      <td>Local subway stop ( Maverick Station on the Bl...</td>\n",
       "      <td>Guests solely occupy the 1 floor apartment wit...</td>\n",
       "      <td>We sometimes travel. Always available via: mob...</td>\n",
       "      <td>No pets, no smoking.</td>\n",
       "      <td>https://a0.muscache.com/im/pictures/24670/b2de...</td>\n",
       "      <td>4804</td>\n",
       "      <td>https://www.airbnb.com/users/show/4804</td>\n",
       "      <td>Frank</td>\n",
       "      <td>2008-12-03</td>\n",
       "      <td>Massachusetts</td>\n",
       "      <td>My wife and I and grown children frequently oc...</td>\n",
       "      <td>within a few hours</td>\n",
       "      <td>100%</td>\n",
       "      <td>44%</td>\n",
       "      <td>https://a0.muscache.com/im/users/4804/profile_...</td>\n",
       "      <td>https://a0.muscache.com/im/users/4804/profile_...</td>\n",
       "      <td>True</td>\n",
       "      <td>5</td>\n",
       "      <td>5</td>\n",
       "      <td>['email', 'phone', 'reviews']</td>\n",
       "      <td>Boston, MA, United States</td>\n",
       "      <td>East Boston</td>\n",
       "      <td>East Boston</td>\n",
       "      <td>Boston</td>\n",
       "      <td>MA</td>\n",
       "      <td>02128</td>\n",
       "      <td>Boston, MA</td>\n",
       "      <td>42.36413</td>\n",
       "      <td>-71.02991</td>\n",
       "      <td>t</td>\n",
       "      <td>Apartment</td>\n",
       "      <td>Entire home/apt</td>\n",
       "      <td>2</td>\n",
       "      <td>1.0</td>\n",
       "      <td>1.0</td>\n",
       "      <td>0.0</td>\n",
       "      <td>Real Bed</td>\n",
       "      <td>{TV,\"Cable TV\",Wifi,\"Air conditioning\",Kitchen...</td>\n",
       "      <td>$125.00</td>\n",
       "      <td>1</td>\n",
       "      <td>1</td>\n",
       "      <td>$0.00</td>\n",
       "      <td>$75.00</td>\n",
       "      <td>2</td>\n",
       "      <td>$0.00</td>\n",
       "      <td>28</td>\n",
       "      <td>1125</td>\n",
       "      <td>28</td>\n",
       "      <td>28</td>\n",
       "      <td>1125</td>\n",
       "      <td>1125</td>\n",
       "      <td>28.0</td>\n",
       "      <td>1125.0</td>\n",
       "      <td>2 months ago</td>\n",
       "      <td>11</td>\n",
       "      <td>20</td>\n",
       "      <td>20</td>\n",
       "      <td>97</td>\n",
       "      <td>16</td>\n",
       "      <td>1</td>\n",
       "      <td>2015-07-10</td>\n",
       "      <td>2019-12-21</td>\n",
       "      <td>99.0</td>\n",
       "      <td>10.0</td>\n",
       "      <td>10.0</td>\n",
       "      <td>10.0</td>\n",
       "      <td>10.0</td>\n",
       "      <td>10.0</td>\n",
       "      <td>10.0</td>\n",
       "      <td>t</td>\n",
       "      <td>0</td>\n",
       "      <td>f</td>\n",
       "      <td>super_strict_30</td>\n",
       "      <td>f</td>\n",
       "      <td>f</td>\n",
       "      <td>1</td>\n",
       "      <td>1</td>\n",
       "      <td>0</td>\n",
       "      <td>0</td>\n",
       "      <td>0.28</td>\n",
       "    </tr>\n",
       "    <tr>\n",
       "      <td>1</td>\n",
       "      <td>5506</td>\n",
       "      <td>https://www.airbnb.com/rooms/5506</td>\n",
       "      <td>**$49 Special **   Private! Minutes to center!</td>\n",
       "      <td>Private guest room with private bath, You do n...</td>\n",
       "      <td>**THE BEST Value in BOSTON!!*** PRIVATE GUEST ...</td>\n",
       "      <td>Private guest room with private bath, You do n...</td>\n",
       "      <td>Peacful, Architecturally interesting, historic...</td>\n",
       "      <td>Guest room is on the 3rd floor,  Steps are req...</td>\n",
       "      <td>Excellent Access to all of Boston, Walk to Mus...</td>\n",
       "      <td>You get full access to the guest room with pri...</td>\n",
       "      <td>We give guests privacy,  but we are available ...</td>\n",
       "      <td>No Smoking in the Building.</td>\n",
       "      <td>https://a0.muscache.com/im/pictures/1598e8b6-5...</td>\n",
       "      <td>8229</td>\n",
       "      <td>https://www.airbnb.com/users/show/8229</td>\n",
       "      <td>Terry</td>\n",
       "      <td>2009-02-19</td>\n",
       "      <td>Boston, Massachusetts, United States</td>\n",
       "      <td>Relaxed,  Easy going, Accommodating.</td>\n",
       "      <td>within an hour</td>\n",
       "      <td>100%</td>\n",
       "      <td>100%</td>\n",
       "      <td>https://a0.muscache.com/im/users/8229/profile_...</td>\n",
       "      <td>https://a0.muscache.com/im/users/8229/profile_...</td>\n",
       "      <td>True</td>\n",
       "      <td>2</td>\n",
       "      <td>2</td>\n",
       "      <td>['email', 'phone', 'reviews', 'kba']</td>\n",
       "      <td>Boston, MA, United States</td>\n",
       "      <td>Roxbury</td>\n",
       "      <td>Roxbury</td>\n",
       "      <td>Boston</td>\n",
       "      <td>MA</td>\n",
       "      <td>02119</td>\n",
       "      <td>Boston, MA</td>\n",
       "      <td>42.32981</td>\n",
       "      <td>-71.09559</td>\n",
       "      <td>t</td>\n",
       "      <td>Guest suite</td>\n",
       "      <td>Entire home/apt</td>\n",
       "      <td>2</td>\n",
       "      <td>1.0</td>\n",
       "      <td>1.0</td>\n",
       "      <td>1.0</td>\n",
       "      <td>Real Bed</td>\n",
       "      <td>{TV,\"Cable TV\",Internet,Wifi,\"Air conditioning...</td>\n",
       "      <td>$145.00</td>\n",
       "      <td>1</td>\n",
       "      <td>1</td>\n",
       "      <td>$0.00</td>\n",
       "      <td>$60.00</td>\n",
       "      <td>1</td>\n",
       "      <td>$0.00</td>\n",
       "      <td>3</td>\n",
       "      <td>730</td>\n",
       "      <td>3</td>\n",
       "      <td>5</td>\n",
       "      <td>1125</td>\n",
       "      <td>1125</td>\n",
       "      <td>3.0</td>\n",
       "      <td>1125.0</td>\n",
       "      <td>3 weeks ago</td>\n",
       "      <td>1</td>\n",
       "      <td>14</td>\n",
       "      <td>44</td>\n",
       "      <td>307</td>\n",
       "      <td>106</td>\n",
       "      <td>22</td>\n",
       "      <td>2009-03-21</td>\n",
       "      <td>2019-10-31</td>\n",
       "      <td>95.0</td>\n",
       "      <td>10.0</td>\n",
       "      <td>10.0</td>\n",
       "      <td>10.0</td>\n",
       "      <td>10.0</td>\n",
       "      <td>9.0</td>\n",
       "      <td>10.0</td>\n",
       "      <td>t</td>\n",
       "      <td>1</td>\n",
       "      <td>t</td>\n",
       "      <td>strict_14_with_grace_period</td>\n",
       "      <td>f</td>\n",
       "      <td>f</td>\n",
       "      <td>6</td>\n",
       "      <td>6</td>\n",
       "      <td>0</td>\n",
       "      <td>0</td>\n",
       "      <td>0.79</td>\n",
       "    </tr>\n",
       "    <tr>\n",
       "      <td>2</td>\n",
       "      <td>6695</td>\n",
       "      <td>https://www.airbnb.com/rooms/6695</td>\n",
       "      <td>$99 Special!! Home Away! Condo</td>\n",
       "      <td>Comfortable,  Fully Equipped private apartment...</td>\n",
       "      <td>** WELCOME *** FULL PRIVATE APARTMENT In a His...</td>\n",
       "      <td>Comfortable,  Fully Equipped private apartment...</td>\n",
       "      <td>Peaceful, Architecturally interesting, histori...</td>\n",
       "      <td>Check out some of the other accommodations we ...</td>\n",
       "      <td>We are a 5 minute walk to the subway,  5 minut...</td>\n",
       "      <td>Full Private apartment.  1 bedroom,  kitchen, ...</td>\n",
       "      <td>NaN</td>\n",
       "      <td>No Smoking in the Building.</td>\n",
       "      <td>https://a0.muscache.com/im/pictures/38ac4797-e...</td>\n",
       "      <td>8229</td>\n",
       "      <td>https://www.airbnb.com/users/show/8229</td>\n",
       "      <td>Terry</td>\n",
       "      <td>2009-02-19</td>\n",
       "      <td>Boston, Massachusetts, United States</td>\n",
       "      <td>Relaxed,  Easy going, Accommodating.</td>\n",
       "      <td>within an hour</td>\n",
       "      <td>100%</td>\n",
       "      <td>100%</td>\n",
       "      <td>https://a0.muscache.com/im/users/8229/profile_...</td>\n",
       "      <td>https://a0.muscache.com/im/users/8229/profile_...</td>\n",
       "      <td>True</td>\n",
       "      <td>2</td>\n",
       "      <td>2</td>\n",
       "      <td>['email', 'phone', 'reviews', 'kba']</td>\n",
       "      <td>Boston, MA, United States</td>\n",
       "      <td>Roxbury</td>\n",
       "      <td>Roxbury</td>\n",
       "      <td>Boston</td>\n",
       "      <td>MA</td>\n",
       "      <td>02119</td>\n",
       "      <td>Boston, MA</td>\n",
       "      <td>42.32994</td>\n",
       "      <td>-71.09351</td>\n",
       "      <td>t</td>\n",
       "      <td>Condominium</td>\n",
       "      <td>Entire home/apt</td>\n",
       "      <td>4</td>\n",
       "      <td>1.0</td>\n",
       "      <td>1.0</td>\n",
       "      <td>1.0</td>\n",
       "      <td>Real Bed</td>\n",
       "      <td>{TV,\"Cable TV\",Internet,Wifi,\"Air conditioning...</td>\n",
       "      <td>$169.00</td>\n",
       "      <td>0</td>\n",
       "      <td>0</td>\n",
       "      <td>$0.00</td>\n",
       "      <td>$80.00</td>\n",
       "      <td>2</td>\n",
       "      <td>$8.00</td>\n",
       "      <td>3</td>\n",
       "      <td>730</td>\n",
       "      <td>2</td>\n",
       "      <td>5</td>\n",
       "      <td>730</td>\n",
       "      <td>730</td>\n",
       "      <td>3.0</td>\n",
       "      <td>730.0</td>\n",
       "      <td>6 weeks ago</td>\n",
       "      <td>1</td>\n",
       "      <td>4</td>\n",
       "      <td>19</td>\n",
       "      <td>266</td>\n",
       "      <td>115</td>\n",
       "      <td>29</td>\n",
       "      <td>2009-08-06</td>\n",
       "      <td>2019-11-02</td>\n",
       "      <td>96.0</td>\n",
       "      <td>10.0</td>\n",
       "      <td>10.0</td>\n",
       "      <td>10.0</td>\n",
       "      <td>10.0</td>\n",
       "      <td>9.0</td>\n",
       "      <td>10.0</td>\n",
       "      <td>t</td>\n",
       "      <td>1</td>\n",
       "      <td>t</td>\n",
       "      <td>strict_14_with_grace_period</td>\n",
       "      <td>f</td>\n",
       "      <td>f</td>\n",
       "      <td>6</td>\n",
       "      <td>6</td>\n",
       "      <td>0</td>\n",
       "      <td>0</td>\n",
       "      <td>0.88</td>\n",
       "    </tr>\n",
       "    <tr>\n",
       "      <td>3</td>\n",
       "      <td>8789</td>\n",
       "      <td>https://www.airbnb.com/rooms/8789</td>\n",
       "      <td>Curved Glass Studio/1bd facing Park</td>\n",
       "      <td>Bright, 1 bed with curved glass windows facing...</td>\n",
       "      <td>Fully Furnished studio with enclosed bedroom. ...</td>\n",
       "      <td>Bright, 1 bed with curved glass windows facing...</td>\n",
       "      <td>Beacon Hill is a historic neighborhood filled ...</td>\n",
       "      <td>Guests should expect to show government ID to ...</td>\n",
       "      <td>The MBTA site is a great reference for public ...</td>\n",
       "      <td>Guests have access to the full unit</td>\n",
       "      <td>I'm available for questions and/or issues.</td>\n",
       "      <td>NaN</td>\n",
       "      <td>https://a0.muscache.com/im/pictures/32210/7fdd...</td>\n",
       "      <td>26988</td>\n",
       "      <td>https://www.airbnb.com/users/show/26988</td>\n",
       "      <td>Anne</td>\n",
       "      <td>2009-07-22</td>\n",
       "      <td>Boston, Massachusetts, United States</td>\n",
       "      <td>I manage a number of furnished units around Bo...</td>\n",
       "      <td>within a few hours</td>\n",
       "      <td>100%</td>\n",
       "      <td>83%</td>\n",
       "      <td>https://a0.muscache.com/im/pictures/user/d7d71...</td>\n",
       "      <td>https://a0.muscache.com/im/pictures/user/d7d71...</td>\n",
       "      <td>True</td>\n",
       "      <td>10</td>\n",
       "      <td>10</td>\n",
       "      <td>['email', 'phone', 'reviews', 'jumio', 'offlin...</td>\n",
       "      <td>Boston, MA, United States</td>\n",
       "      <td>Beacon Hill</td>\n",
       "      <td>Downtown</td>\n",
       "      <td>Boston</td>\n",
       "      <td>MA</td>\n",
       "      <td>02108</td>\n",
       "      <td>Boston, MA</td>\n",
       "      <td>42.35919</td>\n",
       "      <td>-71.06265</td>\n",
       "      <td>t</td>\n",
       "      <td>Apartment</td>\n",
       "      <td>Entire home/apt</td>\n",
       "      <td>2</td>\n",
       "      <td>1.0</td>\n",
       "      <td>1.0</td>\n",
       "      <td>1.0</td>\n",
       "      <td>Real Bed</td>\n",
       "      <td>{TV,\"Cable TV\",Internet,Wifi,\"Air conditioning...</td>\n",
       "      <td>$99.00</td>\n",
       "      <td>1</td>\n",
       "      <td>1</td>\n",
       "      <td>$1,000.00</td>\n",
       "      <td>$250.00</td>\n",
       "      <td>1</td>\n",
       "      <td>$0.00</td>\n",
       "      <td>91</td>\n",
       "      <td>365</td>\n",
       "      <td>91</td>\n",
       "      <td>91</td>\n",
       "      <td>365</td>\n",
       "      <td>365</td>\n",
       "      <td>91.0</td>\n",
       "      <td>365.0</td>\n",
       "      <td>7 months ago</td>\n",
       "      <td>17</td>\n",
       "      <td>42</td>\n",
       "      <td>42</td>\n",
       "      <td>290</td>\n",
       "      <td>24</td>\n",
       "      <td>2</td>\n",
       "      <td>2014-08-12</td>\n",
       "      <td>2019-09-30</td>\n",
       "      <td>93.0</td>\n",
       "      <td>9.0</td>\n",
       "      <td>9.0</td>\n",
       "      <td>10.0</td>\n",
       "      <td>10.0</td>\n",
       "      <td>10.0</td>\n",
       "      <td>9.0</td>\n",
       "      <td>t</td>\n",
       "      <td>0</td>\n",
       "      <td>f</td>\n",
       "      <td>strict_14_with_grace_period</td>\n",
       "      <td>f</td>\n",
       "      <td>f</td>\n",
       "      <td>8</td>\n",
       "      <td>8</td>\n",
       "      <td>0</td>\n",
       "      <td>0</td>\n",
       "      <td>0.35</td>\n",
       "    </tr>\n",
       "    <tr>\n",
       "      <td>4</td>\n",
       "      <td>10730</td>\n",
       "      <td>https://www.airbnb.com/rooms/10730</td>\n",
       "      <td>Bright 1bed facing Golden Dome</td>\n",
       "      <td>Bright, spacious unit, new galley kitchen, new...</td>\n",
       "      <td>Bright one bed facing the golden dome of the S...</td>\n",
       "      <td>Bright, spacious unit, new galley kitchen, new...</td>\n",
       "      <td>Beacon Hill is located downtown and is conveni...</td>\n",
       "      <td>Guests should expect to show government ID to ...</td>\n",
       "      <td>The Red Park Street Train stop and the Green B...</td>\n",
       "      <td>Guests have access to everything in the unit.</td>\n",
       "      <td>I'm available as needed.</td>\n",
       "      <td>NO SMOKING, NO PETS. $100 move-in fee payable ...</td>\n",
       "      <td>https://a0.muscache.com/im/pictures/45296/e534...</td>\n",
       "      <td>26988</td>\n",
       "      <td>https://www.airbnb.com/users/show/26988</td>\n",
       "      <td>Anne</td>\n",
       "      <td>2009-07-22</td>\n",
       "      <td>Boston, Massachusetts, United States</td>\n",
       "      <td>I manage a number of furnished units around Bo...</td>\n",
       "      <td>within a few hours</td>\n",
       "      <td>100%</td>\n",
       "      <td>83%</td>\n",
       "      <td>https://a0.muscache.com/im/pictures/user/d7d71...</td>\n",
       "      <td>https://a0.muscache.com/im/pictures/user/d7d71...</td>\n",
       "      <td>True</td>\n",
       "      <td>10</td>\n",
       "      <td>10</td>\n",
       "      <td>['email', 'phone', 'reviews', 'jumio', 'offlin...</td>\n",
       "      <td>Boston, MA, United States</td>\n",
       "      <td>Beacon Hill</td>\n",
       "      <td>Downtown</td>\n",
       "      <td>Boston</td>\n",
       "      <td>MA</td>\n",
       "      <td>02108</td>\n",
       "      <td>Boston, MA</td>\n",
       "      <td>42.35840</td>\n",
       "      <td>-71.06185</td>\n",
       "      <td>t</td>\n",
       "      <td>Apartment</td>\n",
       "      <td>Entire home/apt</td>\n",
       "      <td>2</td>\n",
       "      <td>1.0</td>\n",
       "      <td>1.0</td>\n",
       "      <td>1.0</td>\n",
       "      <td>Real Bed</td>\n",
       "      <td>{TV,\"Cable TV\",Internet,Wifi,\"Air conditioning...</td>\n",
       "      <td>$150.00</td>\n",
       "      <td>1</td>\n",
       "      <td>1</td>\n",
       "      <td>$1,000.00</td>\n",
       "      <td>$250.00</td>\n",
       "      <td>1</td>\n",
       "      <td>$0.00</td>\n",
       "      <td>91</td>\n",
       "      <td>365</td>\n",
       "      <td>91</td>\n",
       "      <td>91</td>\n",
       "      <td>365</td>\n",
       "      <td>365</td>\n",
       "      <td>91.0</td>\n",
       "      <td>365.0</td>\n",
       "      <td>5 weeks ago</td>\n",
       "      <td>28</td>\n",
       "      <td>29</td>\n",
       "      <td>29</td>\n",
       "      <td>42</td>\n",
       "      <td>31</td>\n",
       "      <td>3</td>\n",
       "      <td>2009-09-21</td>\n",
       "      <td>2019-12-01</td>\n",
       "      <td>95.0</td>\n",
       "      <td>10.0</td>\n",
       "      <td>9.0</td>\n",
       "      <td>10.0</td>\n",
       "      <td>10.0</td>\n",
       "      <td>10.0</td>\n",
       "      <td>9.0</td>\n",
       "      <td>t</td>\n",
       "      <td>0</td>\n",
       "      <td>f</td>\n",
       "      <td>strict_14_with_grace_period</td>\n",
       "      <td>f</td>\n",
       "      <td>f</td>\n",
       "      <td>8</td>\n",
       "      <td>8</td>\n",
       "      <td>0</td>\n",
       "      <td>0</td>\n",
       "      <td>0.24</td>\n",
       "    </tr>\n",
       "  </tbody>\n",
       "</table>\n",
       "</div>"
      ],
      "text/plain": [
       "      id                         listing_url  \\\n",
       "0   3781   https://www.airbnb.com/rooms/3781   \n",
       "1   5506   https://www.airbnb.com/rooms/5506   \n",
       "2   6695   https://www.airbnb.com/rooms/6695   \n",
       "3   8789   https://www.airbnb.com/rooms/8789   \n",
       "4  10730  https://www.airbnb.com/rooms/10730   \n",
       "\n",
       "                                             name  \\\n",
       "0                       HARBORSIDE-Walk to subway   \n",
       "1  **$49 Special **   Private! Minutes to center!   \n",
       "2                  $99 Special!! Home Away! Condo   \n",
       "3             Curved Glass Studio/1bd facing Park   \n",
       "4                  Bright 1bed facing Golden Dome   \n",
       "\n",
       "                                             summary  \\\n",
       "0  Fully separate apartment in a two apartment bu...   \n",
       "1  Private guest room with private bath, You do n...   \n",
       "2  Comfortable,  Fully Equipped private apartment...   \n",
       "3  Bright, 1 bed with curved glass windows facing...   \n",
       "4  Bright, spacious unit, new galley kitchen, new...   \n",
       "\n",
       "                                               space  \\\n",
       "0  This is a totally separate apartment located o...   \n",
       "1  **THE BEST Value in BOSTON!!*** PRIVATE GUEST ...   \n",
       "2  ** WELCOME *** FULL PRIVATE APARTMENT In a His...   \n",
       "3  Fully Furnished studio with enclosed bedroom. ...   \n",
       "4  Bright one bed facing the golden dome of the S...   \n",
       "\n",
       "                                         description  \\\n",
       "0  Fully separate apartment in a two apartment bu...   \n",
       "1  Private guest room with private bath, You do n...   \n",
       "2  Comfortable,  Fully Equipped private apartment...   \n",
       "3  Bright, 1 bed with curved glass windows facing...   \n",
       "4  Bright, spacious unit, new galley kitchen, new...   \n",
       "\n",
       "                               neighborhood_overview  \\\n",
       "0  Mostly quiet ( no loud music, no crowed sidewa...   \n",
       "1  Peacful, Architecturally interesting, historic...   \n",
       "2  Peaceful, Architecturally interesting, histori...   \n",
       "3  Beacon Hill is a historic neighborhood filled ...   \n",
       "4  Beacon Hill is located downtown and is conveni...   \n",
       "\n",
       "                                               notes  \\\n",
       "0  Building is on quiet side of airport. Building...   \n",
       "1  Guest room is on the 3rd floor,  Steps are req...   \n",
       "2  Check out some of the other accommodations we ...   \n",
       "3  Guests should expect to show government ID to ...   \n",
       "4  Guests should expect to show government ID to ...   \n",
       "\n",
       "                                             transit  \\\n",
       "0  Local subway stop ( Maverick Station on the Bl...   \n",
       "1  Excellent Access to all of Boston, Walk to Mus...   \n",
       "2  We are a 5 minute walk to the subway,  5 minut...   \n",
       "3  The MBTA site is a great reference for public ...   \n",
       "4  The Red Park Street Train stop and the Green B...   \n",
       "\n",
       "                                              access  \\\n",
       "0  Guests solely occupy the 1 floor apartment wit...   \n",
       "1  You get full access to the guest room with pri...   \n",
       "2  Full Private apartment.  1 bedroom,  kitchen, ...   \n",
       "3                Guests have access to the full unit   \n",
       "4      Guests have access to everything in the unit.   \n",
       "\n",
       "                                         interaction  \\\n",
       "0  We sometimes travel. Always available via: mob...   \n",
       "1  We give guests privacy,  but we are available ...   \n",
       "2                                                NaN   \n",
       "3         I'm available for questions and/or issues.   \n",
       "4                           I'm available as needed.   \n",
       "\n",
       "                                         house_rules  \\\n",
       "0                               No pets, no smoking.   \n",
       "1                        No Smoking in the Building.   \n",
       "2                        No Smoking in the Building.   \n",
       "3                                                NaN   \n",
       "4  NO SMOKING, NO PETS. $100 move-in fee payable ...   \n",
       "\n",
       "                                         picture_url  host_id  \\\n",
       "0  https://a0.muscache.com/im/pictures/24670/b2de...     4804   \n",
       "1  https://a0.muscache.com/im/pictures/1598e8b6-5...     8229   \n",
       "2  https://a0.muscache.com/im/pictures/38ac4797-e...     8229   \n",
       "3  https://a0.muscache.com/im/pictures/32210/7fdd...    26988   \n",
       "4  https://a0.muscache.com/im/pictures/45296/e534...    26988   \n",
       "\n",
       "                                  host_url host_name  host_since  \\\n",
       "0   https://www.airbnb.com/users/show/4804     Frank  2008-12-03   \n",
       "1   https://www.airbnb.com/users/show/8229     Terry  2009-02-19   \n",
       "2   https://www.airbnb.com/users/show/8229     Terry  2009-02-19   \n",
       "3  https://www.airbnb.com/users/show/26988      Anne  2009-07-22   \n",
       "4  https://www.airbnb.com/users/show/26988      Anne  2009-07-22   \n",
       "\n",
       "                          host_location  \\\n",
       "0                         Massachusetts   \n",
       "1  Boston, Massachusetts, United States   \n",
       "2  Boston, Massachusetts, United States   \n",
       "3  Boston, Massachusetts, United States   \n",
       "4  Boston, Massachusetts, United States   \n",
       "\n",
       "                                          host_about  host_response_time  \\\n",
       "0  My wife and I and grown children frequently oc...  within a few hours   \n",
       "1              Relaxed,  Easy going, Accommodating.       within an hour   \n",
       "2              Relaxed,  Easy going, Accommodating.       within an hour   \n",
       "3  I manage a number of furnished units around Bo...  within a few hours   \n",
       "4  I manage a number of furnished units around Bo...  within a few hours   \n",
       "\n",
       "  host_response_rate host_acceptance_rate  \\\n",
       "0               100%                  44%   \n",
       "1               100%                 100%   \n",
       "2               100%                 100%   \n",
       "3               100%                  83%   \n",
       "4               100%                  83%   \n",
       "\n",
       "                                  host_thumbnail_url  \\\n",
       "0  https://a0.muscache.com/im/users/4804/profile_...   \n",
       "1  https://a0.muscache.com/im/users/8229/profile_...   \n",
       "2  https://a0.muscache.com/im/users/8229/profile_...   \n",
       "3  https://a0.muscache.com/im/pictures/user/d7d71...   \n",
       "4  https://a0.muscache.com/im/pictures/user/d7d71...   \n",
       "\n",
       "                                    host_picture_url  host_neighbourhood  \\\n",
       "0  https://a0.muscache.com/im/users/4804/profile_...                True   \n",
       "1  https://a0.muscache.com/im/users/8229/profile_...                True   \n",
       "2  https://a0.muscache.com/im/users/8229/profile_...                True   \n",
       "3  https://a0.muscache.com/im/pictures/user/d7d71...                True   \n",
       "4  https://a0.muscache.com/im/pictures/user/d7d71...                True   \n",
       "\n",
       "   host_listings_count  host_total_listings_count  \\\n",
       "0                    5                          5   \n",
       "1                    2                          2   \n",
       "2                    2                          2   \n",
       "3                   10                         10   \n",
       "4                   10                         10   \n",
       "\n",
       "                                  host_verifications  \\\n",
       "0                      ['email', 'phone', 'reviews']   \n",
       "1               ['email', 'phone', 'reviews', 'kba']   \n",
       "2               ['email', 'phone', 'reviews', 'kba']   \n",
       "3  ['email', 'phone', 'reviews', 'jumio', 'offlin...   \n",
       "4  ['email', 'phone', 'reviews', 'jumio', 'offlin...   \n",
       "\n",
       "                      street neighbourhood neighbourhood_cleansed    city  \\\n",
       "0  Boston, MA, United States   East Boston            East Boston  Boston   \n",
       "1  Boston, MA, United States       Roxbury                Roxbury  Boston   \n",
       "2  Boston, MA, United States       Roxbury                Roxbury  Boston   \n",
       "3  Boston, MA, United States   Beacon Hill               Downtown  Boston   \n",
       "4  Boston, MA, United States   Beacon Hill               Downtown  Boston   \n",
       "\n",
       "  state zipcode smart_location  latitude  longitude is_location_exact  \\\n",
       "0    MA   02128     Boston, MA  42.36413  -71.02991                 t   \n",
       "1    MA   02119     Boston, MA  42.32981  -71.09559                 t   \n",
       "2    MA   02119     Boston, MA  42.32994  -71.09351                 t   \n",
       "3    MA   02108     Boston, MA  42.35919  -71.06265                 t   \n",
       "4    MA   02108     Boston, MA  42.35840  -71.06185                 t   \n",
       "\n",
       "  property_type        room_type  accommodates  bathrooms  bedrooms  beds  \\\n",
       "0     Apartment  Entire home/apt             2        1.0       1.0   0.0   \n",
       "1   Guest suite  Entire home/apt             2        1.0       1.0   1.0   \n",
       "2   Condominium  Entire home/apt             4        1.0       1.0   1.0   \n",
       "3     Apartment  Entire home/apt             2        1.0       1.0   1.0   \n",
       "4     Apartment  Entire home/apt             2        1.0       1.0   1.0   \n",
       "\n",
       "   bed_type                                          amenities    price  \\\n",
       "0  Real Bed  {TV,\"Cable TV\",Wifi,\"Air conditioning\",Kitchen...  $125.00   \n",
       "1  Real Bed  {TV,\"Cable TV\",Internet,Wifi,\"Air conditioning...  $145.00   \n",
       "2  Real Bed  {TV,\"Cable TV\",Internet,Wifi,\"Air conditioning...  $169.00   \n",
       "3  Real Bed  {TV,\"Cable TV\",Internet,Wifi,\"Air conditioning...   $99.00   \n",
       "4  Real Bed  {TV,\"Cable TV\",Internet,Wifi,\"Air conditioning...  $150.00   \n",
       "\n",
       "   weekly_price  monthly_price security_deposit cleaning_fee  guests_included  \\\n",
       "0             1              1            $0.00       $75.00                2   \n",
       "1             1              1            $0.00       $60.00                1   \n",
       "2             0              0            $0.00       $80.00                2   \n",
       "3             1              1        $1,000.00      $250.00                1   \n",
       "4             1              1        $1,000.00      $250.00                1   \n",
       "\n",
       "  extra_people  minimum_nights  maximum_nights  minimum_minimum_nights  \\\n",
       "0        $0.00              28            1125                      28   \n",
       "1        $0.00               3             730                       3   \n",
       "2        $8.00               3             730                       2   \n",
       "3        $0.00              91             365                      91   \n",
       "4        $0.00              91             365                      91   \n",
       "\n",
       "   maximum_minimum_nights  minimum_maximum_nights  maximum_maximum_nights  \\\n",
       "0                      28                    1125                    1125   \n",
       "1                       5                    1125                    1125   \n",
       "2                       5                     730                     730   \n",
       "3                      91                     365                     365   \n",
       "4                      91                     365                     365   \n",
       "\n",
       "   minimum_nights_avg_ntm  maximum_nights_avg_ntm calendar_updated  \\\n",
       "0                    28.0                  1125.0     2 months ago   \n",
       "1                     3.0                  1125.0      3 weeks ago   \n",
       "2                     3.0                   730.0      6 weeks ago   \n",
       "3                    91.0                   365.0     7 months ago   \n",
       "4                    91.0                   365.0      5 weeks ago   \n",
       "\n",
       "   availability_30  availability_60  availability_90  availability_365  \\\n",
       "0               11               20               20                97   \n",
       "1                1               14               44               307   \n",
       "2                1                4               19               266   \n",
       "3               17               42               42               290   \n",
       "4               28               29               29                42   \n",
       "\n",
       "   number_of_reviews  number_of_reviews_ltm first_review last_review  \\\n",
       "0                 16                      1   2015-07-10  2019-12-21   \n",
       "1                106                     22   2009-03-21  2019-10-31   \n",
       "2                115                     29   2009-08-06  2019-11-02   \n",
       "3                 24                      2   2014-08-12  2019-09-30   \n",
       "4                 31                      3   2009-09-21  2019-12-01   \n",
       "\n",
       "   review_scores_rating  review_scores_accuracy  review_scores_cleanliness  \\\n",
       "0                  99.0                    10.0                       10.0   \n",
       "1                  95.0                    10.0                       10.0   \n",
       "2                  96.0                    10.0                       10.0   \n",
       "3                  93.0                     9.0                        9.0   \n",
       "4                  95.0                    10.0                        9.0   \n",
       "\n",
       "   review_scores_checkin  review_scores_communication  review_scores_location  \\\n",
       "0                   10.0                         10.0                    10.0   \n",
       "1                   10.0                         10.0                     9.0   \n",
       "2                   10.0                         10.0                     9.0   \n",
       "3                   10.0                         10.0                    10.0   \n",
       "4                   10.0                         10.0                    10.0   \n",
       "\n",
       "   review_scores_value requires_license  license instant_bookable  \\\n",
       "0                 10.0                t        0                f   \n",
       "1                 10.0                t        1                t   \n",
       "2                 10.0                t        1                t   \n",
       "3                  9.0                t        0                f   \n",
       "4                  9.0                t        0                f   \n",
       "\n",
       "           cancellation_policy require_guest_profile_picture  \\\n",
       "0              super_strict_30                             f   \n",
       "1  strict_14_with_grace_period                             f   \n",
       "2  strict_14_with_grace_period                             f   \n",
       "3  strict_14_with_grace_period                             f   \n",
       "4  strict_14_with_grace_period                             f   \n",
       "\n",
       "  require_guest_phone_verification  calculated_host_listings_count  \\\n",
       "0                                f                               1   \n",
       "1                                f                               6   \n",
       "2                                f                               6   \n",
       "3                                f                               8   \n",
       "4                                f                               8   \n",
       "\n",
       "   calculated_host_listings_count_entire_homes  \\\n",
       "0                                            1   \n",
       "1                                            6   \n",
       "2                                            6   \n",
       "3                                            8   \n",
       "4                                            8   \n",
       "\n",
       "   calculated_host_listings_count_private_rooms  \\\n",
       "0                                             0   \n",
       "1                                             0   \n",
       "2                                             0   \n",
       "3                                             0   \n",
       "4                                             0   \n",
       "\n",
       "   calculated_host_listings_count_shared_rooms  reviews_per_month  \n",
       "0                                            0               0.28  \n",
       "1                                            0               0.79  \n",
       "2                                            0               0.88  \n",
       "3                                            0               0.35  \n",
       "4                                            0               0.24  "
      ]
     },
     "execution_count": 76,
     "metadata": {},
     "output_type": "execute_result"
    }
   ],
   "source": [
    "bos_cleaned.head()"
   ]
  },
  {
   "cell_type": "markdown",
   "metadata": {},
   "source": [
    "In this section, we will apply generalization, and adding synthetic records on this cleaned dataset to achieve 3-anonymous. The direct identifiers for identifying a specific listing in this dataset are id, name, listing_url, host_id, latitude&longitude. Text descriptions can also be unique identifiers such as summary, description, neighborhood_overview, notes, transit, access, iteraction and house_rules. If the research focus on this dataset is not NLP-relevant, we consider them to be not important, and can simply remove them from the dataset. \n",
    "\n",
    "The quasi-identifiers that we considered are: host_name, host_since, host_location,  host_listings_count, neighbourhood, zipcode, city, price, number_of_reviews, first_review & last_review, review_scores_rating, minimum_nights, maximum_nights, availability_30/60/90/365. None of these attributes reveal the unique information about the host or the listing itself. But once combined internally or with outside data sources, it becomes feasible to identify a specific listing or host. Url attributes can also be considered as quasi-identifiers, picture_url', 'host_url', 'host_picture_url', 'host_thumbnail_url'. If people search them on Google, it could lead to dangerous situation if being abused. However, the important attributes of these urls have already been included in this dataset. For the simplicity of this project, we simply remove these columns. Thus we need to make the dataset 3-anonymous on the above quasi-identifiers to protect the privacy of the Airbnb users."
   ]
  },
  {
   "cell_type": "markdown",
   "metadata": {},
   "source": [
    "Plot of quasi-identifiers, grouped in colors:  \n",
    "red: host relevant  \n",
    "yellow: geographic information  \n",
    "dark cyan: review relevant  \n",
    "dark blue: booking availability   \n",
    "![title](qs.png)"
   ]
  },
  {
   "cell_type": "code",
   "execution_count": 77,
   "metadata": {},
   "outputs": [],
   "source": [
    "bos_anonymized = bos_cleaned.copy()"
   ]
  },
  {
   "cell_type": "code",
   "execution_count": 78,
   "metadata": {},
   "outputs": [],
   "source": [
    "# First we remove unique identifiers and urls\n",
    "unique_col = ['id', 'listing_url','host_id','name'] # latitude & longitude addressed below\n",
    "urls = ['picture_url', 'host_url', 'host_picture_url', 'host_thumbnail_url']\n",
    "\n",
    "bos_anonymized = bos_anonymized.drop(columns = unique_col)\n",
    "bos_anonymized = bos_anonymized.drop(columns = urls)"
   ]
  },
  {
   "cell_type": "code",
   "execution_count": 79,
   "metadata": {},
   "outputs": [
    {
     "data": {
      "text/plain": [
       "t    3639\n",
       "f     206\n",
       "Name: is_location_exact, dtype: int64"
      ]
     },
     "execution_count": 79,
     "metadata": {},
     "output_type": "execute_result"
    }
   ],
   "source": [
    "bos_anonymized['is_location_exact'].value_counts()"
   ]
  },
  {
   "cell_type": "markdown",
   "metadata": {},
   "source": [
    "As discussed in the Ethics section, including exact locations violates privacy, and since we'll anonymize the exact locations anyway, we'll remove this column."
   ]
  },
  {
   "cell_type": "code",
   "execution_count": 80,
   "metadata": {},
   "outputs": [],
   "source": [
    "bos_anonymized = bos_anonymized.drop(columns = 'is_location_exact')"
   ]
  },
  {
   "cell_type": "markdown",
   "metadata": {},
   "source": [
    "For columns with (unique) descriptions, such as 'name' and 'description', we'll only take their lengths into account. We believe the lengths of these descriptions are correlated with the qualities of the listings, as hosts who provide detailed descriptions are likely to care about them more. Similarly, for 'amenities' and 'host_verifications', the more the merrir. So we'll include their length as well. "
   ]
  },
  {
   "cell_type": "code",
   "execution_count": 81,
   "metadata": {},
   "outputs": [],
   "source": [
    "texts = ['summary', 'space', 'description', 'neighborhood_overview', 'transit',\n",
    "             'access', 'interaction', 'house_rules', 'host_about', 'notes', 'amenities',\n",
    "             'host_verifications']\n",
    "for col in texts:\n",
    "    bos_anonymized[col] = bos_anonymized[col].str.len()\n",
    "    bos_anonymized[col] = bos_anonymized[col].fillna(0)"
   ]
  },
  {
   "cell_type": "markdown",
   "metadata": {},
   "source": [
    "As of exact locations(latitude, longitude), we'll add some random noise."
   ]
  },
  {
   "cell_type": "code",
   "execution_count": 82,
   "metadata": {},
   "outputs": [],
   "source": [
    "noise = np.random.normal(0, 1, size = len(bos_anonymized)) #standard normal\n",
    "\n",
    "bos_anonymized['latitude'] = bos_anonymized['latitude'] + noise\n",
    "bos_anonymized['longitude'] = bos_anonymized['longitude'] + noise"
   ]
  },
  {
   "cell_type": "markdown",
   "metadata": {},
   "source": [
    "Now we want to convert this dataset to a 3-anonymous dataset."
   ]
  },
  {
   "cell_type": "code",
   "execution_count": 83,
   "metadata": {},
   "outputs": [],
   "source": [
    "qsi = ['host_name', 'host_since', 'host_location', 'host_listings_count',\n",
    "      'street','neighbourhood', \n",
    "       'zipcode', 'city', 'price', 'number_of_reviews', 'first_review', 'last_review', 'review_scores_rating', \n",
    "       'minimum_nights', 'maximum_nights', 'availability_30', 'availability_60','availability_90',\n",
    "       'availability_365']\n",
    "qi = {} # qi is a dictionary where the key is the string concatenation of all the columns in a row, \n",
    "# and the value is a list of two objects: frequency of this string concatenation, and a list of indices where this concatenation appears\n",
    "quasi_bos = bos_anonymized[qsi]\n",
    "for i in range(len(quasi_bos)):\n",
    "    string = str(list(quasi_bos.loc[i]))\n",
    "    if string in qi:\n",
    "        qi[string][0] = qi[string][0] + 1\n",
    "        qi[string][1].append(i)\n",
    "    else:\n",
    "        qi[string] = [1,[i]]"
   ]
  },
  {
   "cell_type": "code",
   "execution_count": 84,
   "metadata": {},
   "outputs": [
    {
     "name": "stdout",
     "output_type": "stream",
     "text": [
      "(61, 79)\n"
     ]
    }
   ],
   "source": [
    "k = 3\n",
    "orig_k_3 = [v[1] for (key,v) in qi.items() if v[0] >= 3]\n",
    "orig_k_3 = list(chain(*orig_k_3))\n",
    "orig_k_3_df = bos_anonymized.loc[orig_k_3] #3-anonymous dataset\n",
    "print(orig_k_3_df.shape)"
   ]
  },
  {
   "cell_type": "markdown",
   "metadata": {},
   "source": [
    "With suppresion, we have only 61 records left. Thus we decided to try generalization, blurring and adding synthetic records.\n",
    "'Host_name' may not be a direct identifier, however, we think it is better to simply remove it due to privacy issues."
   ]
  },
  {
   "cell_type": "code",
   "execution_count": 85,
   "metadata": {},
   "outputs": [],
   "source": [
    "bos_anonymized = bos_anonymized.drop('host_name', axis= 1)"
   ]
  },
  {
   "cell_type": "markdown",
   "metadata": {},
   "source": [
    "For datetime attributes such as 'host_since', 'first_review', 'last_review', we keep only the years."
   ]
  },
  {
   "cell_type": "code",
   "execution_count": 86,
   "metadata": {},
   "outputs": [],
   "source": [
    "time = ['host_since', 'first_review', 'last_review']\n",
    "for col in time:\n",
    "    list_time = pd.to_datetime(bos_anonymized[col])\n",
    "    bos_anonymized[col] = [i.year for i in list_time]"
   ]
  },
  {
   "cell_type": "markdown",
   "metadata": {},
   "source": [
    "For geographic attributes, some location columns contain only duplicated information with other coluns, we'll only keep 'city' since city is a more general attribute, and the anonymized 'latitute' 'longitude', and remove the rest. A more important reason that we keep city is that we would like to make this anonymization procedure generalizable to other, bigger Airbnb datasets as well, say the whole U.S. In that case, keeping the city variable can be beneficial. As you will see later in the modeling, we do not keep the city variable since it does not contain too much information for our research purpose. Note that previously we make an indicator variable host_neighborhood to suggest whether host_neighborhood is the same as neighbourhood. Here we will remove host_location for duplication and also privacy issue."
   ]
  },
  {
   "cell_type": "code",
   "execution_count": 87,
   "metadata": {},
   "outputs": [],
   "source": [
    "loc_col = ['street','neighbourhood', 'state', 'zipcode','host_location']\n",
    "bos_anonymized = bos_anonymized.drop(columns = loc_col)"
   ]
  },
  {
   "cell_type": "code",
   "execution_count": 88,
   "metadata": {},
   "outputs": [],
   "source": [
    "bos_anonymized ['city'] = [str(i).split(',')[0] for i in bos_anonymized ['city']]"
   ]
  },
  {
   "cell_type": "markdown",
   "metadata": {},
   "source": [
    "For count variables such as 'price','host_listings_count','number_of_reviews','review_scores_rating', 'minimum_nights', 'maximum_nights', 'availability_30', 'availability_60','availability_90', 'availability_365' , we assign them to five different classes: very_low, low, average, high, and very_high according to their values."
   ]
  },
  {
   "cell_type": "code",
   "execution_count": 89,
   "metadata": {
    "scrolled": true
   },
   "outputs": [],
   "source": [
    "bos_anonymized['price'] = bos_anonymized['price'].map(lambda x:float(x.replace(',', '').strip('$')))"
   ]
  },
  {
   "cell_type": "code",
   "execution_count": 90,
   "metadata": {},
   "outputs": [],
   "source": [
    "def reassign(x,quantiles):\n",
    "    low = quantiles[0]\n",
    "    average = quantiles[1]\n",
    "    high = quantiles[2]\n",
    "    if x <= low:\n",
    "        return 'low'\n",
    "    elif low < x <= average:\n",
    "        return 'average'\n",
    "    else:\n",
    "        return 'high'\n",
    "def blurr(df,col,k=3):\n",
    "    df[col] = df[col].fillna(0)\n",
    "    quantiles = list(df[col].quantile([.3, .6, .9]))\n",
    "    df[col] = df[col].map(lambda x:reassign(x,quantiles))\n",
    "    return df[col]    "
   ]
  },
  {
   "cell_type": "code",
   "execution_count": 91,
   "metadata": {},
   "outputs": [],
   "source": [
    "counts = ['price','host_listings_count','number_of_reviews','review_scores_rating', 'minimum_nights', 'maximum_nights', 'availability_30', 'availability_60','availability_90', 'availability_365']\n",
    "for col in counts:\n",
    "    bos_anonymized[col] = blurr(bos_anonymized, col)   "
   ]
  },
  {
   "cell_type": "code",
   "execution_count": 92,
   "metadata": {},
   "outputs": [],
   "source": [
    "qsi = ['host_since','host_listings_count',\n",
    "      'city', 'price', 'number_of_reviews', 'first_review', 'last_review', 'review_scores_rating', \n",
    "       'minimum_nights', 'maximum_nights', 'availability_30', 'availability_60','availability_90',\n",
    "       'availability_365']\n",
    "qi = {}\n",
    "quasi_nyc = bos_anonymized[qsi]\n",
    "for i in range(len(quasi_nyc)):\n",
    "    string = str(list(quasi_nyc.loc[i]))\n",
    "    if string in qi:\n",
    "        qi[string][0] = qi[string][0] + 1\n",
    "        qi[string][1].append(i)\n",
    "    else:\n",
    "        qi[string] = [1,[i]]"
   ]
  },
  {
   "cell_type": "code",
   "execution_count": 93,
   "metadata": {},
   "outputs": [
    {
     "name": "stdout",
     "output_type": "stream",
     "text": [
      "(803, 73)\n"
     ]
    }
   ],
   "source": [
    "k = 3\n",
    "k_3 = [v[1] for (key,v) in qi.items() if v[0] >= k]\n",
    "k_3 = list(chain(*k_3))\n",
    "bos_anonymized_3 = bos_anonymized.loc[k_3] #3-anonymous dataset\n",
    "print(bos_anonymized_3.shape)"
   ]
  },
  {
   "cell_type": "code",
   "execution_count": 94,
   "metadata": {
    "scrolled": true
   },
   "outputs": [
    {
     "name": "stdout",
     "output_type": "stream",
     "text": [
      "(3845, 73)\n"
     ]
    }
   ],
   "source": [
    "print(bos_anonymized.shape) # original dataset shape"
   ]
  },
  {
   "cell_type": "markdown",
   "metadata": {},
   "source": [
    "After generalization and blurring, we have 803 records left. The final step is to add synthetic records to make this dataset 3-anonymous."
   ]
  },
  {
   "cell_type": "code",
   "execution_count": 95,
   "metadata": {},
   "outputs": [
    {
     "data": {
      "text/plain": [
       "5304"
      ]
     },
     "execution_count": 95,
     "metadata": {},
     "output_type": "execute_result"
    }
   ],
   "source": [
    "k_3_add = {key:v for (key,v) in qi.items() if v[0] < k}\n",
    "rows_list3 = []\n",
    "for (key,value) in k_3_add.items():\n",
    "    rows_list3.append(np.repeat(key,(k-value[0])))\n",
    "rows_list3 = [item for sublist in rows_list3 for item in sublist]\n",
    "len(rows_list3) # 5304 items to be added when k = 3"
   ]
  },
  {
   "cell_type": "markdown",
   "metadata": {},
   "source": [
    "To make 5304 synthetic records, we resample values from the bos_anonymized dataset for columns that are not quasi-identifiers, and use the synthetic quasi-identifier values for the columns in qsi (i.e. quasi-identifiers)."
   ]
  },
  {
   "cell_type": "code",
   "execution_count": 96,
   "metadata": {},
   "outputs": [],
   "source": [
    "add3 = pd.DataFrame(rows_list3)\n",
    "add3 = add3.rename(columns = {0:\"A\"})\n",
    "bos_quasi3 = pd.DataFrame([[i.replace('\\'', '').replace(' ','') for i in a.split(',')] for a in add3.A.str.strip('][')  ],\n",
    " columns=['host_since', 'host_listings_count',\n",
    "      'city', 'price', 'number_of_reviews', 'first_review', 'last_review', 'review_scores_rating', \n",
    "       'minimum_nights', 'maximum_nights', 'availability_30', 'availability_60','availability_90',\n",
    "       'availability_365']) "
   ]
  },
  {
   "cell_type": "code",
   "execution_count": 97,
   "metadata": {},
   "outputs": [],
   "source": [
    "add3_df = bos_anonymized.sample(n=5304,replace= True,random_state=1)\n",
    "add3_df[['host_since', 'host_listings_count',\n",
    "      'city', 'price', 'number_of_reviews', 'first_review', 'last_review', 'review_scores_rating', \n",
    "       'minimum_nights', 'maximum_nights', 'availability_30', 'availability_60','availability_90',\n",
    "       'availability_365']] = bos_quasi3[['host_since', 'host_listings_count',\n",
    "      'city', 'price', 'number_of_reviews', 'first_review', 'last_review', 'review_scores_rating', \n",
    "       'minimum_nights', 'maximum_nights', 'availability_30', 'availability_60','availability_90',\n",
    "       'availability_365']]"
   ]
  },
  {
   "cell_type": "code",
   "execution_count": 98,
   "metadata": {},
   "outputs": [
    {
     "data": {
      "text/plain": [
       "(9149, 73)"
      ]
     },
     "execution_count": 98,
     "metadata": {},
     "output_type": "execute_result"
    }
   ],
   "source": [
    "bos_anonymized_3 = bos_anonymized.append(add3_df, ignore_index = True) # 3-anonymous dataset\n",
    "bos_anonymized_3.shape # (9149, 73)"
   ]
  },
  {
   "cell_type": "markdown",
   "metadata": {},
   "source": [
    "Now we have the 3-anonymous dataset bos_anonymized_3 that has 9149 rows, and we try to build the similar random forest model, and see if we can get similar results."
   ]
  },
  {
   "cell_type": "markdown",
   "metadata": {},
   "source": [
    "#### pre-processing"
   ]
  },
  {
   "cell_type": "code",
   "execution_count": 99,
   "metadata": {},
   "outputs": [],
   "source": [
    "bos_model_anonymized_3  = bos_anonymized_3.copy() "
   ]
  },
  {
   "cell_type": "markdown",
   "metadata": {},
   "source": [
    "Here we follow the similar data preprocessing procedure as above. Some location columns contain only duplicated information with other coluns, we'll only keep the anonymized 'latitute' 'longitude', and remove the rest."
   ]
  },
  {
   "cell_type": "code",
   "execution_count": 100,
   "metadata": {},
   "outputs": [],
   "source": [
    "loc_col = ['neighbourhood_cleansed', 'city',   'smart_location']\n",
    "bos_model_anonymized_3 = bos_model_anonymized_3.drop(columns = loc_col)\n"
   ]
  },
  {
   "cell_type": "code",
   "execution_count": 101,
   "metadata": {},
   "outputs": [],
   "source": [
    "date_col = ['host_since', 'first_review', 'last_review']\n",
    "for col in date_col:\n",
    "    bos_model_anonymized_3[col] = bos_model_anonymized_3[col].fillna(0)\n",
    "    bos_model_anonymized_3[col] = [float(i) for i in  bos_model_anonymized_3[col]]"
   ]
  },
  {
   "cell_type": "code",
   "execution_count": 102,
   "metadata": {
    "scrolled": true
   },
   "outputs": [
    {
     "data": {
      "text/plain": [
       "0       2 months ago\n",
       "1        3 weeks ago\n",
       "2        6 weeks ago\n",
       "3       7 months ago\n",
       "4        5 weeks ago\n",
       "            ...     \n",
       "9144      6 days ago\n",
       "9145           today\n",
       "9146           today\n",
       "9147           today\n",
       "9148    3 months ago\n",
       "Name: calendar_updated, Length: 9149, dtype: object"
      ]
     },
     "execution_count": 102,
     "metadata": {},
     "output_type": "execute_result"
    }
   ],
   "source": [
    "bos_model_anonymized_3.calendar_updated"
   ]
  },
  {
   "cell_type": "markdown",
   "metadata": {},
   "source": [
    "Now we'll deal with text and categorical columns using the same procedure as above."
   ]
  },
  {
   "cell_type": "code",
   "execution_count": 103,
   "metadata": {},
   "outputs": [
    {
     "name": "stdout",
     "output_type": "stream",
     "text": [
      "host_response_time:  4\n",
      "host_response_rate:  35\n",
      "host_acceptance_rate:  73\n",
      "host_neighbourhood:  2\n",
      "host_listings_count:  3\n",
      "property_type:  21\n",
      "room_type:  4\n",
      "bed_type:  5\n",
      "price:  3\n",
      "security_deposit:  57\n",
      "cleaning_fee:  119\n",
      "extra_people:  42\n",
      "minimum_nights:  3\n",
      "maximum_nights:  3\n",
      "calendar_updated:  76\n",
      "availability_30:  3\n",
      "availability_60:  3\n",
      "availability_90:  3\n",
      "availability_365:  3\n",
      "number_of_reviews:  3\n",
      "review_scores_rating:  3\n",
      "requires_license:  2\n",
      "instant_bookable:  2\n",
      "cancellation_policy:  6\n",
      "require_guest_profile_picture:  2\n",
      "require_guest_phone_verification:  2\n"
     ]
    }
   ],
   "source": [
    "for col in bos_model_anonymized_3.columns:\n",
    "    if bos_model_anonymized_3[col].dtype not in ['float64', 'int64', 'datetime64[ns]']:\n",
    "        print(col + ': ', len(bos_model_anonymized_3[col].value_counts()))"
   ]
  },
  {
   "cell_type": "code",
   "execution_count": 104,
   "metadata": {},
   "outputs": [],
   "source": [
    "num_rate_col = ['host_response_rate', 'host_acceptance_rate']\n",
    "num_fee_col = ['security_deposit', 'cleaning_fee', 'extra_people']\n",
    "for col in num_rate_col:\n",
    "    bos_model_anonymized_3[col] = bos_model_anonymized_3[col].fillna('0')\n",
    "    bos_model_anonymized_3[col] = bos_model_anonymized_3[col].str.rstrip('%').astype(float)/100\n",
    "for col in num_fee_col:\n",
    "    bos_model_anonymized_3[col] = bos_model_anonymized_3[col].fillna('0')\n",
    "    bos_model_anonymized_3[col] = bos_model_anonymized_3[col].str.strip('$,.').str.replace(',','').astype(float)"
   ]
  },
  {
   "cell_type": "code",
   "execution_count": 105,
   "metadata": {},
   "outputs": [],
   "source": [
    "bos_model_anonymized_3['host_neighbourhood'] = bos_model_anonymized_3['host_neighbourhood'].astype(int)\n",
    "bin_col = ['requires_license','instant_bookable', 'require_guest_profile_picture', 'require_guest_phone_verification']\n",
    "for col in bin_col:\n",
    "    bos_model_anonymized_3[col] = bos_model_anonymized_3[col].map({'f': 0, 't': 1})\n",
    "    "
   ]
  },
  {
   "cell_type": "code",
   "execution_count": 106,
   "metadata": {},
   "outputs": [],
   "source": [
    "# quickest replies have the highest ranking, we'll assume NaNs represent not replying at all\n",
    "response_dict = {'a few days or more': 1, 'within a day': 2, 'within a few hours': 3, 'within an hour': 4}\n",
    "bos_model_anonymized_3['host_response_time'] = bos_model_anonymized_3['host_response_time'].map(response_dict)\n",
    "bos_model_anonymized_3['host_response_time'] = bos_model_anonymized_3['host_response_time'].fillna(0)\n",
    "cancel_dict = {'flexible': 6,\n",
    "               'moderate': 5,\n",
    "               'strict_14_with_grace_period': 4, \n",
    "               'strict': 3,\n",
    "               'super_strict_60': 2,\n",
    "               'super_strict_30': 1}\n",
    "bos_model_anonymized_3['cancellation_policy'] = bos_model_anonymized_3['cancellation_policy'].map(cancel_dict)\n",
    "bos_model_anonymized_3['cancellation_policy'] = bos_model_anonymized_3['cancellation_policy'].fillna(0)\n"
   ]
  },
  {
   "cell_type": "code",
   "execution_count": 107,
   "metadata": {},
   "outputs": [],
   "source": [
    "bos_model_anonymized_3.calendar_updated = bos_model_anonymized_3.calendar_updated.apply(convert_days)"
   ]
  },
  {
   "cell_type": "code",
   "execution_count": 108,
   "metadata": {},
   "outputs": [],
   "source": [
    "nominal_col = ['property_type', 'room_type', 'bed_type']\n",
    "for col in nominal_col:\n",
    "    if bos_model_anonymized_3[col].isna().sum() != 0:\n",
    "        drop_first = False\n",
    "    else:\n",
    "        drop_first = True\n",
    "    bos_model_anonymized_3 = pd.concat([bos_model_anonymized_3,pd.get_dummies(bos_model_anonymized_3[col], drop_first = drop_first, dtype = float)],axis=1)\n",
    "bos_model_anonymized_3 = bos_model_anonymized_3.drop(nominal_col,axis = 1)"
   ]
  },
  {
   "cell_type": "code",
   "execution_count": 109,
   "metadata": {},
   "outputs": [],
   "source": [
    "rate_dict = {'low': 0,'average': 1,'high': 2}\n",
    "rate_col=['price','host_listings_count','number_of_reviews','review_scores_rating', 'minimum_nights', \n",
    "               'maximum_nights', 'availability_30', 'availability_60','availability_90', 'availability_365']\n",
    "for col in rate_col:\n",
    "    bos_model_anonymized_3[col] = bos_model_anonymized_3[col].map(rate_dict)\n"
   ]
  },
  {
   "cell_type": "markdown",
   "metadata": {},
   "source": [
    "For fair result comparison, we removed the same correlated columns."
   ]
  },
  {
   "cell_type": "code",
   "execution_count": 110,
   "metadata": {},
   "outputs": [],
   "source": [
    "corr_col = [ 'host_total_listings_count',\n",
    "            'minimum_minimum_nights', 'minimum_maximum_nights', 'minimum_nights_avg_ntm',\n",
    "            'maximum_nights_avg_ntm', 'number_of_reviews_ltm', 'calculated_host_listings_count_entire_homes']\n",
    "bos_model_anonymized_3 = bos_model_anonymized_3.drop(columns = corr_col)"
   ]
  },
  {
   "cell_type": "code",
   "execution_count": 111,
   "metadata": {},
   "outputs": [],
   "source": [
    "na_cols = ['review_scores_location',         \n",
    "'review_scores_checkin',       \n",
    "'review_scores_accuracy',\n",
    "'review_scores_communication',\n",
    "'review_scores_cleanliness',\n",
    "'review_scores_rating',\n",
    "'last_review',\n",
    "'first_review',\n",
    "'reviews_per_month',\n",
    "'beds',\n",
    "'bedrooms',\n",
    "'bathrooms']   \n",
    "for c in na_cols:\n",
    "    bos_model_anonymized_3[c] = bos_model_anonymized_3[c].fillna(0)"
   ]
  },
  {
   "cell_type": "markdown",
   "metadata": {},
   "source": [
    "### Modeling"
   ]
  },
  {
   "cell_type": "code",
   "execution_count": 116,
   "metadata": {},
   "outputs": [
    {
     "data": {
      "text/plain": [
       "10.0    3198\n",
       "9.0     3036\n",
       "8.0      660\n",
       "7.0      133\n",
       "6.0       72\n",
       "2.0       35\n",
       "4.0       25\n",
       "5.0        6\n",
       "3.0        1\n",
       "Name: review_scores_value, dtype: int64"
      ]
     },
     "execution_count": 116,
     "metadata": {},
     "output_type": "execute_result"
    }
   ],
   "source": [
    "bos_model_anonymized_3 = bos_model_anonymized_3[~bos_model_anonymized_3['review_scores_value'].isna()]\n",
    "X_ano, y_ano = bos_model_anonymized_3.drop(columns = 'review_scores_value'), bos_model_anonymized_3['review_scores_value']\n",
    "y_ano.value_counts()"
   ]
  },
  {
   "cell_type": "code",
   "execution_count": 117,
   "metadata": {},
   "outputs": [
    {
     "name": "stdout",
     "output_type": "stream",
     "text": [
      "Proportion of good reviews:  0.5537259279933017\n",
      "Proportion of not so good reviews:  0.4462740720066983\n"
     ]
    }
   ],
   "source": [
    "y_ano = (y_ano == 10).astype(int)\n",
    "print('Proportion of good reviews: ', y_ano.value_counts()[0]/len(y_ano))\n",
    "print('Proportion of not so good reviews: ', y_ano.value_counts()[1]/len(y_ano))"
   ]
  },
  {
   "cell_type": "code",
   "execution_count": 118,
   "metadata": {},
   "outputs": [],
   "source": [
    "# split the data\n",
    "X_train_ano, X_test_ano, y_train_ano, y_test_ano = train_test_split(X_ano, y_ano, test_size=0.2, random_state=42)"
   ]
  },
  {
   "cell_type": "code",
   "execution_count": 123,
   "metadata": {},
   "outputs": [],
   "source": [
    "rf = RandomForestClassifier().fit(X_train_ano, y_train_ano)"
   ]
  },
  {
   "cell_type": "code",
   "execution_count": 124,
   "metadata": {},
   "outputs": [
    {
     "name": "stdout",
     "output_type": "stream",
     "text": [
      "mse:  0.08158995815899582\n",
      "[[751  44]\n",
      " [ 73 566]]\n"
     ]
    }
   ],
   "source": [
    "prediction = list(rf.predict(X_test_ano))\n",
    "print('mse: ', mean_squared_error(prediction,y_test_ano))\n",
    "cm = confusion_matrix(y_test_ano,prediction)\n",
    "tn, fp, fn, tp = cm.ravel()\n",
    "print(cm)"
   ]
  },
  {
   "cell_type": "code",
   "execution_count": 125,
   "metadata": {},
   "outputs": [
    {
     "data": {
      "image/png": "[encoded data removed]",
      "text/plain": [
       "<Figure size 432x288 with 1 Axes>"
      ]
     },
     "metadata": {},
     "output_type": "display_data"
    },
    {
     "name": "stdout",
     "output_type": "stream",
     "text": [
      "ROC-AUC score:  0.971473705967461\n"
     ]
    }
   ],
   "source": [
    "proba = rf.predict_proba(X_test_ano)[:,1]\n",
    "rf_auc = roc_auc_score(y_test_ano, proba)\n",
    "rf_fpr, rf_tpr, _ = roc_curve(y_test_ano, proba)\n",
    "# plot the roc curve for the model\n",
    "pyplot.plot(rf_fpr, rf_tpr, marker='.', label='Random Forest')\n",
    "# axis labels\n",
    "pyplot.xlabel('False Positive Rate')\n",
    "pyplot.ylabel('True Positive Rate')\n",
    "# show the legend\n",
    "pyplot.legend()\n",
    "# show the plot\n",
    "pyplot.show()\n",
    "print('ROC-AUC score: ',rf_auc)"
   ]
  },
  {
   "cell_type": "code",
   "execution_count": 126,
   "metadata": {
    "collapsed": true
   },
   "outputs": [
    {
     "name": "stdout",
     "output_type": "stream",
     "text": [
      "Variable: review_scores_cleanliness Importance: 0.1\n",
      "Variable: review_scores_accuracy Importance: 0.06\n",
      "Variable: review_scores_communication Importance: 0.05\n",
      "Variable: calculated_host_listings_count Importance: 0.04\n",
      "Variable: summary              Importance: 0.03\n",
      "Variable: latitude             Importance: 0.03\n",
      "Variable: longitude            Importance: 0.03\n",
      "Variable: amenities            Importance: 0.03\n",
      "Variable: review_scores_checkin Importance: 0.03\n",
      "Variable: reviews_per_month    Importance: 0.03\n",
      "Variable: space                Importance: 0.02\n",
      "Variable: neighborhood_overview Importance: 0.02\n",
      "Variable: notes                Importance: 0.02\n",
      "Variable: transit              Importance: 0.02\n",
      "Variable: access               Importance: 0.02\n",
      "Variable: interaction          Importance: 0.02\n",
      "Variable: house_rules          Importance: 0.02\n",
      "Variable: host_about           Importance: 0.02\n",
      "Variable: host_verifications   Importance: 0.02\n",
      "Variable: cleaning_fee         Importance: 0.02\n",
      "Variable: calendar_updated     Importance: 0.02\n",
      "Variable: review_scores_location Importance: 0.02\n",
      "Variable: cancellation_policy  Importance: 0.02\n",
      "Variable: description          Importance: 0.01\n",
      "Variable: host_since           Importance: 0.01\n",
      "Variable: host_response_time   Importance: 0.01\n",
      "Variable: host_response_rate   Importance: 0.01\n",
      "Variable: host_acceptance_rate Importance: 0.01\n",
      "Variable: host_neighbourhood   Importance: 0.01\n",
      "Variable: accommodates         Importance: 0.01\n",
      "Variable: bathrooms            Importance: 0.01\n",
      "Variable: bedrooms             Importance: 0.01\n",
      "Variable: beds                 Importance: 0.01\n",
      "Variable: price                Importance: 0.01\n",
      "Variable: security_deposit     Importance: 0.01\n",
      "Variable: guests_included      Importance: 0.01\n",
      "Variable: extra_people         Importance: 0.01\n",
      "Variable: maximum_minimum_nights Importance: 0.01\n",
      "Variable: maximum_maximum_nights Importance: 0.01\n",
      "Variable: availability_30      Importance: 0.01\n",
      "Variable: availability_60      Importance: 0.01\n",
      "Variable: availability_90      Importance: 0.01\n",
      "Variable: availability_365     Importance: 0.01\n",
      "Variable: number_of_reviews    Importance: 0.01\n",
      "Variable: first_review         Importance: 0.01\n",
      "Variable: last_review          Importance: 0.01\n",
      "Variable: review_scores_rating Importance: 0.01\n",
      "Variable: license              Importance: 0.01\n",
      "Variable: instant_bookable     Importance: 0.01\n",
      "Variable: calculated_host_listings_count_private_rooms Importance: 0.01\n",
      "Variable: host_listings_count  Importance: 0.0\n",
      "Variable: weekly_price         Importance: 0.0\n",
      "Variable: monthly_price        Importance: 0.0\n",
      "Variable: minimum_nights       Importance: 0.0\n",
      "Variable: maximum_nights       Importance: 0.0\n",
      "Variable: requires_license     Importance: 0.0\n",
      "Variable: require_guest_profile_picture Importance: 0.0\n",
      "Variable: require_guest_phone_verification Importance: 0.0\n",
      "Variable: calculated_host_listings_count_shared_rooms Importance: 0.0\n",
      "Variable: Apartment            Importance: 0.0\n",
      "Variable: Barn                 Importance: 0.0\n",
      "Variable: Bed and breakfast    Importance: 0.0\n",
      "Variable: Boat                 Importance: 0.0\n",
      "Variable: Boutique hotel       Importance: 0.0\n",
      "Variable: Bungalow             Importance: 0.0\n",
      "Variable: Castle               Importance: 0.0\n",
      "Variable: Condominium          Importance: 0.0\n",
      "Variable: Cottage              Importance: 0.0\n",
      "Variable: Guest suite          Importance: 0.0\n",
      "Variable: Guesthouse           Importance: 0.0\n",
      "Variable: Hostel               Importance: 0.0\n",
      "Variable: Hotel                Importance: 0.0\n",
      "Variable: House                Importance: 0.0\n",
      "Variable: Houseboat            Importance: 0.0\n",
      "Variable: Loft                 Importance: 0.0\n",
      "Variable: Other                Importance: 0.0\n",
      "Variable: Serviced apartment   Importance: 0.0\n",
      "Variable: Townhouse            Importance: 0.0\n",
      "Variable: Villa                Importance: 0.0\n",
      "Variable: Hotel room           Importance: 0.0\n",
      "Variable: Private room         Importance: 0.0\n",
      "Variable: Shared room          Importance: 0.0\n",
      "Variable: Airbed               Importance: 0.0\n",
      "Variable: Couch                Importance: 0.0\n",
      "Variable: Futon                Importance: 0.0\n",
      "Variable: Pull-out Sofa        Importance: 0.0\n",
      "Variable: Real Bed             Importance: 0.0\n"
     ]
    }
   ],
   "source": [
    "# Get numerical feature importances\n",
    "importances = list(rf.feature_importances_)\n",
    "feature_list = X_train_ano.columns\n",
    "# List of tuples with variable and importance\n",
    "feature_importances = [(feature, round(importance, 2)) for feature, importance in zip(feature_list, importances)]\n",
    "# Sort the feature importances by most important first\n",
    "feature_importances = sorted(feature_importances, key = lambda x: x[1], reverse = True)\n",
    "# Print out the feature and importances \n",
    "[print('Variable: {:20} Importance: {}'.format(*pair)) for pair in feature_importances];"
   ]
  },
  {
   "cell_type": "code",
   "execution_count": 127,
   "metadata": {},
   "outputs": [],
   "source": [
    "selected_columns = [name for (name,value) in feature_importances][:10]\n",
    "selected_importances = [value for (name,value) in feature_importances][:10]"
   ]
  },
  {
   "cell_type": "code",
   "execution_count": 128,
   "metadata": {
    "scrolled": true
   },
   "outputs": [
    {
     "data": {
      "image/png": "[encoded data removed]",
      "text/plain": [
       "<Figure size 432x288 with 1 Axes>"
      ]
     },
     "metadata": {},
     "output_type": "display_data"
    }
   ],
   "source": [
    "plt.style.use('fivethirtyeight')\n",
    "# list of x locations for plotting\n",
    "y_values = list(range(len(selected_columns)))\n",
    "# Make a bar chart\n",
    "plt.barh(y_values, selected_importances, orientation = 'horizontal')\n",
    "plt.yticks(y_values, selected_columns, rotation='horizontal')\n",
    "plt.gca().invert_yaxis()\n",
    "# Axis labels and title\n",
    "plt.xlabel('Importance'); plt.ylabel('Variable'); plt.title('Variable Importances');"
   ]
  },
  {
   "cell_type": "markdown",
   "metadata": {},
   "source": [
    "We see a clear improvement in terms of the model performance using the random forest with default parameter values. To strengthen the validity of our findings, we will use cross-validation to tune the max_depth and max_features, and see if the results will remain the same."
   ]
  },
  {
   "cell_type": "code",
   "execution_count": 136,
   "metadata": {},
   "outputs": [
    {
     "name": "stdout",
     "output_type": "stream",
     "text": [
      "Best roc_auc score before anonymization:  0.8627691407744055\n"
     ]
    }
   ],
   "source": [
    "from sklearn.model_selection import GridSearchCV\n",
    "param_grid = {\n",
    "    'max_depth': [10, 50, 100],\n",
    "    'max_features': [10, 20, 30, 50, 70],\n",
    "    'min_samples_split': [2, 5, 10]}\n",
    "\n",
    "rf1 = RandomForestClassifier()\n",
    "grid_search = GridSearchCV(estimator = rf1, param_grid = param_grid, \n",
    "                          cv = 3, n_jobs = -1, verbose = 0)\n",
    "grid_search.fit(X_train, y_train)\n",
    "grid_search.best_params_\n",
    "best_grid = grid_search.best_estimator_\n",
    "proba = best_grid.predict_proba(X_test)[:,1]\n",
    "rf_auc = roc_auc_score(y_test, proba)\n",
    "print('Best roc_auc score before anonymization: ',rf_auc)\n"
   ]
  },
  {
   "cell_type": "code",
   "execution_count": 137,
   "metadata": {},
   "outputs": [
    {
     "name": "stdout",
     "output_type": "stream",
     "text": [
      "Best roc_auc score after anonymization:  0.9720396452790818\n"
     ]
    }
   ],
   "source": [
    "param_grid = {\n",
    "    'max_depth': [10, 50, 100],\n",
    "    'max_features': [10, 20, 30, 50, 70],\n",
    "    'min_samples_split': [2, 5, 10]}\n",
    "\n",
    "rf2 = RandomForestClassifier()\n",
    "grid_search = GridSearchCV(estimator = rf2, param_grid = param_grid, \n",
    "                          cv = 3, n_jobs = -1, verbose = 0)\n",
    "grid_search.fit(X_train_ano, y_train_ano)\n",
    "grid_search.best_params_\n",
    "best_grid = grid_search.best_estimator_\n",
    "proba = best_grid.predict_proba(X_test_ano)[:,1]\n",
    "rf_auc = roc_auc_score(y_test_ano, proba)\n",
    "print('Best roc_auc score after anonymization: ',rf_auc)\n"
   ]
  },
  {
   "cell_type": "markdown",
   "metadata": {},
   "source": [
    "After tuning the hyper parameters: max_depth, max_features, and min_samples_split, we see that the dataset anonymization still yields a better performance with the random forest model chosen by the cross validation. Therefore, we feel safe to say that the anonymization procedure indeed helps improve the model performance."
   ]
  },
  {
   "cell_type": "markdown",
   "metadata": {},
   "source": [
    "## Results <a id = \"6\"></a>\n",
    "\n",
    "\n",
    "Using the same model, we found that the performance of the random forest model improved substantially. To be more specific, the auc-roc score increased from 0.84 to 0.97. This is true even when we tune the hyperparameters of the random forest. We believe that this difference is due to that the dataset before anonymization contains too much noise. And some noise variables are seen as false signals, affecting the model’s performance. To check our intuition, we also draw the variable importance. They are mostly similar, with still some differences. The id column appears in the first plot (before anonymization). Maybe the listings that show up earlier in the Airbnb are generally more popular or the opposite, but we generally believe that this should be irrelevant to the review scores that we are considering. So without anonymization, the random forest may overfit the dataset and mistakenly identify noise columns as signals. \n"
   ]
  },
  {
   "cell_type": "markdown",
   "metadata": {},
   "source": [
    "## Conclusion <a id = \"7\"></a>\n",
    "\n",
    "Our project has some limitations as well. As the last step of our anonymization, we added synthetic records. One alternative way is to use other cities' data. However, since the variables that are not quasi-identifiers may also contain geographic related information in this dataset, adding another city's records may destroy the internal structure of our Boston dataset. In the end, we decided not to take this approach. But this is certainly a method to try with some considerations in teh future.\n",
    "\n",
    "To conclude, anonymization helps protect the host privacy whether it is host relevant or listing relevant, such as the location, and the year when the host joined airbnb. It is compatible for the modeling analysis, as we saw in the above random forest procedure. It removes noise from the dataset, relieves the overfitting problem and can help the model achieve a better performance. Therefore, we suggest that before being published publicly for research use, the Airbnb dataset should go through some anonymization procedure similar to the one we purpose here, since this may not weaken the model performance and can indeed help the model better select important features. More importantly, as we have stressed a lot in this class, this anonymization procedure helps protect users' privacy, which should be paid with more attention by the Big Tech companies such as Airbnb.\n"
   ]
  },
  {
   "cell_type": "code",
   "execution_count": null,
   "metadata": {},
   "outputs": [],
   "source": []
  }
 ],
 "metadata": {
  "kernelspec": {
   "display_name": "Python 3",
   "language": "python",
   "name": "python3"
  },
  "language_info": {
   "codemirror_mode": {
    "name": "ipython",
    "version": 3
   },
   "file_extension": ".py",
   "mimetype": "text/x-python",
   "name": "python",
   "nbconvert_exporter": "python",
   "pygments_lexer": "ipython3",
   "version": "3.7.4"
  }
 },
 "nbformat": 4,
 "nbformat_minor": 2
}
